{
 "cells": [
  {
   "cell_type": "code",
   "execution_count": 1,
   "id": "eeda354b",
   "metadata": {
    "ExecuteTime": {
     "end_time": "2023-05-25T20:37:38.095813Z",
     "start_time": "2023-05-25T20:37:37.681710Z"
    }
   },
   "outputs": [],
   "source": [
    "import os\n",
    "import re\n",
    "import pandas as pd\n",
    "import numpy as np\n",
    "import plotly.graph_objects as go\n",
    "import hashlib\n",
    "import random\n",
    "from plotly.subplots import make_subplots\n",
    "from datetime import timedelta, datetime as dt\n",
    "from pandas.tseries.offsets import MonthEnd\n",
    "from string import ascii_uppercase\n",
    "from math import floor, ceil, isnan\n",
    "from itertools import chain\n",
    "\n",
    "from salesforce_api import Salesforce"
   ]
  },
  {
   "cell_type": "markdown",
   "id": "35ef2c28",
   "metadata": {},
   "source": [
    "# Get Salesforce Data"
   ]
  },
  {
   "cell_type": "code",
   "execution_count": 4,
   "id": "b37dc45c",
   "metadata": {
    "ExecuteTime": {
     "end_time": "2023-05-25T20:37:38.708483Z",
     "start_time": "2023-05-25T20:37:38.102087Z"
    }
   },
   "outputs": [
    {
     "name": "stdout",
     "output_type": "stream",
     "text": [
      "https://login.salesforce.com/services/Soap/c/48.0\n"
     ]
    }
   ],
   "source": [
    "client = Salesforce(\n",
    "    username=os.getenv(\"SFDC_USER\"),\n",
    "    password=os.getenv(\"SFDC_PW\"),\n",
    "    security_token=os.getenv(\"SFDC_TOKEN\")\n",
    ")"
   ]
  },
  {
   "cell_type": "code",
   "execution_count": 5,
   "id": "7756e0b3",
   "metadata": {
    "ExecuteTime": {
     "end_time": "2023-05-25T20:37:38.730842Z",
     "start_time": "2023-05-25T20:37:38.716308Z"
    }
   },
   "outputs": [],
   "source": [
    "# Replace with your column names\n",
    "columns = [\n",
    "    \"Id\", \"AccountId\", \"CurrencyIsoCode\", \"Contract_Start_Date__c\",\n",
    "    \"Contract_Expiration_Date__c\", \"Contract_Term_of_mo__c\", \"Subscription_Amount__c\",\n",
    "    \"StageName\"\n",
    "]"
   ]
  },
  {
   "cell_type": "code",
   "execution_count": 6,
   "id": "54f7c49b",
   "metadata": {
    "ExecuteTime": {
     "end_time": "2023-05-25T20:37:39.447146Z",
     "start_time": "2023-05-25T20:37:38.734581Z"
    }
   },
   "outputs": [],
   "source": [
    "# Query opportunity data - Adjust to fit your needs\n",
    "opportunities_raw = client.sobjects.query(\n",
    "    f\"\"\"\n",
    "    SELECT {', '.join(columns)} \n",
    "    FROM Opportunity \n",
    "    WHERE StageName IN ('Closed Won','Renewal')\n",
    "    AND Contract_Start_Date__c >= 2020-01-01\n",
    "    \"\"\"\n",
    ")"
   ]
  },
  {
   "cell_type": "code",
   "execution_count": null,
   "id": "71e058be",
   "metadata": {
    "ExecuteTime": {
     "end_time": "2023-05-25T20:37:39.467840Z",
     "start_time": "2023-05-25T20:37:39.450219Z"
    }
   },
   "outputs": [],
   "source": [
    "# Convert to data frame\n",
    "opportunities = pd.DataFrame(opportunities_raw).drop(\"attributes\", axis=1)"
   ]
  },
  {
   "cell_type": "code",
   "execution_count": 8,
   "id": "eab8b25e",
   "metadata": {
    "ExecuteTime": {
     "end_time": "2023-05-25T20:37:39.471130Z",
     "start_time": "2023-05-25T20:37:39.468931Z"
    }
   },
   "outputs": [],
   "source": [
    "# Clean up column names\n",
    "opportunities.columns = [\n",
    "    re.sub(\"__c\", \"\", col.lower()) for col in opportunities.columns\n",
    "]"
   ]
  },
  {
   "cell_type": "markdown",
   "id": "de03e127",
   "metadata": {},
   "source": [
    "# Transform"
   ]
  },
  {
   "cell_type": "markdown",
   "id": "fe973ef8",
   "metadata": {},
   "source": [
    "## Ensure correct data\n",
    "- Convert currency to USD\n",
    "- Filter out zero month contract length and zero revenue"
   ]
  },
  {
   "cell_type": "code",
   "execution_count": 13,
   "id": "8632efee",
   "metadata": {
    "ExecuteTime": {
     "end_time": "2023-05-25T20:37:39.503907Z",
     "start_time": "2023-05-25T20:37:39.501133Z"
    }
   },
   "outputs": [],
   "source": [
    "exchange_rates = pd.DataFrame(\n",
    "    (\n",
    "        [\"EUR\", \"GBP\", \"INR\", \"MXN\", \"MGA\", \"AUS\", \"CAN\", \"CAD\", \"USD\", \"ARS\"],\n",
    "        [1.1344, 1.3514, .0135, .0489, .0003, .7263, .7857, .7857, 1, .0091]\n",
    "    )\n",
    ").transpose().rename(columns={\n",
    "    0: \"currencyisocode\",\n",
    "    1: \"exchange_rate\"\n",
    "})"
   ]
  },
  {
   "cell_type": "code",
   "execution_count": 14,
   "id": "3de36116",
   "metadata": {
    "ExecuteTime": {
     "end_time": "2023-05-25T20:37:39.513526Z",
     "start_time": "2023-05-25T20:37:39.507670Z"
    }
   },
   "outputs": [],
   "source": [
    "opportunities = opportunities.loc[\n",
    "    (opportunities[\"contract_term_of_mo\"] > 0) &\n",
    "    (opportunities[\"subscription_amount\"] > 0), :\n",
    "].merge(exchange_rates, on=\"currencyisocode\", how=\"left\").assign(\n",
    "    converted_contract_value=lambda row: (\n",
    "        row[\"subscription_amount\"]*row[\"exchange_rate\"]),\n",
    "    subscription_mrr=lambda row: row[\"converted_contract_value\"] /\n",
    "        row[\"contract_term_of_mo\"]\n",
    ")"
   ]
  },
  {
   "cell_type": "markdown",
   "id": "a7525b8f",
   "metadata": {},
   "source": [
    "## Create date fields for comparison"
   ]
  },
  {
   "cell_type": "code",
   "execution_count": 15,
   "id": "ad14a35e",
   "metadata": {
    "ExecuteTime": {
     "end_time": "2023-05-25T20:37:39.534994Z",
     "start_time": "2023-05-25T20:37:39.514788Z"
    }
   },
   "outputs": [],
   "source": [
    "# Ensure datetime format for expiration date and add 1 day\n",
    "opportunities[\"contract_expiration_date\"] = pd.to_datetime(\n",
    "    opportunities[\"contract_expiration_date\"],\n",
    "    format=\"%Y-%m-%d\"\n",
    ")+timedelta(days=1)\n",
    "# Create field containing the first day of the starting month\n",
    "opportunities[\"contract_start_month_bom\"] = pd.to_datetime(\n",
    "    opportunities[\"contract_start_date\"],\n",
    "    format=\"%Y-%m-%d\"\n",
    ").apply(lambda x: x.replace(day=1))\n",
    "# Create field containing the last day of the starting month\n",
    "opportunities[\"contract_start_month_eom\"] = pd.to_datetime(\n",
    "    opportunities[\"contract_start_date\"],\n",
    "    format=\"%Y-%m-%d\"\n",
    ") + MonthEnd(1)\n",
    "# Create field containing the first day of the ending month\n",
    "opportunities[\"contract_end_month_bom\"] = pd.to_datetime(\n",
    "    opportunities[\"contract_expiration_date\"],\n",
    "    format=\"%Y-%m-%d\"\n",
    ").apply(lambda x: x.replace(day=1))\n",
    "# Create field containing the last day of the ending month\n",
    "opportunities[\"contract_end_month_eom\"] = pd.to_datetime(\n",
    "    opportunities[\"contract_expiration_date\"],\n",
    "    format=\"%Y-%m-%d\"\n",
    ") + MonthEnd(1)"
   ]
  },
  {
   "cell_type": "markdown",
   "id": "26c24a41",
   "metadata": {},
   "source": [
    "## Create data frame with start and end dates for all possible months"
   ]
  },
  {
   "cell_type": "code",
   "execution_count": 17,
   "id": "20ba143b",
   "metadata": {
    "ExecuteTime": {
     "end_time": "2023-05-25T20:37:39.546475Z",
     "start_time": "2023-05-25T20:37:39.541452Z"
    }
   },
   "outputs": [],
   "source": [
    "months = pd.DataFrame(\n",
    "    [\n",
    "        list(pd.date_range(\n",
    "            start=opportunities[\"contract_start_month_bom\"].min(), \n",
    "            end=opportunities[\"contract_start_month_eom\"].max(), \n",
    "            freq='MS'\n",
    "        )),\n",
    "        list(pd.date_range(\n",
    "            start=opportunities[\"contract_start_month_bom\"].min(), \n",
    "            end=opportunities[\"contract_start_month_eom\"].max(), \n",
    "            freq='M'\n",
    "        )),\n",
    "    ]\n",
    ").transpose()\n",
    "months.columns = [\"period_start_date\", \"period_end_date\"]"
   ]
  },
  {
   "cell_type": "markdown",
   "id": "39c5df74",
   "metadata": {},
   "source": [
    "## Cartesian join with months and opportunities"
   ]
  },
  {
   "cell_type": "code",
   "execution_count": 20,
   "id": "eb3065bc",
   "metadata": {
    "ExecuteTime": {
     "end_time": "2023-05-25T20:37:39.599548Z",
     "start_time": "2023-05-25T20:37:39.565847Z"
    }
   },
   "outputs": [],
   "source": [
    "opportunity_months = opportunities.assign(key=1).merge(\n",
    "    months.assign(key=1), \n",
    "    on=\"key\"\n",
    ").drop(\"key\", axis=1)"
   ]
  },
  {
   "cell_type": "markdown",
   "id": "5ec88823",
   "metadata": {},
   "source": [
    "## Create subscription status field"
   ]
  },
  {
   "cell_type": "code",
   "execution_count": 22,
   "id": "ad17bbad",
   "metadata": {
    "ExecuteTime": {
     "end_time": "2023-05-25T20:37:39.633813Z",
     "start_time": "2023-05-25T20:37:39.605038Z"
    }
   },
   "outputs": [],
   "source": [
    "opportunity_months = opportunity_months.assign(\n",
    "    months_after_contract_start=lambda row: np.round((row[\"period_start_date\"] - row[\"contract_start_month_bom\"])/np.timedelta64(1, 'M')),\n",
    "    months_after_contract_end=lambda row: np.round((row[\"period_start_date\"] - row[\"contract_end_month_bom\"])/np.timedelta64(1, 'M')),\n",
    "    subscription_status=lambda row: np.where(\n",
    "        row[\"period_start_date\"] < row[\"contract_start_month_bom\"],\n",
    "        \"Pre-Active\",\n",
    "        np.where(\n",
    "            (row[\"period_start_date\"] >= row[\"contract_end_month_bom\"]) & (row[\"months_after_contract_end\"] == 0),\n",
    "            \"Churn\",\n",
    "            np.where(\n",
    "                row[\"period_start_date\"] > row[\"contract_end_month_bom\"],\n",
    "                \"Post-Churn\",\n",
    "                \"Active\"\n",
    "            )\n",
    "        )\n",
    "    )\n",
    ")"
   ]
  },
  {
   "cell_type": "markdown",
   "id": "109a1a3c",
   "metadata": {},
   "source": [
    "## Zero out revenue for non-active periods"
   ]
  },
  {
   "cell_type": "code",
   "execution_count": 23,
   "id": "9c8e1e0f",
   "metadata": {
    "ExecuteTime": {
     "end_time": "2023-05-25T20:37:39.678457Z",
     "start_time": "2023-05-25T20:37:39.634722Z"
    }
   },
   "outputs": [],
   "source": [
    "opportunity_months = opportunity_months[\n",
    "    [\n",
    "        \"id\", \"accountid\", \"period_end_date\", \"subscription_status\", \"subscription_mrr\"\n",
    "    ]\n",
    "].assign(\n",
    "    subscription_mrr=lambda row: np.where(\n",
    "        row[\"subscription_status\"].isin([\"Pre-Active\", \"Churn\", \"Post-Churn\"]),\n",
    "        0,\n",
    "        row[\"subscription_mrr\"]\n",
    "    )\n",
    ")"
   ]
  },
  {
   "cell_type": "markdown",
   "id": "84192d3f",
   "metadata": {},
   "source": [
    "## Group to the account-period level"
   ]
  },
  {
   "cell_type": "code",
   "execution_count": 28,
   "id": "4363c9c1",
   "metadata": {
    "ExecuteTime": {
     "end_time": "2023-05-25T20:37:41.511917Z",
     "start_time": "2023-05-25T20:37:41.448585Z"
    }
   },
   "outputs": [],
   "source": [
    "cohort_df = opportunity_months.loc[\n",
    "    pd.to_datetime(opportunity_months[\"period_end_date\"]) <= dt.today()\n",
    "].groupby(\n",
    "    [\"accountid\", \"period_end_date\"]\n",
    ").agg({\n",
    "    \"subscription_mrr\": \"sum\"\n",
    "}).reset_index().astype({\"subscription_mrr\": \"float\"})"
   ]
  },
  {
   "cell_type": "markdown",
   "id": "72110f56",
   "metadata": {},
   "source": [
    "## Assign a \"Group Index\" to identify cohorts"
   ]
  },
  {
   "cell_type": "code",
   "execution_count": 29,
   "id": "1478a856",
   "metadata": {
    "ExecuteTime": {
     "end_time": "2023-05-25T20:37:42.215567Z",
     "start_time": "2023-05-25T20:37:41.512868Z"
    }
   },
   "outputs": [],
   "source": [
    "# Get the cumulative sum for each account\n",
    "cohort_df[\"cume_sum\"] = cohort_df.groupby([\"accountid\"])[\"subscription_mrr\"].cumsum()\n",
    "\n",
    "# Remove any account that doesn't have revenue\n",
    "cohort_df = cohort_df.loc[cohort_df[\"cume_sum\"] > 0, :]\n",
    "\n",
    "account_list = cohort_df[\"accountid\"].unique()\n",
    "\n",
    "for account in account_list:\n",
    "    # filter to one account\n",
    "    values = cohort_df.loc[\n",
    "        cohort_df[\"accountid\"]== account, :\n",
    "    ].values.tolist()\n",
    "\n",
    "    group_list = list()\n",
    "    # Group index to assign that denotes a cohort\n",
    "    idx = 0\n",
    "    # Loop over each account period\n",
    "    for i, row in enumerate(values):\n",
    "        # If it is the first row then append the index to group_list\n",
    "        if i == 0:\n",
    "            group_list.append(idx)\n",
    "        else:\n",
    "            # If the mrr (row[2]) is positive then append the index to group_list\n",
    "            if row[2] > 0:\n",
    "                group_list.append(idx)\n",
    "            \n",
    "            # If the mrr is zero then append the index and increment by 1\n",
    "            else:\n",
    "                group_list.append(idx)\n",
    "                idx += 1\n",
    "    \n",
    "    # Assign the list of indices to the account\n",
    "    cohort_df.loc[\n",
    "        cohort_df[\"accountid\"] == account, \"group_index\"\n",
    "    ] = group_list"
   ]
  },
  {
   "cell_type": "markdown",
   "id": "54a7e4c0",
   "metadata": {},
   "source": [
    "## Assign a cohort and the starting revenue"
   ]
  },
  {
   "cell_type": "code",
   "execution_count": 31,
   "id": "46e3fa9e",
   "metadata": {
    "ExecuteTime": {
     "end_time": "2023-05-25T20:37:42.230785Z",
     "start_time": "2023-05-25T20:37:42.223103Z"
    }
   },
   "outputs": [],
   "source": [
    "agg_cohort_df = cohort_df.groupby(\n",
    "    [\"accountid\", \"group_index\"]\n",
    ").agg({\n",
    "    \"period_end_date\": \"first\",\n",
    "    \"subscription_mrr\": \"first\"\n",
    "}).reset_index().rename(\n",
    "    columns={\n",
    "        \"period_end_date\": \"cohort_period_end_date\",\n",
    "        \"subscription_mrr\": \"starting_mrr\"\n",
    "    })\n",
    "cohort_df = cohort_df.merge(\n",
    "    agg_cohort_df,\n",
    "    on=[\"accountid\", \"group_index\"]\n",
    ")"
   ]
  },
  {
   "cell_type": "markdown",
   "id": "226e9fb6",
   "metadata": {},
   "source": [
    "## Calculate the number of periods since joining the cohort"
   ]
  },
  {
   "cell_type": "code",
   "execution_count": 33,
   "id": "81b10fbe",
   "metadata": {
    "ExecuteTime": {
     "end_time": "2023-05-25T20:37:42.244070Z",
     "start_time": "2023-05-25T20:37:42.240069Z"
    }
   },
   "outputs": [],
   "source": [
    "cohort_df[\"periods_since_joining_cohort\"] = cohort_df.groupby(\n",
    "    [\"accountid\", \"group_index\"]).cumcount()"
   ]
  },
  {
   "cell_type": "markdown",
   "id": "f91afa85",
   "metadata": {},
   "source": [
    "## Pivot the data"
   ]
  },
  {
   "cell_type": "code",
   "execution_count": 35,
   "id": "73861204",
   "metadata": {
    "ExecuteTime": {
     "end_time": "2023-05-25T20:37:42.258978Z",
     "start_time": "2023-05-25T20:37:42.252206Z"
    }
   },
   "outputs": [],
   "source": [
    "cohort_pivot_mrr = cohort_df.loc[\n",
    "    cohort_df[\"subscription_mrr\"] > 0, :\n",
    "].pivot_table(\n",
    "    index=\"cohort_period_end_date\",\n",
    "    columns=\"periods_since_joining_cohort\",\n",
    "    values=\"subscription_mrr\",\n",
    "    aggfunc=\"sum\"\n",
    ").reset_index().sort_values(\"cohort_period_end_date\")"
   ]
  },
  {
   "cell_type": "markdown",
   "id": "f6e5d492",
   "metadata": {},
   "source": [
    "# Visualizing Your Cohorts"
   ]
  },
  {
   "cell_type": "code",
   "execution_count": 38,
   "id": "dbbb7e78",
   "metadata": {
    "ExecuteTime": {
     "end_time": "2023-05-25T20:37:42.276227Z",
     "start_time": "2023-05-25T20:37:42.273574Z"
    }
   },
   "outputs": [],
   "source": [
    "date_periods = 25\n",
    "\n",
    "x = np.array(list(range(date_periods)))\n",
    "y = cohort_pivot_mrr.tail(date_periods)[\"cohort_period_end_date\"].values"
   ]
  },
  {
   "cell_type": "markdown",
   "id": "8c9a0b66",
   "metadata": {},
   "source": [
    "## The Easy Way"
   ]
  },
  {
   "cell_type": "code",
   "execution_count": 43,
   "id": "91a0da36",
   "metadata": {
    "ExecuteTime": {
     "end_time": "2023-05-25T20:37:42.651727Z",
     "start_time": "2023-05-25T20:37:42.636204Z"
    }
   },
   "outputs": [
    {
     "data": {
      "application/vnd.plotly.v1+json": {
       "config": {
        "plotlyServerURL": "https://plot.ly"
       },
       "data": [
        {
         "colorscale": [
          [
           0,
           "rgb(247,252,245)"
          ],
          [
           0.125,
           "rgb(229,245,224)"
          ],
          [
           0.25,
           "rgb(199,233,192)"
          ],
          [
           0.375,
           "rgb(161,217,155)"
          ],
          [
           0.5,
           "rgb(116,196,118)"
          ],
          [
           0.625,
           "rgb(65,171,93)"
          ],
          [
           0.75,
           "rgb(35,139,69)"
          ],
          [
           0.875,
           "rgb(0,109,44)"
          ],
          [
           1,
           "rgb(0,68,27)"
          ]
         ],
         "hoverongaps": false,
         "showlegend": false,
         "showscale": false,
         "texttemplate": "%{z:.0%}",
         "type": "heatmap",
         "x": [
          0,
          1,
          2,
          3,
          4,
          5,
          6,
          7,
          8,
          9,
          10,
          11,
          12,
          13,
          14,
          15,
          16,
          17,
          18,
          19,
          20,
          21,
          22,
          23,
          24
         ],
         "y": [
          "2021-04-30",
          "2021-05-31",
          "2021-06-30",
          "2021-07-31",
          "2021-08-31",
          "2021-09-30",
          "2021-10-31",
          "2021-11-30",
          "2021-12-31",
          "2022-01-31",
          "2022-02-28",
          "2022-03-31",
          "2022-04-30",
          "2022-05-31",
          "2022-06-30",
          "2022-07-31",
          "2022-08-31",
          "2022-09-30",
          "2022-10-31",
          "2022-11-30",
          "2022-12-31",
          "2023-01-31",
          "2023-02-28",
          "2023-03-31",
          "2023-04-30"
         ],
         "z": [
          [
           1,
           1.3162206486855368,
           1.2800856296707737,
           1.2800856296707737,
           1.3126071467840605,
           1.3126071467840605,
           1.330174960599924,
           1.343080324533768,
           1.3372243865951468,
           1.4748389281527416,
           1.4748389281527416,
           1.5919576869251628,
           1.415332295053787,
           1.3880165436441338,
           1.3880165436441338,
           1.4706108728207354,
           1.4706108728207354,
           1.4706108728207354,
           1.4530430590048724,
           1.4530430590048724,
           1.4530430590048724,
           1.467682903851425,
           1.467682903851425,
           1.467682903851425,
           1.2406517415272411
          ],
          [
           1,
           1.0648146371670408,
           1.081700927938859,
           1.1827699166800085,
           1.887466964363794,
           1.9470095975507407,
           2.345273069733084,
           2.3818600330720234,
           2.5679506920237287,
           2.5679506920237287,
           3.0323236882487254,
           3.345658194792461,
           3.184007204220423,
           2.5112860992679313,
           2.5555657061806984,
           2.3073304235258045,
           1.702238337535657,
           1.702238337535657,
           1.2209790505388418,
           1.1890827235254078,
           1.8093188639379,
           1.9867551665520864,
           1.9920528264020687,
           2.153410715999441,
           null
          ],
          [
           1,
           1.0038141422116218,
           0.8459086546504767,
           0.8230238013807456,
           0.8230238013807456,
           0.9788475301227875,
           0.959922824428539,
           1.008407938681496,
           1.008407938681496,
           1.008407938681496,
           1.008407938681496,
           0.9971583550768499,
           1.5640043467272349,
           1.369458835990054,
           1.369458835990054,
           1.354965095585891,
           1.354965095585891,
           1.2146046621982065,
           1.2146046621982065,
           1.1930726537603547,
           1.1930726537603547,
           1.1930726537603547,
           1.1930726537603547,
           null,
           null
          ],
          [
           1,
           0.9571697778485581,
           0.9315556650906665,
           0.9315556650906665,
           0.9395072412256761,
           0.9669949464468793,
           0.9625774041496516,
           0.9625774041496516,
           0.9625774041496516,
           0.9625774041496516,
           0.9625774041496516,
           1.0099405916886683,
           0.9218046258428125,
           0.9014839312755656,
           0.9014839312755656,
           0.9014839312755656,
           0.8997169143566746,
           0.8701087888328021,
           0.8701087888328021,
           0.8701087888328021,
           0.8701087888328021,
           0.8701087888328021,
           null,
           null,
           null
          ],
          [
           1,
           0.8921370919890296,
           0.940198369193338,
           0.9690049343772339,
           0.9690049343772339,
           1.4889961706797181,
           1.4728365703874313,
           1.5507452353166045,
           1.5507452353166045,
           1.5507452353166045,
           1.4806929063466756,
           1.4829843376681222,
           1.3526160553275857,
           1.3526160553275857,
           1.5296676049575055,
           1.5296676049575055,
           1.5316316889473167,
           1.5489810975239813,
           1.5784061136962064,
           1.5784061136962064,
           1.5784061136962064,
           null,
           null,
           null,
           null
          ],
          [
           1,
           1.0068887040586314,
           1.0068887040586314,
           1.0966026591448788,
           1.1014243180366203,
           1.1014243180366203,
           1.1014243180366203,
           1.1014243180366203,
           1.1014243180366203,
           1.1014243180366203,
           1.1014243180366203,
           1.1014243180366203,
           1.0507392808495764,
           1.2673103581287144,
           1.2673103581287144,
           1.1775964030424668,
           1.1775964030424668,
           1.1775964030424668,
           1.1775964030424668,
           1.1775964030424668,
           null,
           null,
           null,
           null,
           null
          ],
          [
           1,
           0.3699638314135971,
           0.30548026382337806,
           0.3253640714036606,
           0.3306496097307277,
           0.3306496097307277,
           0.33170671739614116,
           0.32642117906907403,
           0.32642117906907403,
           0.32642117906907403,
           0.32642117906907403,
           0.5310225353898895,
           0.49430242068102265,
           0.49430242068102265,
           0.5165016816547046,
           0.5390920724645896,
           0.5390920724645896,
           0.5390920724645896,
           0.5390920724645896,
           null,
           null,
           null,
           null,
           null,
           null
          ],
          [
           1,
           1.0035975810562312,
           1.1237203842403347,
           1.1237203842403347,
           1.1237203842403347,
           1.1237203842403347,
           1.1237203842403347,
           1.1279624433689133,
           1.1279624433689133,
           1.1279624433689133,
           1.1279624433689133,
           1.1279624433689133,
           0.6786869908914408,
           0.6786869908914408,
           0.9946745269970881,
           1.0833399101121215,
           1.0833399101121215,
           1.0833399101121215,
           null,
           null,
           null,
           null,
           null,
           null,
           null
          ],
          [
           1,
           1.0289544881773034,
           1.0289544881773034,
           0.9689214105700096,
           0.9807459602698094,
           0.9807459602698094,
           0.9807459602698094,
           1.0015931917574679,
           1.0015931917574679,
           1.0015931917574679,
           1.0015931917574679,
           1.0015931917574679,
           1.8566308094285078,
           1.7350219590838334,
           1.7350219590838334,
           1.7350219590838334,
           1.791483211029575,
           null,
           null,
           null,
           null,
           null,
           null,
           null,
           null
          ],
          [
           1,
           1.0922003243894773,
           1.0948455226272462,
           1.0948455226272462,
           1.2473852876719214,
           1.3373220277560651,
           1.4273304527124524,
           1.523439322018057,
           1.6121920713709756,
           1.7045535765064075,
           1.7944903165905512,
           1.7971355148283201,
           1.897046702297487,
           1.791840819905646,
           1.8543556715915848,
           1.8517104733538159,
           null,
           null,
           null,
           null,
           null,
           null,
           null,
           null,
           null
          ],
          [
           1,
           1.0521901211556384,
           1.1029305167236203,
           1.1029305167236203,
           1.1029305167236203,
           1.1029305167236203,
           1.2986434710572643,
           1.3221497359428394,
           1.3221497359428394,
           1.3221497359428394,
           1.3221497359428394,
           1.3852127990059024,
           0.8886817852335095,
           0.8277933105519313,
           0.7770529149839495,
           null,
           null,
           null,
           null,
           null,
           null,
           null,
           null,
           null,
           null
          ],
          [
           1,
           1.0249067970636414,
           1.0267177360835744,
           1.0287132171968647,
           1.0287132171968647,
           1.0882562584074609,
           1.0882562584074609,
           1.0909726669373603,
           1.0909726669373603,
           1.0909726669373603,
           1.0909726669373603,
           1.0949636291639404,
           0.8389862652631357,
           0.7563433351369822,
           null,
           null,
           null,
           null,
           null,
           null,
           null,
           null,
           null,
           null,
           null
          ],
          [
           1,
           1.0393458767541834,
           1.0529996596385003,
           1.0538735017430965,
           1.0538735017430965,
           1.0538735017430965,
           1.0685103569950842,
           1.0721804938343886,
           1.0721804938343886,
           1.0721804938343886,
           1.0721804938343886,
           1.0721804938343886,
           0.7208660386946022,
           null,
           null,
           null,
           null,
           null,
           null,
           null,
           null,
           null,
           null,
           null,
           null
          ],
          [
           1,
           1.0041547633061116,
           1.0041547633061116,
           1.0041547633061116,
           1.0055997375371926,
           1.0137493922004892,
           1.1942143278026693,
           1.1942143278026693,
           1.1942143278026693,
           1.1942143278026693,
           1.1942143278026693,
           1.2049071371126685,
           null,
           null,
           null,
           null,
           null,
           null,
           null,
           null,
           null,
           null,
           null,
           null,
           null
          ],
          [
           1,
           1.0215985101700773,
           0.8976418431070248,
           0.9086602135126295,
           0.9086602135126295,
           0.9086602135126295,
           0.8896535245629615,
           0.9611352025693217,
           0.9611352025693217,
           0.9611352025693217,
           0.9718781137147863,
           null,
           null,
           null,
           null,
           null,
           null,
           null,
           null,
           null,
           null,
           null,
           null,
           null,
           null
          ],
          [
           1,
           1,
           1.0488003253355023,
           1.0766910668293346,
           1.0974312050969228,
           1.0974312050969228,
           1.0686932357326828,
           1.0749288328588857,
           1.0749288328588857,
           1.0770977362071303,
           null,
           null,
           null,
           null,
           null,
           null,
           null,
           null,
           null,
           null,
           null,
           null,
           null,
           null,
           null
          ],
          [
           1,
           1.0006191416005337,
           1.0006191416005337,
           1.0006191416005337,
           1.0006191416005337,
           1.0006191416005337,
           0.9850420997046134,
           0.9850420997046134,
           0.9850420997046134,
           null,
           null,
           null,
           null,
           null,
           null,
           null,
           null,
           null,
           null,
           null,
           null,
           null,
           null,
           null,
           null
          ],
          [
           1,
           1,
           1,
           1,
           1,
           1.1540687431866772,
           1.1540687431866772,
           1.1540687431866772,
           null,
           null,
           null,
           null,
           null,
           null,
           null,
           null,
           null,
           null,
           null,
           null,
           null,
           null,
           null,
           null,
           null
          ],
          [
           1,
           1.1944430464879012,
           1.209086594458265,
           1.2945692960102213,
           1.2945692960102213,
           1.2945692960102213,
           1.287345405738225,
           null,
           null,
           null,
           null,
           null,
           null,
           null,
           null,
           null,
           null,
           null,
           null,
           null,
           null,
           null,
           null,
           null,
           null
          ],
          [
           1,
           1,
           1.028436646774771,
           1.00729790049972,
           1.00729790049972,
           1.00729790049972,
           null,
           null,
           null,
           null,
           null,
           null,
           null,
           null,
           null,
           null,
           null,
           null,
           null,
           null,
           null,
           null,
           null,
           null,
           null
          ],
          [
           1,
           1,
           1,
           0.9684344251198979,
           0.9684344251198979,
           null,
           null,
           null,
           null,
           null,
           null,
           null,
           null,
           null,
           null,
           null,
           null,
           null,
           null,
           null,
           null,
           null,
           null,
           null,
           null
          ],
          [
           1,
           1.007083131977911,
           1.008748184158896,
           1.008748184158896,
           null,
           null,
           null,
           null,
           null,
           null,
           null,
           null,
           null,
           null,
           null,
           null,
           null,
           null,
           null,
           null,
           null,
           null,
           null,
           null,
           null
          ],
          [
           1,
           1.0174165943986808,
           1.0377359545304754,
           null,
           null,
           null,
           null,
           null,
           null,
           null,
           null,
           null,
           null,
           null,
           null,
           null,
           null,
           null,
           null,
           null,
           null,
           null,
           null,
           null,
           null
          ],
          [
           1,
           1.0036622454726887,
           null,
           null,
           null,
           null,
           null,
           null,
           null,
           null,
           null,
           null,
           null,
           null,
           null,
           null,
           null,
           null,
           null,
           null,
           null,
           null,
           null,
           null,
           null
          ],
          [
           1,
           null,
           null,
           null,
           null,
           null,
           null,
           null,
           null,
           null,
           null,
           null,
           null,
           null,
           null,
           null,
           null,
           null,
           null,
           null,
           null,
           null,
           null,
           null,
           null
          ]
         ]
        }
       ],
       "layout": {
        "coloraxis": {
         "showscale": false
        },
        "font": {
         "size": 10
        },
        "margin": {
         "pad": 5
        },
        "plot_bgcolor": "white",
        "template": {
         "data": {
          "bar": [
           {
            "error_x": {
             "color": "#2a3f5f"
            },
            "error_y": {
             "color": "#2a3f5f"
            },
            "marker": {
             "line": {
              "color": "#E5ECF6",
              "width": 0.5
             },
             "pattern": {
              "fillmode": "overlay",
              "size": 10,
              "solidity": 0.2
             }
            },
            "type": "bar"
           }
          ],
          "barpolar": [
           {
            "marker": {
             "line": {
              "color": "#E5ECF6",
              "width": 0.5
             },
             "pattern": {
              "fillmode": "overlay",
              "size": 10,
              "solidity": 0.2
             }
            },
            "type": "barpolar"
           }
          ],
          "carpet": [
           {
            "aaxis": {
             "endlinecolor": "#2a3f5f",
             "gridcolor": "white",
             "linecolor": "white",
             "minorgridcolor": "white",
             "startlinecolor": "#2a3f5f"
            },
            "baxis": {
             "endlinecolor": "#2a3f5f",
             "gridcolor": "white",
             "linecolor": "white",
             "minorgridcolor": "white",
             "startlinecolor": "#2a3f5f"
            },
            "type": "carpet"
           }
          ],
          "choropleth": [
           {
            "colorbar": {
             "outlinewidth": 0,
             "ticks": ""
            },
            "type": "choropleth"
           }
          ],
          "contour": [
           {
            "colorbar": {
             "outlinewidth": 0,
             "ticks": ""
            },
            "colorscale": [
             [
              0,
              "#0d0887"
             ],
             [
              0.1111111111111111,
              "#46039f"
             ],
             [
              0.2222222222222222,
              "#7201a8"
             ],
             [
              0.3333333333333333,
              "#9c179e"
             ],
             [
              0.4444444444444444,
              "#bd3786"
             ],
             [
              0.5555555555555556,
              "#d8576b"
             ],
             [
              0.6666666666666666,
              "#ed7953"
             ],
             [
              0.7777777777777778,
              "#fb9f3a"
             ],
             [
              0.8888888888888888,
              "#fdca26"
             ],
             [
              1,
              "#f0f921"
             ]
            ],
            "type": "contour"
           }
          ],
          "contourcarpet": [
           {
            "colorbar": {
             "outlinewidth": 0,
             "ticks": ""
            },
            "type": "contourcarpet"
           }
          ],
          "heatmap": [
           {
            "colorbar": {
             "outlinewidth": 0,
             "ticks": ""
            },
            "colorscale": [
             [
              0,
              "#0d0887"
             ],
             [
              0.1111111111111111,
              "#46039f"
             ],
             [
              0.2222222222222222,
              "#7201a8"
             ],
             [
              0.3333333333333333,
              "#9c179e"
             ],
             [
              0.4444444444444444,
              "#bd3786"
             ],
             [
              0.5555555555555556,
              "#d8576b"
             ],
             [
              0.6666666666666666,
              "#ed7953"
             ],
             [
              0.7777777777777778,
              "#fb9f3a"
             ],
             [
              0.8888888888888888,
              "#fdca26"
             ],
             [
              1,
              "#f0f921"
             ]
            ],
            "type": "heatmap"
           }
          ],
          "heatmapgl": [
           {
            "colorbar": {
             "outlinewidth": 0,
             "ticks": ""
            },
            "colorscale": [
             [
              0,
              "#0d0887"
             ],
             [
              0.1111111111111111,
              "#46039f"
             ],
             [
              0.2222222222222222,
              "#7201a8"
             ],
             [
              0.3333333333333333,
              "#9c179e"
             ],
             [
              0.4444444444444444,
              "#bd3786"
             ],
             [
              0.5555555555555556,
              "#d8576b"
             ],
             [
              0.6666666666666666,
              "#ed7953"
             ],
             [
              0.7777777777777778,
              "#fb9f3a"
             ],
             [
              0.8888888888888888,
              "#fdca26"
             ],
             [
              1,
              "#f0f921"
             ]
            ],
            "type": "heatmapgl"
           }
          ],
          "histogram": [
           {
            "marker": {
             "pattern": {
              "fillmode": "overlay",
              "size": 10,
              "solidity": 0.2
             }
            },
            "type": "histogram"
           }
          ],
          "histogram2d": [
           {
            "colorbar": {
             "outlinewidth": 0,
             "ticks": ""
            },
            "colorscale": [
             [
              0,
              "#0d0887"
             ],
             [
              0.1111111111111111,
              "#46039f"
             ],
             [
              0.2222222222222222,
              "#7201a8"
             ],
             [
              0.3333333333333333,
              "#9c179e"
             ],
             [
              0.4444444444444444,
              "#bd3786"
             ],
             [
              0.5555555555555556,
              "#d8576b"
             ],
             [
              0.6666666666666666,
              "#ed7953"
             ],
             [
              0.7777777777777778,
              "#fb9f3a"
             ],
             [
              0.8888888888888888,
              "#fdca26"
             ],
             [
              1,
              "#f0f921"
             ]
            ],
            "type": "histogram2d"
           }
          ],
          "histogram2dcontour": [
           {
            "colorbar": {
             "outlinewidth": 0,
             "ticks": ""
            },
            "colorscale": [
             [
              0,
              "#0d0887"
             ],
             [
              0.1111111111111111,
              "#46039f"
             ],
             [
              0.2222222222222222,
              "#7201a8"
             ],
             [
              0.3333333333333333,
              "#9c179e"
             ],
             [
              0.4444444444444444,
              "#bd3786"
             ],
             [
              0.5555555555555556,
              "#d8576b"
             ],
             [
              0.6666666666666666,
              "#ed7953"
             ],
             [
              0.7777777777777778,
              "#fb9f3a"
             ],
             [
              0.8888888888888888,
              "#fdca26"
             ],
             [
              1,
              "#f0f921"
             ]
            ],
            "type": "histogram2dcontour"
           }
          ],
          "mesh3d": [
           {
            "colorbar": {
             "outlinewidth": 0,
             "ticks": ""
            },
            "type": "mesh3d"
           }
          ],
          "parcoords": [
           {
            "line": {
             "colorbar": {
              "outlinewidth": 0,
              "ticks": ""
             }
            },
            "type": "parcoords"
           }
          ],
          "pie": [
           {
            "automargin": true,
            "type": "pie"
           }
          ],
          "scatter": [
           {
            "fillpattern": {
             "fillmode": "overlay",
             "size": 10,
             "solidity": 0.2
            },
            "type": "scatter"
           }
          ],
          "scatter3d": [
           {
            "line": {
             "colorbar": {
              "outlinewidth": 0,
              "ticks": ""
             }
            },
            "marker": {
             "colorbar": {
              "outlinewidth": 0,
              "ticks": ""
             }
            },
            "type": "scatter3d"
           }
          ],
          "scattercarpet": [
           {
            "marker": {
             "colorbar": {
              "outlinewidth": 0,
              "ticks": ""
             }
            },
            "type": "scattercarpet"
           }
          ],
          "scattergeo": [
           {
            "marker": {
             "colorbar": {
              "outlinewidth": 0,
              "ticks": ""
             }
            },
            "type": "scattergeo"
           }
          ],
          "scattergl": [
           {
            "marker": {
             "colorbar": {
              "outlinewidth": 0,
              "ticks": ""
             }
            },
            "type": "scattergl"
           }
          ],
          "scattermapbox": [
           {
            "marker": {
             "colorbar": {
              "outlinewidth": 0,
              "ticks": ""
             }
            },
            "type": "scattermapbox"
           }
          ],
          "scatterpolar": [
           {
            "marker": {
             "colorbar": {
              "outlinewidth": 0,
              "ticks": ""
             }
            },
            "type": "scatterpolar"
           }
          ],
          "scatterpolargl": [
           {
            "marker": {
             "colorbar": {
              "outlinewidth": 0,
              "ticks": ""
             }
            },
            "type": "scatterpolargl"
           }
          ],
          "scatterternary": [
           {
            "marker": {
             "colorbar": {
              "outlinewidth": 0,
              "ticks": ""
             }
            },
            "type": "scatterternary"
           }
          ],
          "surface": [
           {
            "colorbar": {
             "outlinewidth": 0,
             "ticks": ""
            },
            "colorscale": [
             [
              0,
              "#0d0887"
             ],
             [
              0.1111111111111111,
              "#46039f"
             ],
             [
              0.2222222222222222,
              "#7201a8"
             ],
             [
              0.3333333333333333,
              "#9c179e"
             ],
             [
              0.4444444444444444,
              "#bd3786"
             ],
             [
              0.5555555555555556,
              "#d8576b"
             ],
             [
              0.6666666666666666,
              "#ed7953"
             ],
             [
              0.7777777777777778,
              "#fb9f3a"
             ],
             [
              0.8888888888888888,
              "#fdca26"
             ],
             [
              1,
              "#f0f921"
             ]
            ],
            "type": "surface"
           }
          ],
          "table": [
           {
            "cells": {
             "fill": {
              "color": "#EBF0F8"
             },
             "line": {
              "color": "white"
             }
            },
            "header": {
             "fill": {
              "color": "#C8D4E3"
             },
             "line": {
              "color": "white"
             }
            },
            "type": "table"
           }
          ]
         },
         "layout": {
          "annotationdefaults": {
           "arrowcolor": "#2a3f5f",
           "arrowhead": 0,
           "arrowwidth": 1
          },
          "autotypenumbers": "strict",
          "coloraxis": {
           "colorbar": {
            "outlinewidth": 0,
            "ticks": ""
           }
          },
          "colorscale": {
           "diverging": [
            [
             0,
             "#8e0152"
            ],
            [
             0.1,
             "#c51b7d"
            ],
            [
             0.2,
             "#de77ae"
            ],
            [
             0.3,
             "#f1b6da"
            ],
            [
             0.4,
             "#fde0ef"
            ],
            [
             0.5,
             "#f7f7f7"
            ],
            [
             0.6,
             "#e6f5d0"
            ],
            [
             0.7,
             "#b8e186"
            ],
            [
             0.8,
             "#7fbc41"
            ],
            [
             0.9,
             "#4d9221"
            ],
            [
             1,
             "#276419"
            ]
           ],
           "sequential": [
            [
             0,
             "#0d0887"
            ],
            [
             0.1111111111111111,
             "#46039f"
            ],
            [
             0.2222222222222222,
             "#7201a8"
            ],
            [
             0.3333333333333333,
             "#9c179e"
            ],
            [
             0.4444444444444444,
             "#bd3786"
            ],
            [
             0.5555555555555556,
             "#d8576b"
            ],
            [
             0.6666666666666666,
             "#ed7953"
            ],
            [
             0.7777777777777778,
             "#fb9f3a"
            ],
            [
             0.8888888888888888,
             "#fdca26"
            ],
            [
             1,
             "#f0f921"
            ]
           ],
           "sequentialminus": [
            [
             0,
             "#0d0887"
            ],
            [
             0.1111111111111111,
             "#46039f"
            ],
            [
             0.2222222222222222,
             "#7201a8"
            ],
            [
             0.3333333333333333,
             "#9c179e"
            ],
            [
             0.4444444444444444,
             "#bd3786"
            ],
            [
             0.5555555555555556,
             "#d8576b"
            ],
            [
             0.6666666666666666,
             "#ed7953"
            ],
            [
             0.7777777777777778,
             "#fb9f3a"
            ],
            [
             0.8888888888888888,
             "#fdca26"
            ],
            [
             1,
             "#f0f921"
            ]
           ]
          },
          "colorway": [
           "#636efa",
           "#EF553B",
           "#00cc96",
           "#ab63fa",
           "#FFA15A",
           "#19d3f3",
           "#FF6692",
           "#B6E880",
           "#FF97FF",
           "#FECB52"
          ],
          "font": {
           "color": "#2a3f5f"
          },
          "geo": {
           "bgcolor": "white",
           "lakecolor": "white",
           "landcolor": "#E5ECF6",
           "showlakes": true,
           "showland": true,
           "subunitcolor": "white"
          },
          "hoverlabel": {
           "align": "left"
          },
          "hovermode": "closest",
          "mapbox": {
           "style": "light"
          },
          "paper_bgcolor": "white",
          "plot_bgcolor": "#E5ECF6",
          "polar": {
           "angularaxis": {
            "gridcolor": "white",
            "linecolor": "white",
            "ticks": ""
           },
           "bgcolor": "#E5ECF6",
           "radialaxis": {
            "gridcolor": "white",
            "linecolor": "white",
            "ticks": ""
           }
          },
          "scene": {
           "xaxis": {
            "backgroundcolor": "#E5ECF6",
            "gridcolor": "white",
            "gridwidth": 2,
            "linecolor": "white",
            "showbackground": true,
            "ticks": "",
            "zerolinecolor": "white"
           },
           "yaxis": {
            "backgroundcolor": "#E5ECF6",
            "gridcolor": "white",
            "gridwidth": 2,
            "linecolor": "white",
            "showbackground": true,
            "ticks": "",
            "zerolinecolor": "white"
           },
           "zaxis": {
            "backgroundcolor": "#E5ECF6",
            "gridcolor": "white",
            "gridwidth": 2,
            "linecolor": "white",
            "showbackground": true,
            "ticks": "",
            "zerolinecolor": "white"
           }
          },
          "shapedefaults": {
           "line": {
            "color": "#2a3f5f"
           }
          },
          "ternary": {
           "aaxis": {
            "gridcolor": "white",
            "linecolor": "white",
            "ticks": ""
           },
           "baxis": {
            "gridcolor": "white",
            "linecolor": "white",
            "ticks": ""
           },
           "bgcolor": "#E5ECF6",
           "caxis": {
            "gridcolor": "white",
            "linecolor": "white",
            "ticks": ""
           }
          },
          "title": {
           "x": 0.05
          },
          "xaxis": {
           "automargin": true,
           "gridcolor": "white",
           "linecolor": "white",
           "ticks": "",
           "title": {
            "standoff": 15
           },
           "zerolinecolor": "white",
           "zerolinewidth": 2
          },
          "yaxis": {
           "automargin": true,
           "gridcolor": "white",
           "linecolor": "white",
           "ticks": "",
           "title": {
            "standoff": 15
           },
           "zerolinecolor": "white",
           "zerolinewidth": 2
          }
         }
        },
        "title": {
         "font": {
          "size": 20
         },
         "text": "Last 25 Periods MRR",
         "x": 0.5
        },
        "uniformtext": {
         "minsize": 6,
         "mode": "hide"
        },
        "xaxis": {
         "tickfont": {
          "size": 10
         },
         "type": "category"
        },
        "yaxis": {
         "autorange": "reversed",
         "tickfont": {
          "size": 10
         },
         "type": "category"
        }
       }
      },
      "text/html": [
       "<div>                            <div id=\"88140e5a-170c-435e-b503-29dba19a8f45\" class=\"plotly-graph-div\" style=\"height:525px; width:100%;\"></div>            <script type=\"text/javascript\">                require([\"plotly\"], function(Plotly) {                    window.PLOTLYENV=window.PLOTLYENV || {};                                    if (document.getElementById(\"88140e5a-170c-435e-b503-29dba19a8f45\")) {                    Plotly.newPlot(                        \"88140e5a-170c-435e-b503-29dba19a8f45\",                        [{\"colorscale\":[[0.0,\"rgb(247,252,245)\"],[0.125,\"rgb(229,245,224)\"],[0.25,\"rgb(199,233,192)\"],[0.375,\"rgb(161,217,155)\"],[0.5,\"rgb(116,196,118)\"],[0.625,\"rgb(65,171,93)\"],[0.75,\"rgb(35,139,69)\"],[0.875,\"rgb(0,109,44)\"],[1.0,\"rgb(0,68,27)\"]],\"hoverongaps\":false,\"showlegend\":false,\"showscale\":false,\"texttemplate\":\"%{z:.0%}\",\"x\":[0,1,2,3,4,5,6,7,8,9,10,11,12,13,14,15,16,17,18,19,20,21,22,23,24],\"y\":[\"2021-04-30\",\"2021-05-31\",\"2021-06-30\",\"2021-07-31\",\"2021-08-31\",\"2021-09-30\",\"2021-10-31\",\"2021-11-30\",\"2021-12-31\",\"2022-01-31\",\"2022-02-28\",\"2022-03-31\",\"2022-04-30\",\"2022-05-31\",\"2022-06-30\",\"2022-07-31\",\"2022-08-31\",\"2022-09-30\",\"2022-10-31\",\"2022-11-30\",\"2022-12-31\",\"2023-01-31\",\"2023-02-28\",\"2023-03-31\",\"2023-04-30\"],\"z\":[[1.0,1.3162206486855368,1.2800856296707737,1.2800856296707737,1.3126071467840605,1.3126071467840605,1.330174960599924,1.343080324533768,1.3372243865951468,1.4748389281527416,1.4748389281527416,1.5919576869251628,1.415332295053787,1.3880165436441338,1.3880165436441338,1.4706108728207354,1.4706108728207354,1.4706108728207354,1.4530430590048724,1.4530430590048724,1.4530430590048724,1.467682903851425,1.467682903851425,1.467682903851425,1.2406517415272411],[1.0,1.0648146371670408,1.081700927938859,1.1827699166800085,1.887466964363794,1.9470095975507407,2.345273069733084,2.3818600330720234,2.5679506920237287,2.5679506920237287,3.0323236882487254,3.345658194792461,3.184007204220423,2.5112860992679313,2.5555657061806984,2.3073304235258045,1.702238337535657,1.702238337535657,1.2209790505388418,1.1890827235254078,1.8093188639379,1.9867551665520864,1.9920528264020687,2.153410715999441,null],[1.0,1.0038141422116218,0.8459086546504767,0.8230238013807456,0.8230238013807456,0.9788475301227875,0.959922824428539,1.008407938681496,1.008407938681496,1.008407938681496,1.008407938681496,0.9971583550768499,1.5640043467272349,1.369458835990054,1.369458835990054,1.354965095585891,1.354965095585891,1.2146046621982065,1.2146046621982065,1.1930726537603547,1.1930726537603547,1.1930726537603547,1.1930726537603547,null,null],[1.0,0.9571697778485581,0.9315556650906665,0.9315556650906665,0.9395072412256761,0.9669949464468793,0.9625774041496516,0.9625774041496516,0.9625774041496516,0.9625774041496516,0.9625774041496516,1.0099405916886683,0.9218046258428125,0.9014839312755656,0.9014839312755656,0.9014839312755656,0.8997169143566746,0.8701087888328021,0.8701087888328021,0.8701087888328021,0.8701087888328021,0.8701087888328021,null,null,null],[1.0,0.8921370919890296,0.940198369193338,0.9690049343772339,0.9690049343772339,1.4889961706797181,1.4728365703874313,1.5507452353166045,1.5507452353166045,1.5507452353166045,1.4806929063466756,1.4829843376681222,1.3526160553275857,1.3526160553275857,1.5296676049575055,1.5296676049575055,1.5316316889473167,1.5489810975239813,1.5784061136962064,1.5784061136962064,1.5784061136962064,null,null,null,null],[1.0,1.0068887040586314,1.0068887040586314,1.0966026591448788,1.1014243180366203,1.1014243180366203,1.1014243180366203,1.1014243180366203,1.1014243180366203,1.1014243180366203,1.1014243180366203,1.1014243180366203,1.0507392808495764,1.2673103581287144,1.2673103581287144,1.1775964030424668,1.1775964030424668,1.1775964030424668,1.1775964030424668,1.1775964030424668,null,null,null,null,null],[1.0,0.3699638314135971,0.30548026382337806,0.3253640714036606,0.3306496097307277,0.3306496097307277,0.33170671739614116,0.32642117906907403,0.32642117906907403,0.32642117906907403,0.32642117906907403,0.5310225353898895,0.49430242068102265,0.49430242068102265,0.5165016816547046,0.5390920724645896,0.5390920724645896,0.5390920724645896,0.5390920724645896,null,null,null,null,null,null],[1.0,1.0035975810562312,1.1237203842403347,1.1237203842403347,1.1237203842403347,1.1237203842403347,1.1237203842403347,1.1279624433689133,1.1279624433689133,1.1279624433689133,1.1279624433689133,1.1279624433689133,0.6786869908914408,0.6786869908914408,0.9946745269970881,1.0833399101121215,1.0833399101121215,1.0833399101121215,null,null,null,null,null,null,null],[1.0,1.0289544881773034,1.0289544881773034,0.9689214105700096,0.9807459602698094,0.9807459602698094,0.9807459602698094,1.0015931917574679,1.0015931917574679,1.0015931917574679,1.0015931917574679,1.0015931917574679,1.8566308094285078,1.7350219590838334,1.7350219590838334,1.7350219590838334,1.791483211029575,null,null,null,null,null,null,null,null],[1.0,1.0922003243894773,1.0948455226272462,1.0948455226272462,1.2473852876719214,1.3373220277560651,1.4273304527124524,1.523439322018057,1.6121920713709756,1.7045535765064075,1.7944903165905512,1.7971355148283201,1.897046702297487,1.791840819905646,1.8543556715915848,1.8517104733538159,null,null,null,null,null,null,null,null,null],[1.0,1.0521901211556384,1.1029305167236203,1.1029305167236203,1.1029305167236203,1.1029305167236203,1.2986434710572643,1.3221497359428394,1.3221497359428394,1.3221497359428394,1.3221497359428394,1.3852127990059024,0.8886817852335095,0.8277933105519313,0.7770529149839495,null,null,null,null,null,null,null,null,null,null],[1.0,1.0249067970636414,1.0267177360835744,1.0287132171968647,1.0287132171968647,1.0882562584074609,1.0882562584074609,1.0909726669373603,1.0909726669373603,1.0909726669373603,1.0909726669373603,1.0949636291639404,0.8389862652631357,0.7563433351369822,null,null,null,null,null,null,null,null,null,null,null],[1.0,1.0393458767541834,1.0529996596385003,1.0538735017430965,1.0538735017430965,1.0538735017430965,1.0685103569950842,1.0721804938343886,1.0721804938343886,1.0721804938343886,1.0721804938343886,1.0721804938343886,0.7208660386946022,null,null,null,null,null,null,null,null,null,null,null,null],[1.0,1.0041547633061116,1.0041547633061116,1.0041547633061116,1.0055997375371926,1.0137493922004892,1.1942143278026693,1.1942143278026693,1.1942143278026693,1.1942143278026693,1.1942143278026693,1.2049071371126685,null,null,null,null,null,null,null,null,null,null,null,null,null],[1.0,1.0215985101700773,0.8976418431070248,0.9086602135126295,0.9086602135126295,0.9086602135126295,0.8896535245629615,0.9611352025693217,0.9611352025693217,0.9611352025693217,0.9718781137147863,null,null,null,null,null,null,null,null,null,null,null,null,null,null],[1.0,1.0,1.0488003253355023,1.0766910668293346,1.0974312050969228,1.0974312050969228,1.0686932357326828,1.0749288328588857,1.0749288328588857,1.0770977362071303,null,null,null,null,null,null,null,null,null,null,null,null,null,null,null],[1.0,1.0006191416005337,1.0006191416005337,1.0006191416005337,1.0006191416005337,1.0006191416005337,0.9850420997046134,0.9850420997046134,0.9850420997046134,null,null,null,null,null,null,null,null,null,null,null,null,null,null,null,null],[1.0,1.0,1.0,1.0,1.0,1.1540687431866772,1.1540687431866772,1.1540687431866772,null,null,null,null,null,null,null,null,null,null,null,null,null,null,null,null,null],[1.0,1.1944430464879012,1.209086594458265,1.2945692960102213,1.2945692960102213,1.2945692960102213,1.287345405738225,null,null,null,null,null,null,null,null,null,null,null,null,null,null,null,null,null,null],[1.0,1.0,1.028436646774771,1.00729790049972,1.00729790049972,1.00729790049972,null,null,null,null,null,null,null,null,null,null,null,null,null,null,null,null,null,null,null],[1.0,1.0,1.0,0.9684344251198979,0.9684344251198979,null,null,null,null,null,null,null,null,null,null,null,null,null,null,null,null,null,null,null,null],[1.0,1.007083131977911,1.008748184158896,1.008748184158896,null,null,null,null,null,null,null,null,null,null,null,null,null,null,null,null,null,null,null,null,null],[1.0,1.0174165943986808,1.0377359545304754,null,null,null,null,null,null,null,null,null,null,null,null,null,null,null,null,null,null,null,null,null,null],[1.0,1.0036622454726887,null,null,null,null,null,null,null,null,null,null,null,null,null,null,null,null,null,null,null,null,null,null,null],[1.0,null,null,null,null,null,null,null,null,null,null,null,null,null,null,null,null,null,null,null,null,null,null,null,null]],\"type\":\"heatmap\"}],                        {\"template\":{\"data\":{\"histogram2dcontour\":[{\"type\":\"histogram2dcontour\",\"colorbar\":{\"outlinewidth\":0,\"ticks\":\"\"},\"colorscale\":[[0.0,\"#0d0887\"],[0.1111111111111111,\"#46039f\"],[0.2222222222222222,\"#7201a8\"],[0.3333333333333333,\"#9c179e\"],[0.4444444444444444,\"#bd3786\"],[0.5555555555555556,\"#d8576b\"],[0.6666666666666666,\"#ed7953\"],[0.7777777777777778,\"#fb9f3a\"],[0.8888888888888888,\"#fdca26\"],[1.0,\"#f0f921\"]]}],\"choropleth\":[{\"type\":\"choropleth\",\"colorbar\":{\"outlinewidth\":0,\"ticks\":\"\"}}],\"histogram2d\":[{\"type\":\"histogram2d\",\"colorbar\":{\"outlinewidth\":0,\"ticks\":\"\"},\"colorscale\":[[0.0,\"#0d0887\"],[0.1111111111111111,\"#46039f\"],[0.2222222222222222,\"#7201a8\"],[0.3333333333333333,\"#9c179e\"],[0.4444444444444444,\"#bd3786\"],[0.5555555555555556,\"#d8576b\"],[0.6666666666666666,\"#ed7953\"],[0.7777777777777778,\"#fb9f3a\"],[0.8888888888888888,\"#fdca26\"],[1.0,\"#f0f921\"]]}],\"heatmap\":[{\"type\":\"heatmap\",\"colorbar\":{\"outlinewidth\":0,\"ticks\":\"\"},\"colorscale\":[[0.0,\"#0d0887\"],[0.1111111111111111,\"#46039f\"],[0.2222222222222222,\"#7201a8\"],[0.3333333333333333,\"#9c179e\"],[0.4444444444444444,\"#bd3786\"],[0.5555555555555556,\"#d8576b\"],[0.6666666666666666,\"#ed7953\"],[0.7777777777777778,\"#fb9f3a\"],[0.8888888888888888,\"#fdca26\"],[1.0,\"#f0f921\"]]}],\"heatmapgl\":[{\"type\":\"heatmapgl\",\"colorbar\":{\"outlinewidth\":0,\"ticks\":\"\"},\"colorscale\":[[0.0,\"#0d0887\"],[0.1111111111111111,\"#46039f\"],[0.2222222222222222,\"#7201a8\"],[0.3333333333333333,\"#9c179e\"],[0.4444444444444444,\"#bd3786\"],[0.5555555555555556,\"#d8576b\"],[0.6666666666666666,\"#ed7953\"],[0.7777777777777778,\"#fb9f3a\"],[0.8888888888888888,\"#fdca26\"],[1.0,\"#f0f921\"]]}],\"contourcarpet\":[{\"type\":\"contourcarpet\",\"colorbar\":{\"outlinewidth\":0,\"ticks\":\"\"}}],\"contour\":[{\"type\":\"contour\",\"colorbar\":{\"outlinewidth\":0,\"ticks\":\"\"},\"colorscale\":[[0.0,\"#0d0887\"],[0.1111111111111111,\"#46039f\"],[0.2222222222222222,\"#7201a8\"],[0.3333333333333333,\"#9c179e\"],[0.4444444444444444,\"#bd3786\"],[0.5555555555555556,\"#d8576b\"],[0.6666666666666666,\"#ed7953\"],[0.7777777777777778,\"#fb9f3a\"],[0.8888888888888888,\"#fdca26\"],[1.0,\"#f0f921\"]]}],\"surface\":[{\"type\":\"surface\",\"colorbar\":{\"outlinewidth\":0,\"ticks\":\"\"},\"colorscale\":[[0.0,\"#0d0887\"],[0.1111111111111111,\"#46039f\"],[0.2222222222222222,\"#7201a8\"],[0.3333333333333333,\"#9c179e\"],[0.4444444444444444,\"#bd3786\"],[0.5555555555555556,\"#d8576b\"],[0.6666666666666666,\"#ed7953\"],[0.7777777777777778,\"#fb9f3a\"],[0.8888888888888888,\"#fdca26\"],[1.0,\"#f0f921\"]]}],\"mesh3d\":[{\"type\":\"mesh3d\",\"colorbar\":{\"outlinewidth\":0,\"ticks\":\"\"}}],\"scatter\":[{\"fillpattern\":{\"fillmode\":\"overlay\",\"size\":10,\"solidity\":0.2},\"type\":\"scatter\"}],\"parcoords\":[{\"type\":\"parcoords\",\"line\":{\"colorbar\":{\"outlinewidth\":0,\"ticks\":\"\"}}}],\"scatterpolargl\":[{\"type\":\"scatterpolargl\",\"marker\":{\"colorbar\":{\"outlinewidth\":0,\"ticks\":\"\"}}}],\"bar\":[{\"error_x\":{\"color\":\"#2a3f5f\"},\"error_y\":{\"color\":\"#2a3f5f\"},\"marker\":{\"line\":{\"color\":\"#E5ECF6\",\"width\":0.5},\"pattern\":{\"fillmode\":\"overlay\",\"size\":10,\"solidity\":0.2}},\"type\":\"bar\"}],\"scattergeo\":[{\"type\":\"scattergeo\",\"marker\":{\"colorbar\":{\"outlinewidth\":0,\"ticks\":\"\"}}}],\"scatterpolar\":[{\"type\":\"scatterpolar\",\"marker\":{\"colorbar\":{\"outlinewidth\":0,\"ticks\":\"\"}}}],\"histogram\":[{\"marker\":{\"pattern\":{\"fillmode\":\"overlay\",\"size\":10,\"solidity\":0.2}},\"type\":\"histogram\"}],\"scattergl\":[{\"type\":\"scattergl\",\"marker\":{\"colorbar\":{\"outlinewidth\":0,\"ticks\":\"\"}}}],\"scatter3d\":[{\"type\":\"scatter3d\",\"line\":{\"colorbar\":{\"outlinewidth\":0,\"ticks\":\"\"}},\"marker\":{\"colorbar\":{\"outlinewidth\":0,\"ticks\":\"\"}}}],\"scattermapbox\":[{\"type\":\"scattermapbox\",\"marker\":{\"colorbar\":{\"outlinewidth\":0,\"ticks\":\"\"}}}],\"scatterternary\":[{\"type\":\"scatterternary\",\"marker\":{\"colorbar\":{\"outlinewidth\":0,\"ticks\":\"\"}}}],\"scattercarpet\":[{\"type\":\"scattercarpet\",\"marker\":{\"colorbar\":{\"outlinewidth\":0,\"ticks\":\"\"}}}],\"carpet\":[{\"aaxis\":{\"endlinecolor\":\"#2a3f5f\",\"gridcolor\":\"white\",\"linecolor\":\"white\",\"minorgridcolor\":\"white\",\"startlinecolor\":\"#2a3f5f\"},\"baxis\":{\"endlinecolor\":\"#2a3f5f\",\"gridcolor\":\"white\",\"linecolor\":\"white\",\"minorgridcolor\":\"white\",\"startlinecolor\":\"#2a3f5f\"},\"type\":\"carpet\"}],\"table\":[{\"cells\":{\"fill\":{\"color\":\"#EBF0F8\"},\"line\":{\"color\":\"white\"}},\"header\":{\"fill\":{\"color\":\"#C8D4E3\"},\"line\":{\"color\":\"white\"}},\"type\":\"table\"}],\"barpolar\":[{\"marker\":{\"line\":{\"color\":\"#E5ECF6\",\"width\":0.5},\"pattern\":{\"fillmode\":\"overlay\",\"size\":10,\"solidity\":0.2}},\"type\":\"barpolar\"}],\"pie\":[{\"automargin\":true,\"type\":\"pie\"}]},\"layout\":{\"autotypenumbers\":\"strict\",\"colorway\":[\"#636efa\",\"#EF553B\",\"#00cc96\",\"#ab63fa\",\"#FFA15A\",\"#19d3f3\",\"#FF6692\",\"#B6E880\",\"#FF97FF\",\"#FECB52\"],\"font\":{\"color\":\"#2a3f5f\"},\"hovermode\":\"closest\",\"hoverlabel\":{\"align\":\"left\"},\"paper_bgcolor\":\"white\",\"plot_bgcolor\":\"#E5ECF6\",\"polar\":{\"bgcolor\":\"#E5ECF6\",\"angularaxis\":{\"gridcolor\":\"white\",\"linecolor\":\"white\",\"ticks\":\"\"},\"radialaxis\":{\"gridcolor\":\"white\",\"linecolor\":\"white\",\"ticks\":\"\"}},\"ternary\":{\"bgcolor\":\"#E5ECF6\",\"aaxis\":{\"gridcolor\":\"white\",\"linecolor\":\"white\",\"ticks\":\"\"},\"baxis\":{\"gridcolor\":\"white\",\"linecolor\":\"white\",\"ticks\":\"\"},\"caxis\":{\"gridcolor\":\"white\",\"linecolor\":\"white\",\"ticks\":\"\"}},\"coloraxis\":{\"colorbar\":{\"outlinewidth\":0,\"ticks\":\"\"}},\"colorscale\":{\"sequential\":[[0.0,\"#0d0887\"],[0.1111111111111111,\"#46039f\"],[0.2222222222222222,\"#7201a8\"],[0.3333333333333333,\"#9c179e\"],[0.4444444444444444,\"#bd3786\"],[0.5555555555555556,\"#d8576b\"],[0.6666666666666666,\"#ed7953\"],[0.7777777777777778,\"#fb9f3a\"],[0.8888888888888888,\"#fdca26\"],[1.0,\"#f0f921\"]],\"sequentialminus\":[[0.0,\"#0d0887\"],[0.1111111111111111,\"#46039f\"],[0.2222222222222222,\"#7201a8\"],[0.3333333333333333,\"#9c179e\"],[0.4444444444444444,\"#bd3786\"],[0.5555555555555556,\"#d8576b\"],[0.6666666666666666,\"#ed7953\"],[0.7777777777777778,\"#fb9f3a\"],[0.8888888888888888,\"#fdca26\"],[1.0,\"#f0f921\"]],\"diverging\":[[0,\"#8e0152\"],[0.1,\"#c51b7d\"],[0.2,\"#de77ae\"],[0.3,\"#f1b6da\"],[0.4,\"#fde0ef\"],[0.5,\"#f7f7f7\"],[0.6,\"#e6f5d0\"],[0.7,\"#b8e186\"],[0.8,\"#7fbc41\"],[0.9,\"#4d9221\"],[1,\"#276419\"]]},\"xaxis\":{\"gridcolor\":\"white\",\"linecolor\":\"white\",\"ticks\":\"\",\"title\":{\"standoff\":15},\"zerolinecolor\":\"white\",\"automargin\":true,\"zerolinewidth\":2},\"yaxis\":{\"gridcolor\":\"white\",\"linecolor\":\"white\",\"ticks\":\"\",\"title\":{\"standoff\":15},\"zerolinecolor\":\"white\",\"automargin\":true,\"zerolinewidth\":2},\"scene\":{\"xaxis\":{\"backgroundcolor\":\"#E5ECF6\",\"gridcolor\":\"white\",\"linecolor\":\"white\",\"showbackground\":true,\"ticks\":\"\",\"zerolinecolor\":\"white\",\"gridwidth\":2},\"yaxis\":{\"backgroundcolor\":\"#E5ECF6\",\"gridcolor\":\"white\",\"linecolor\":\"white\",\"showbackground\":true,\"ticks\":\"\",\"zerolinecolor\":\"white\",\"gridwidth\":2},\"zaxis\":{\"backgroundcolor\":\"#E5ECF6\",\"gridcolor\":\"white\",\"linecolor\":\"white\",\"showbackground\":true,\"ticks\":\"\",\"zerolinecolor\":\"white\",\"gridwidth\":2}},\"shapedefaults\":{\"line\":{\"color\":\"#2a3f5f\"}},\"annotationdefaults\":{\"arrowcolor\":\"#2a3f5f\",\"arrowhead\":0,\"arrowwidth\":1},\"geo\":{\"bgcolor\":\"white\",\"landcolor\":\"#E5ECF6\",\"subunitcolor\":\"white\",\"showland\":true,\"showlakes\":true,\"lakecolor\":\"white\"},\"title\":{\"x\":0.05},\"mapbox\":{\"style\":\"light\"}}},\"coloraxis\":{\"showscale\":false},\"uniformtext\":{\"minsize\":6,\"mode\":\"hide\"},\"margin\":{\"pad\":5},\"font\":{\"size\":10},\"title\":{\"font\":{\"size\":20},\"text\":\"Last 25 Periods MRR\",\"x\":0.5},\"plot_bgcolor\":\"white\",\"yaxis\":{\"tickfont\":{\"size\":10},\"type\":\"category\",\"autorange\":\"reversed\"},\"xaxis\":{\"tickfont\":{\"size\":10},\"type\":\"category\"}},                        {\"responsive\": true}                    ).then(function(){\n",
       "                            \n",
       "var gd = document.getElementById('88140e5a-170c-435e-b503-29dba19a8f45');\n",
       "var x = new MutationObserver(function (mutations, observer) {{\n",
       "        var display = window.getComputedStyle(gd).display;\n",
       "        if (!display || display === 'none') {{\n",
       "            console.log([gd, 'removed!']);\n",
       "            Plotly.purge(gd);\n",
       "            observer.disconnect();\n",
       "        }}\n",
       "}});\n",
       "\n",
       "// Listen for the removal of the full notebook cells\n",
       "var notebookContainer = gd.closest('#notebook-container');\n",
       "if (notebookContainer) {{\n",
       "    x.observe(notebookContainer, {childList: true});\n",
       "}}\n",
       "\n",
       "// Listen for the clearing of the current output cell\n",
       "var outputEl = gd.closest('.output');\n",
       "if (outputEl) {{\n",
       "    x.observe(outputEl, {childList: true});\n",
       "}}\n",
       "\n",
       "                        })                };                });            </script>        </div>"
      ]
     },
     "metadata": {},
     "output_type": "display_data"
    }
   ],
   "source": [
    "z_mrr = cohort_pivot_mrr.tail(date_periods).loc[:, x].values\n",
    "z_starting = cohort_pivot_mrr.tail(date_periods).loc[:, x].values\n",
    "z_starting = [z[0] for z in z_starting]\n",
    "z_ret = [z[0]/z[1] for z in zip(z_mrr, z_starting)]\n",
    "\n",
    "fig = go.Figure()\n",
    "fig.add_trace(\n",
    "    go.Heatmap(\n",
    "        x=x,\n",
    "        y=y,\n",
    "        z=z_ret,\n",
    "        hoverongaps=False,\n",
    "        texttemplate=\"%{z:.0%}\",\n",
    "        colorscale=\"greens\",\n",
    "        showscale=False,\n",
    "        showlegend=False,\n",
    "        zmin=0.5,\n",
    "        zmid=1,\n",
    "        zmax=1.5,\n",
    "    )\n",
    ")\n",
    "fig.update_traces(\n",
    "    showscale=False\n",
    ")\n",
    "fig.update_coloraxes(\n",
    "    showscale=False\n",
    ")\n",
    "fig.update_layout(\n",
    "    plot_bgcolor=\"white\",\n",
    "    uniformtext_minsize=6,\n",
    "    uniformtext_mode='hide',\n",
    "    margin_pad=5,\n",
    "    font={\n",
    "        \"size\": 10\n",
    "    },\n",
    "    title={\n",
    "        \"text\": \"Last 25 Periods MRR\",\n",
    "        \"font\": {\"size\": 20},\n",
    "        \"x\": 0.5\n",
    "    }\n",
    ")\n",
    "fig.update_yaxes(\n",
    "    type=\"category\",\n",
    "    autorange=\"reversed\",\n",
    "    tickfont={\"size\": 10}\n",
    ")\n",
    "fig.update_xaxes(\n",
    "    type=\"category\",\n",
    "    tickfont={\"size\": 10}\n",
    ")"
   ]
  },
  {
   "cell_type": "markdown",
   "id": "4babd91c",
   "metadata": {},
   "source": [
    "## The Hard Way"
   ]
  },
  {
   "cell_type": "code",
   "execution_count": 86,
   "id": "37f8279c",
   "metadata": {
    "ExecuteTime": {
     "end_time": "2023-05-25T21:00:58.533296Z",
     "start_time": "2023-05-25T21:00:58.356176Z"
    }
   },
   "outputs": [
    {
     "data": {
      "application/vnd.plotly.v1+json": {
       "config": {
        "plotlyServerURL": "https://plot.ly"
       },
       "data": [
        {
         "colorscale": [
          [
           0,
           "rgb(247,252,245)"
          ],
          [
           0.125,
           "rgb(229,245,224)"
          ],
          [
           0.25,
           "rgb(199,233,192)"
          ],
          [
           0.375,
           "rgb(161,217,155)"
          ],
          [
           0.5,
           "rgb(116,196,118)"
          ],
          [
           0.625,
           "rgb(65,171,93)"
          ],
          [
           0.75,
           "rgb(35,139,69)"
          ],
          [
           0.875,
           "rgb(0,109,44)"
          ],
          [
           1,
           "rgb(0,68,27)"
          ]
         ],
         "hoverongaps": false,
         "hovertemplate": "Cohort End Date: <b>%{y}</b> <br>Months Since Joining Cohort: <b>%{x}</b> <br>Retained MRR: <b>%{z:.2%}</b> <br><extra></extra>",
         "showlegend": false,
         "showscale": false,
         "texttemplate": "%{z:.0%}",
         "type": "heatmap",
         "x": [
          0,
          1,
          2,
          3,
          4,
          5,
          6,
          7,
          8,
          9,
          10,
          11,
          12,
          13,
          14,
          15,
          16,
          17,
          18,
          19,
          20,
          21,
          22,
          23,
          24
         ],
         "xaxis": "x",
         "y": [
          "2021-04-30",
          "2021-04-30",
          "2021-04-30",
          "2021-04-30",
          "2021-04-30",
          "2021-04-30",
          "2021-04-30",
          "2021-04-30",
          "2021-04-30",
          "2021-04-30",
          "2021-04-30",
          "2021-04-30",
          "2021-04-30",
          "2021-04-30",
          "2021-04-30",
          "2021-04-30",
          "2021-04-30",
          "2021-04-30",
          "2021-04-30",
          "2021-04-30",
          "2021-04-30",
          "2021-04-30",
          "2021-04-30",
          "2021-04-30",
          "2021-04-30"
         ],
         "yaxis": "y",
         "z": [
          1,
          1.3162206486855368,
          1.2800856296707737,
          1.2800856296707737,
          1.3126071467840605,
          1.3126071467840605,
          1.330174960599924,
          1.343080324533768,
          1.3372243865951468,
          1.4748389281527416,
          1.4748389281527416,
          1.5919576869251628,
          1.415332295053787,
          1.3880165436441338,
          1.3880165436441338,
          1.4706108728207354,
          1.4706108728207354,
          1.4706108728207354,
          1.4530430590048724,
          1.4530430590048724,
          1.4530430590048724,
          1.467682903851425,
          1.467682903851425,
          1.467682903851425,
          1.2406517415272411
         ],
         "zmax": 1.5,
         "zmid": 1,
         "zmin": 0.5
        },
        {
         "colorscale": [
          [
           0,
           "rgb(247,252,245)"
          ],
          [
           0.125,
           "rgb(229,245,224)"
          ],
          [
           0.25,
           "rgb(199,233,192)"
          ],
          [
           0.375,
           "rgb(161,217,155)"
          ],
          [
           0.5,
           "rgb(116,196,118)"
          ],
          [
           0.625,
           "rgb(65,171,93)"
          ],
          [
           0.75,
           "rgb(35,139,69)"
          ],
          [
           0.875,
           "rgb(0,109,44)"
          ],
          [
           1,
           "rgb(0,68,27)"
          ]
         ],
         "hoverongaps": false,
         "hovertemplate": "Cohort End Date: <b>%{y}</b> <br>Months Since Joining Cohort: <b>%{x}</b> <br>Retained MRR: <b>%{z:.2%}</b> <br><extra></extra>",
         "showlegend": false,
         "showscale": false,
         "texttemplate": "%{z:.0%}",
         "type": "heatmap",
         "x": [
          0,
          1,
          2,
          3,
          4,
          5,
          6,
          7,
          8,
          9,
          10,
          11,
          12,
          13,
          14,
          15,
          16,
          17,
          18,
          19,
          20,
          21,
          22,
          23,
          24
         ],
         "xaxis": "x2",
         "y": [
          "2021-05-31",
          "2021-05-31",
          "2021-05-31",
          "2021-05-31",
          "2021-05-31",
          "2021-05-31",
          "2021-05-31",
          "2021-05-31",
          "2021-05-31",
          "2021-05-31",
          "2021-05-31",
          "2021-05-31",
          "2021-05-31",
          "2021-05-31",
          "2021-05-31",
          "2021-05-31",
          "2021-05-31",
          "2021-05-31",
          "2021-05-31",
          "2021-05-31",
          "2021-05-31",
          "2021-05-31",
          "2021-05-31",
          "2021-05-31",
          "2021-05-31"
         ],
         "yaxis": "y2",
         "z": [
          1,
          1.0648146371670408,
          1.081700927938859,
          1.1827699166800085,
          1.887466964363794,
          1.9470095975507407,
          2.345273069733084,
          2.3818600330720234,
          2.5679506920237287,
          2.5679506920237287,
          3.0323236882487254,
          3.345658194792461,
          3.184007204220423,
          2.5112860992679313,
          2.5555657061806984,
          2.3073304235258045,
          1.702238337535657,
          1.702238337535657,
          1.2209790505388418,
          1.1890827235254078,
          1.8093188639379,
          1.9867551665520864,
          1.9920528264020687,
          2.153410715999441,
          null
         ],
         "zmax": 1.5,
         "zmid": 1,
         "zmin": 0.5
        },
        {
         "colorscale": [
          [
           0,
           "rgb(247,252,245)"
          ],
          [
           0.125,
           "rgb(229,245,224)"
          ],
          [
           0.25,
           "rgb(199,233,192)"
          ],
          [
           0.375,
           "rgb(161,217,155)"
          ],
          [
           0.5,
           "rgb(116,196,118)"
          ],
          [
           0.625,
           "rgb(65,171,93)"
          ],
          [
           0.75,
           "rgb(35,139,69)"
          ],
          [
           0.875,
           "rgb(0,109,44)"
          ],
          [
           1,
           "rgb(0,68,27)"
          ]
         ],
         "hoverongaps": false,
         "hovertemplate": "Cohort End Date: <b>%{y}</b> <br>Months Since Joining Cohort: <b>%{x}</b> <br>Retained MRR: <b>%{z:.2%}</b> <br><extra></extra>",
         "showlegend": false,
         "showscale": false,
         "texttemplate": "%{z:.0%}",
         "type": "heatmap",
         "x": [
          0,
          1,
          2,
          3,
          4,
          5,
          6,
          7,
          8,
          9,
          10,
          11,
          12,
          13,
          14,
          15,
          16,
          17,
          18,
          19,
          20,
          21,
          22,
          23,
          24
         ],
         "xaxis": "x3",
         "y": [
          "2021-06-30",
          "2021-06-30",
          "2021-06-30",
          "2021-06-30",
          "2021-06-30",
          "2021-06-30",
          "2021-06-30",
          "2021-06-30",
          "2021-06-30",
          "2021-06-30",
          "2021-06-30",
          "2021-06-30",
          "2021-06-30",
          "2021-06-30",
          "2021-06-30",
          "2021-06-30",
          "2021-06-30",
          "2021-06-30",
          "2021-06-30",
          "2021-06-30",
          "2021-06-30",
          "2021-06-30",
          "2021-06-30",
          "2021-06-30",
          "2021-06-30"
         ],
         "yaxis": "y3",
         "z": [
          1,
          1.0038141422116218,
          0.8459086546504767,
          0.8230238013807456,
          0.8230238013807456,
          0.9788475301227875,
          0.959922824428539,
          1.008407938681496,
          1.008407938681496,
          1.008407938681496,
          1.008407938681496,
          0.9971583550768499,
          1.5640043467272349,
          1.369458835990054,
          1.369458835990054,
          1.354965095585891,
          1.354965095585891,
          1.2146046621982065,
          1.2146046621982065,
          1.1930726537603547,
          1.1930726537603547,
          1.1930726537603547,
          1.1930726537603547,
          null,
          null
         ],
         "zmax": 1.5,
         "zmid": 1,
         "zmin": 0.5
        },
        {
         "colorscale": [
          [
           0,
           "rgb(247,252,245)"
          ],
          [
           0.125,
           "rgb(229,245,224)"
          ],
          [
           0.25,
           "rgb(199,233,192)"
          ],
          [
           0.375,
           "rgb(161,217,155)"
          ],
          [
           0.5,
           "rgb(116,196,118)"
          ],
          [
           0.625,
           "rgb(65,171,93)"
          ],
          [
           0.75,
           "rgb(35,139,69)"
          ],
          [
           0.875,
           "rgb(0,109,44)"
          ],
          [
           1,
           "rgb(0,68,27)"
          ]
         ],
         "hoverongaps": false,
         "hovertemplate": "Cohort End Date: <b>%{y}</b> <br>Months Since Joining Cohort: <b>%{x}</b> <br>Retained MRR: <b>%{z:.2%}</b> <br><extra></extra>",
         "showlegend": false,
         "showscale": false,
         "texttemplate": "%{z:.0%}",
         "type": "heatmap",
         "x": [
          0,
          1,
          2,
          3,
          4,
          5,
          6,
          7,
          8,
          9,
          10,
          11,
          12,
          13,
          14,
          15,
          16,
          17,
          18,
          19,
          20,
          21,
          22,
          23,
          24
         ],
         "xaxis": "x4",
         "y": [
          "2021-07-31",
          "2021-07-31",
          "2021-07-31",
          "2021-07-31",
          "2021-07-31",
          "2021-07-31",
          "2021-07-31",
          "2021-07-31",
          "2021-07-31",
          "2021-07-31",
          "2021-07-31",
          "2021-07-31",
          "2021-07-31",
          "2021-07-31",
          "2021-07-31",
          "2021-07-31",
          "2021-07-31",
          "2021-07-31",
          "2021-07-31",
          "2021-07-31",
          "2021-07-31",
          "2021-07-31",
          "2021-07-31",
          "2021-07-31",
          "2021-07-31"
         ],
         "yaxis": "y4",
         "z": [
          1,
          0.9571697778485581,
          0.9315556650906665,
          0.9315556650906665,
          0.9395072412256761,
          0.9669949464468793,
          0.9625774041496516,
          0.9625774041496516,
          0.9625774041496516,
          0.9625774041496516,
          0.9625774041496516,
          1.0099405916886683,
          0.9218046258428125,
          0.9014839312755656,
          0.9014839312755656,
          0.9014839312755656,
          0.8997169143566746,
          0.8701087888328021,
          0.8701087888328021,
          0.8701087888328021,
          0.8701087888328021,
          0.8701087888328021,
          null,
          null,
          null
         ],
         "zmax": 1.5,
         "zmid": 1,
         "zmin": 0.5
        },
        {
         "colorscale": [
          [
           0,
           "rgb(247,252,245)"
          ],
          [
           0.125,
           "rgb(229,245,224)"
          ],
          [
           0.25,
           "rgb(199,233,192)"
          ],
          [
           0.375,
           "rgb(161,217,155)"
          ],
          [
           0.5,
           "rgb(116,196,118)"
          ],
          [
           0.625,
           "rgb(65,171,93)"
          ],
          [
           0.75,
           "rgb(35,139,69)"
          ],
          [
           0.875,
           "rgb(0,109,44)"
          ],
          [
           1,
           "rgb(0,68,27)"
          ]
         ],
         "hoverongaps": false,
         "hovertemplate": "Cohort End Date: <b>%{y}</b> <br>Months Since Joining Cohort: <b>%{x}</b> <br>Retained MRR: <b>%{z:.2%}</b> <br><extra></extra>",
         "showlegend": false,
         "showscale": false,
         "texttemplate": "%{z:.0%}",
         "type": "heatmap",
         "x": [
          0,
          1,
          2,
          3,
          4,
          5,
          6,
          7,
          8,
          9,
          10,
          11,
          12,
          13,
          14,
          15,
          16,
          17,
          18,
          19,
          20,
          21,
          22,
          23,
          24
         ],
         "xaxis": "x5",
         "y": [
          "2021-08-31",
          "2021-08-31",
          "2021-08-31",
          "2021-08-31",
          "2021-08-31",
          "2021-08-31",
          "2021-08-31",
          "2021-08-31",
          "2021-08-31",
          "2021-08-31",
          "2021-08-31",
          "2021-08-31",
          "2021-08-31",
          "2021-08-31",
          "2021-08-31",
          "2021-08-31",
          "2021-08-31",
          "2021-08-31",
          "2021-08-31",
          "2021-08-31",
          "2021-08-31",
          "2021-08-31",
          "2021-08-31",
          "2021-08-31",
          "2021-08-31"
         ],
         "yaxis": "y5",
         "z": [
          1,
          0.8921370919890296,
          0.940198369193338,
          0.9690049343772339,
          0.9690049343772339,
          1.4889961706797181,
          1.4728365703874313,
          1.5507452353166045,
          1.5507452353166045,
          1.5507452353166045,
          1.4806929063466756,
          1.4829843376681222,
          1.3526160553275857,
          1.3526160553275857,
          1.5296676049575055,
          1.5296676049575055,
          1.5316316889473167,
          1.5489810975239813,
          1.5784061136962064,
          1.5784061136962064,
          1.5784061136962064,
          null,
          null,
          null,
          null
         ],
         "zmax": 1.5,
         "zmid": 1,
         "zmin": 0.5
        },
        {
         "colorscale": [
          [
           0,
           "rgb(247,252,245)"
          ],
          [
           0.125,
           "rgb(229,245,224)"
          ],
          [
           0.25,
           "rgb(199,233,192)"
          ],
          [
           0.375,
           "rgb(161,217,155)"
          ],
          [
           0.5,
           "rgb(116,196,118)"
          ],
          [
           0.625,
           "rgb(65,171,93)"
          ],
          [
           0.75,
           "rgb(35,139,69)"
          ],
          [
           0.875,
           "rgb(0,109,44)"
          ],
          [
           1,
           "rgb(0,68,27)"
          ]
         ],
         "hoverongaps": false,
         "hovertemplate": "Cohort End Date: <b>%{y}</b> <br>Months Since Joining Cohort: <b>%{x}</b> <br>Retained MRR: <b>%{z:.2%}</b> <br><extra></extra>",
         "showlegend": false,
         "showscale": false,
         "texttemplate": "%{z:.0%}",
         "type": "heatmap",
         "x": [
          0,
          1,
          2,
          3,
          4,
          5,
          6,
          7,
          8,
          9,
          10,
          11,
          12,
          13,
          14,
          15,
          16,
          17,
          18,
          19,
          20,
          21,
          22,
          23,
          24
         ],
         "xaxis": "x6",
         "y": [
          "2021-09-30",
          "2021-09-30",
          "2021-09-30",
          "2021-09-30",
          "2021-09-30",
          "2021-09-30",
          "2021-09-30",
          "2021-09-30",
          "2021-09-30",
          "2021-09-30",
          "2021-09-30",
          "2021-09-30",
          "2021-09-30",
          "2021-09-30",
          "2021-09-30",
          "2021-09-30",
          "2021-09-30",
          "2021-09-30",
          "2021-09-30",
          "2021-09-30",
          "2021-09-30",
          "2021-09-30",
          "2021-09-30",
          "2021-09-30",
          "2021-09-30"
         ],
         "yaxis": "y6",
         "z": [
          1,
          1.0068887040586314,
          1.0068887040586314,
          1.0966026591448788,
          1.1014243180366203,
          1.1014243180366203,
          1.1014243180366203,
          1.1014243180366203,
          1.1014243180366203,
          1.1014243180366203,
          1.1014243180366203,
          1.1014243180366203,
          1.0507392808495764,
          1.2673103581287144,
          1.2673103581287144,
          1.1775964030424668,
          1.1775964030424668,
          1.1775964030424668,
          1.1775964030424668,
          1.1775964030424668,
          null,
          null,
          null,
          null,
          null
         ],
         "zmax": 1.5,
         "zmid": 1,
         "zmin": 0.5
        },
        {
         "colorscale": [
          [
           0,
           "rgb(247,252,245)"
          ],
          [
           0.125,
           "rgb(229,245,224)"
          ],
          [
           0.25,
           "rgb(199,233,192)"
          ],
          [
           0.375,
           "rgb(161,217,155)"
          ],
          [
           0.5,
           "rgb(116,196,118)"
          ],
          [
           0.625,
           "rgb(65,171,93)"
          ],
          [
           0.75,
           "rgb(35,139,69)"
          ],
          [
           0.875,
           "rgb(0,109,44)"
          ],
          [
           1,
           "rgb(0,68,27)"
          ]
         ],
         "hoverongaps": false,
         "hovertemplate": "Cohort End Date: <b>%{y}</b> <br>Months Since Joining Cohort: <b>%{x}</b> <br>Retained MRR: <b>%{z:.2%}</b> <br><extra></extra>",
         "showlegend": false,
         "showscale": false,
         "texttemplate": "%{z:.0%}",
         "type": "heatmap",
         "x": [
          0,
          1,
          2,
          3,
          4,
          5,
          6,
          7,
          8,
          9,
          10,
          11,
          12,
          13,
          14,
          15,
          16,
          17,
          18,
          19,
          20,
          21,
          22,
          23,
          24
         ],
         "xaxis": "x7",
         "y": [
          "2021-10-31",
          "2021-10-31",
          "2021-10-31",
          "2021-10-31",
          "2021-10-31",
          "2021-10-31",
          "2021-10-31",
          "2021-10-31",
          "2021-10-31",
          "2021-10-31",
          "2021-10-31",
          "2021-10-31",
          "2021-10-31",
          "2021-10-31",
          "2021-10-31",
          "2021-10-31",
          "2021-10-31",
          "2021-10-31",
          "2021-10-31",
          "2021-10-31",
          "2021-10-31",
          "2021-10-31",
          "2021-10-31",
          "2021-10-31",
          "2021-10-31"
         ],
         "yaxis": "y7",
         "z": [
          1,
          0.3699638314135971,
          0.30548026382337806,
          0.3253640714036606,
          0.3306496097307277,
          0.3306496097307277,
          0.33170671739614116,
          0.32642117906907403,
          0.32642117906907403,
          0.32642117906907403,
          0.32642117906907403,
          0.5310225353898895,
          0.49430242068102265,
          0.49430242068102265,
          0.5165016816547046,
          0.5390920724645896,
          0.5390920724645896,
          0.5390920724645896,
          0.5390920724645896,
          null,
          null,
          null,
          null,
          null,
          null
         ],
         "zmax": 1.5,
         "zmid": 1,
         "zmin": 0.5
        },
        {
         "colorscale": [
          [
           0,
           "rgb(247,252,245)"
          ],
          [
           0.125,
           "rgb(229,245,224)"
          ],
          [
           0.25,
           "rgb(199,233,192)"
          ],
          [
           0.375,
           "rgb(161,217,155)"
          ],
          [
           0.5,
           "rgb(116,196,118)"
          ],
          [
           0.625,
           "rgb(65,171,93)"
          ],
          [
           0.75,
           "rgb(35,139,69)"
          ],
          [
           0.875,
           "rgb(0,109,44)"
          ],
          [
           1,
           "rgb(0,68,27)"
          ]
         ],
         "hoverongaps": false,
         "hovertemplate": "Cohort End Date: <b>%{y}</b> <br>Months Since Joining Cohort: <b>%{x}</b> <br>Retained MRR: <b>%{z:.2%}</b> <br><extra></extra>",
         "showlegend": false,
         "showscale": false,
         "texttemplate": "%{z:.0%}",
         "type": "heatmap",
         "x": [
          0,
          1,
          2,
          3,
          4,
          5,
          6,
          7,
          8,
          9,
          10,
          11,
          12,
          13,
          14,
          15,
          16,
          17,
          18,
          19,
          20,
          21,
          22,
          23,
          24
         ],
         "xaxis": "x8",
         "y": [
          "2021-11-30",
          "2021-11-30",
          "2021-11-30",
          "2021-11-30",
          "2021-11-30",
          "2021-11-30",
          "2021-11-30",
          "2021-11-30",
          "2021-11-30",
          "2021-11-30",
          "2021-11-30",
          "2021-11-30",
          "2021-11-30",
          "2021-11-30",
          "2021-11-30",
          "2021-11-30",
          "2021-11-30",
          "2021-11-30",
          "2021-11-30",
          "2021-11-30",
          "2021-11-30",
          "2021-11-30",
          "2021-11-30",
          "2021-11-30",
          "2021-11-30"
         ],
         "yaxis": "y8",
         "z": [
          1,
          1.0035975810562312,
          1.1237203842403347,
          1.1237203842403347,
          1.1237203842403347,
          1.1237203842403347,
          1.1237203842403347,
          1.1279624433689133,
          1.1279624433689133,
          1.1279624433689133,
          1.1279624433689133,
          1.1279624433689133,
          0.6786869908914408,
          0.6786869908914408,
          0.9946745269970881,
          1.0833399101121215,
          1.0833399101121215,
          1.0833399101121215,
          null,
          null,
          null,
          null,
          null,
          null,
          null
         ],
         "zmax": 1.5,
         "zmid": 1,
         "zmin": 0.5
        },
        {
         "colorscale": [
          [
           0,
           "rgb(247,252,245)"
          ],
          [
           0.125,
           "rgb(229,245,224)"
          ],
          [
           0.25,
           "rgb(199,233,192)"
          ],
          [
           0.375,
           "rgb(161,217,155)"
          ],
          [
           0.5,
           "rgb(116,196,118)"
          ],
          [
           0.625,
           "rgb(65,171,93)"
          ],
          [
           0.75,
           "rgb(35,139,69)"
          ],
          [
           0.875,
           "rgb(0,109,44)"
          ],
          [
           1,
           "rgb(0,68,27)"
          ]
         ],
         "hoverongaps": false,
         "hovertemplate": "Cohort End Date: <b>%{y}</b> <br>Months Since Joining Cohort: <b>%{x}</b> <br>Retained MRR: <b>%{z:.2%}</b> <br><extra></extra>",
         "showlegend": false,
         "showscale": false,
         "texttemplate": "%{z:.0%}",
         "type": "heatmap",
         "x": [
          0,
          1,
          2,
          3,
          4,
          5,
          6,
          7,
          8,
          9,
          10,
          11,
          12,
          13,
          14,
          15,
          16,
          17,
          18,
          19,
          20,
          21,
          22,
          23,
          24
         ],
         "xaxis": "x9",
         "y": [
          "2021-12-31",
          "2021-12-31",
          "2021-12-31",
          "2021-12-31",
          "2021-12-31",
          "2021-12-31",
          "2021-12-31",
          "2021-12-31",
          "2021-12-31",
          "2021-12-31",
          "2021-12-31",
          "2021-12-31",
          "2021-12-31",
          "2021-12-31",
          "2021-12-31",
          "2021-12-31",
          "2021-12-31",
          "2021-12-31",
          "2021-12-31",
          "2021-12-31",
          "2021-12-31",
          "2021-12-31",
          "2021-12-31",
          "2021-12-31",
          "2021-12-31"
         ],
         "yaxis": "y9",
         "z": [
          1,
          1.0289544881773034,
          1.0289544881773034,
          0.9689214105700096,
          0.9807459602698094,
          0.9807459602698094,
          0.9807459602698094,
          1.0015931917574679,
          1.0015931917574679,
          1.0015931917574679,
          1.0015931917574679,
          1.0015931917574679,
          1.8566308094285078,
          1.7350219590838334,
          1.7350219590838334,
          1.7350219590838334,
          1.791483211029575,
          null,
          null,
          null,
          null,
          null,
          null,
          null,
          null
         ],
         "zmax": 1.5,
         "zmid": 1,
         "zmin": 0.5
        },
        {
         "colorscale": [
          [
           0,
           "rgb(247,252,245)"
          ],
          [
           0.125,
           "rgb(229,245,224)"
          ],
          [
           0.25,
           "rgb(199,233,192)"
          ],
          [
           0.375,
           "rgb(161,217,155)"
          ],
          [
           0.5,
           "rgb(116,196,118)"
          ],
          [
           0.625,
           "rgb(65,171,93)"
          ],
          [
           0.75,
           "rgb(35,139,69)"
          ],
          [
           0.875,
           "rgb(0,109,44)"
          ],
          [
           1,
           "rgb(0,68,27)"
          ]
         ],
         "hoverongaps": false,
         "hovertemplate": "Cohort End Date: <b>%{y}</b> <br>Months Since Joining Cohort: <b>%{x}</b> <br>Retained MRR: <b>%{z:.2%}</b> <br><extra></extra>",
         "showlegend": false,
         "showscale": false,
         "texttemplate": "%{z:.0%}",
         "type": "heatmap",
         "x": [
          0,
          1,
          2,
          3,
          4,
          5,
          6,
          7,
          8,
          9,
          10,
          11,
          12,
          13,
          14,
          15,
          16,
          17,
          18,
          19,
          20,
          21,
          22,
          23,
          24
         ],
         "xaxis": "x10",
         "y": [
          "2022-01-31",
          "2022-01-31",
          "2022-01-31",
          "2022-01-31",
          "2022-01-31",
          "2022-01-31",
          "2022-01-31",
          "2022-01-31",
          "2022-01-31",
          "2022-01-31",
          "2022-01-31",
          "2022-01-31",
          "2022-01-31",
          "2022-01-31",
          "2022-01-31",
          "2022-01-31",
          "2022-01-31",
          "2022-01-31",
          "2022-01-31",
          "2022-01-31",
          "2022-01-31",
          "2022-01-31",
          "2022-01-31",
          "2022-01-31",
          "2022-01-31"
         ],
         "yaxis": "y10",
         "z": [
          1,
          1.0922003243894773,
          1.0948455226272462,
          1.0948455226272462,
          1.2473852876719214,
          1.3373220277560651,
          1.4273304527124524,
          1.523439322018057,
          1.6121920713709756,
          1.7045535765064075,
          1.7944903165905512,
          1.7971355148283201,
          1.897046702297487,
          1.791840819905646,
          1.8543556715915848,
          1.8517104733538159,
          null,
          null,
          null,
          null,
          null,
          null,
          null,
          null,
          null
         ],
         "zmax": 1.5,
         "zmid": 1,
         "zmin": 0.5
        },
        {
         "colorscale": [
          [
           0,
           "rgb(247,252,245)"
          ],
          [
           0.125,
           "rgb(229,245,224)"
          ],
          [
           0.25,
           "rgb(199,233,192)"
          ],
          [
           0.375,
           "rgb(161,217,155)"
          ],
          [
           0.5,
           "rgb(116,196,118)"
          ],
          [
           0.625,
           "rgb(65,171,93)"
          ],
          [
           0.75,
           "rgb(35,139,69)"
          ],
          [
           0.875,
           "rgb(0,109,44)"
          ],
          [
           1,
           "rgb(0,68,27)"
          ]
         ],
         "hoverongaps": false,
         "hovertemplate": "Cohort End Date: <b>%{y}</b> <br>Months Since Joining Cohort: <b>%{x}</b> <br>Retained MRR: <b>%{z:.2%}</b> <br><extra></extra>",
         "showlegend": false,
         "showscale": false,
         "texttemplate": "%{z:.0%}",
         "type": "heatmap",
         "x": [
          0,
          1,
          2,
          3,
          4,
          5,
          6,
          7,
          8,
          9,
          10,
          11,
          12,
          13,
          14,
          15,
          16,
          17,
          18,
          19,
          20,
          21,
          22,
          23,
          24
         ],
         "xaxis": "x11",
         "y": [
          "2022-02-28",
          "2022-02-28",
          "2022-02-28",
          "2022-02-28",
          "2022-02-28",
          "2022-02-28",
          "2022-02-28",
          "2022-02-28",
          "2022-02-28",
          "2022-02-28",
          "2022-02-28",
          "2022-02-28",
          "2022-02-28",
          "2022-02-28",
          "2022-02-28",
          "2022-02-28",
          "2022-02-28",
          "2022-02-28",
          "2022-02-28",
          "2022-02-28",
          "2022-02-28",
          "2022-02-28",
          "2022-02-28",
          "2022-02-28",
          "2022-02-28"
         ],
         "yaxis": "y11",
         "z": [
          1,
          1.0521901211556384,
          1.1029305167236203,
          1.1029305167236203,
          1.1029305167236203,
          1.1029305167236203,
          1.2986434710572643,
          1.3221497359428394,
          1.3221497359428394,
          1.3221497359428394,
          1.3221497359428394,
          1.3852127990059024,
          0.8886817852335095,
          0.8277933105519313,
          0.7770529149839495,
          null,
          null,
          null,
          null,
          null,
          null,
          null,
          null,
          null,
          null
         ],
         "zmax": 1.5,
         "zmid": 1,
         "zmin": 0.5
        },
        {
         "colorscale": [
          [
           0,
           "rgb(247,252,245)"
          ],
          [
           0.125,
           "rgb(229,245,224)"
          ],
          [
           0.25,
           "rgb(199,233,192)"
          ],
          [
           0.375,
           "rgb(161,217,155)"
          ],
          [
           0.5,
           "rgb(116,196,118)"
          ],
          [
           0.625,
           "rgb(65,171,93)"
          ],
          [
           0.75,
           "rgb(35,139,69)"
          ],
          [
           0.875,
           "rgb(0,109,44)"
          ],
          [
           1,
           "rgb(0,68,27)"
          ]
         ],
         "hoverongaps": false,
         "hovertemplate": "Cohort End Date: <b>%{y}</b> <br>Months Since Joining Cohort: <b>%{x}</b> <br>Retained MRR: <b>%{z:.2%}</b> <br><extra></extra>",
         "showlegend": false,
         "showscale": false,
         "texttemplate": "%{z:.0%}",
         "type": "heatmap",
         "x": [
          0,
          1,
          2,
          3,
          4,
          5,
          6,
          7,
          8,
          9,
          10,
          11,
          12,
          13,
          14,
          15,
          16,
          17,
          18,
          19,
          20,
          21,
          22,
          23,
          24
         ],
         "xaxis": "x12",
         "y": [
          "2022-03-31",
          "2022-03-31",
          "2022-03-31",
          "2022-03-31",
          "2022-03-31",
          "2022-03-31",
          "2022-03-31",
          "2022-03-31",
          "2022-03-31",
          "2022-03-31",
          "2022-03-31",
          "2022-03-31",
          "2022-03-31",
          "2022-03-31",
          "2022-03-31",
          "2022-03-31",
          "2022-03-31",
          "2022-03-31",
          "2022-03-31",
          "2022-03-31",
          "2022-03-31",
          "2022-03-31",
          "2022-03-31",
          "2022-03-31",
          "2022-03-31"
         ],
         "yaxis": "y12",
         "z": [
          1,
          1.0249067970636414,
          1.0267177360835744,
          1.0287132171968647,
          1.0287132171968647,
          1.0882562584074609,
          1.0882562584074609,
          1.0909726669373603,
          1.0909726669373603,
          1.0909726669373603,
          1.0909726669373603,
          1.0949636291639404,
          0.8389862652631357,
          0.7563433351369822,
          null,
          null,
          null,
          null,
          null,
          null,
          null,
          null,
          null,
          null,
          null
         ],
         "zmax": 1.5,
         "zmid": 1,
         "zmin": 0.5
        },
        {
         "colorscale": [
          [
           0,
           "rgb(247,252,245)"
          ],
          [
           0.125,
           "rgb(229,245,224)"
          ],
          [
           0.25,
           "rgb(199,233,192)"
          ],
          [
           0.375,
           "rgb(161,217,155)"
          ],
          [
           0.5,
           "rgb(116,196,118)"
          ],
          [
           0.625,
           "rgb(65,171,93)"
          ],
          [
           0.75,
           "rgb(35,139,69)"
          ],
          [
           0.875,
           "rgb(0,109,44)"
          ],
          [
           1,
           "rgb(0,68,27)"
          ]
         ],
         "hoverongaps": false,
         "hovertemplate": "Cohort End Date: <b>%{y}</b> <br>Months Since Joining Cohort: <b>%{x}</b> <br>Retained MRR: <b>%{z:.2%}</b> <br><extra></extra>",
         "showlegend": false,
         "showscale": false,
         "texttemplate": "%{z:.0%}",
         "type": "heatmap",
         "x": [
          0,
          1,
          2,
          3,
          4,
          5,
          6,
          7,
          8,
          9,
          10,
          11,
          12,
          13,
          14,
          15,
          16,
          17,
          18,
          19,
          20,
          21,
          22,
          23,
          24
         ],
         "xaxis": "x13",
         "y": [
          "2022-04-30",
          "2022-04-30",
          "2022-04-30",
          "2022-04-30",
          "2022-04-30",
          "2022-04-30",
          "2022-04-30",
          "2022-04-30",
          "2022-04-30",
          "2022-04-30",
          "2022-04-30",
          "2022-04-30",
          "2022-04-30",
          "2022-04-30",
          "2022-04-30",
          "2022-04-30",
          "2022-04-30",
          "2022-04-30",
          "2022-04-30",
          "2022-04-30",
          "2022-04-30",
          "2022-04-30",
          "2022-04-30",
          "2022-04-30",
          "2022-04-30"
         ],
         "yaxis": "y13",
         "z": [
          1,
          1.0393458767541834,
          1.0529996596385003,
          1.0538735017430965,
          1.0538735017430965,
          1.0538735017430965,
          1.0685103569950842,
          1.0721804938343886,
          1.0721804938343886,
          1.0721804938343886,
          1.0721804938343886,
          1.0721804938343886,
          0.7208660386946022,
          null,
          null,
          null,
          null,
          null,
          null,
          null,
          null,
          null,
          null,
          null,
          null
         ],
         "zmax": 1.5,
         "zmid": 1,
         "zmin": 0.5
        },
        {
         "colorscale": [
          [
           0,
           "rgb(247,252,245)"
          ],
          [
           0.125,
           "rgb(229,245,224)"
          ],
          [
           0.25,
           "rgb(199,233,192)"
          ],
          [
           0.375,
           "rgb(161,217,155)"
          ],
          [
           0.5,
           "rgb(116,196,118)"
          ],
          [
           0.625,
           "rgb(65,171,93)"
          ],
          [
           0.75,
           "rgb(35,139,69)"
          ],
          [
           0.875,
           "rgb(0,109,44)"
          ],
          [
           1,
           "rgb(0,68,27)"
          ]
         ],
         "hoverongaps": false,
         "hovertemplate": "Cohort End Date: <b>%{y}</b> <br>Months Since Joining Cohort: <b>%{x}</b> <br>Retained MRR: <b>%{z:.2%}</b> <br><extra></extra>",
         "showlegend": false,
         "showscale": false,
         "texttemplate": "%{z:.0%}",
         "type": "heatmap",
         "x": [
          0,
          1,
          2,
          3,
          4,
          5,
          6,
          7,
          8,
          9,
          10,
          11,
          12,
          13,
          14,
          15,
          16,
          17,
          18,
          19,
          20,
          21,
          22,
          23,
          24
         ],
         "xaxis": "x14",
         "y": [
          "2022-05-31",
          "2022-05-31",
          "2022-05-31",
          "2022-05-31",
          "2022-05-31",
          "2022-05-31",
          "2022-05-31",
          "2022-05-31",
          "2022-05-31",
          "2022-05-31",
          "2022-05-31",
          "2022-05-31",
          "2022-05-31",
          "2022-05-31",
          "2022-05-31",
          "2022-05-31",
          "2022-05-31",
          "2022-05-31",
          "2022-05-31",
          "2022-05-31",
          "2022-05-31",
          "2022-05-31",
          "2022-05-31",
          "2022-05-31",
          "2022-05-31"
         ],
         "yaxis": "y14",
         "z": [
          1,
          1.0041547633061116,
          1.0041547633061116,
          1.0041547633061116,
          1.0055997375371926,
          1.0137493922004892,
          1.1942143278026693,
          1.1942143278026693,
          1.1942143278026693,
          1.1942143278026693,
          1.1942143278026693,
          1.2049071371126685,
          null,
          null,
          null,
          null,
          null,
          null,
          null,
          null,
          null,
          null,
          null,
          null,
          null
         ],
         "zmax": 1.5,
         "zmid": 1,
         "zmin": 0.5
        },
        {
         "colorscale": [
          [
           0,
           "rgb(247,252,245)"
          ],
          [
           0.125,
           "rgb(229,245,224)"
          ],
          [
           0.25,
           "rgb(199,233,192)"
          ],
          [
           0.375,
           "rgb(161,217,155)"
          ],
          [
           0.5,
           "rgb(116,196,118)"
          ],
          [
           0.625,
           "rgb(65,171,93)"
          ],
          [
           0.75,
           "rgb(35,139,69)"
          ],
          [
           0.875,
           "rgb(0,109,44)"
          ],
          [
           1,
           "rgb(0,68,27)"
          ]
         ],
         "hoverongaps": false,
         "hovertemplate": "Cohort End Date: <b>%{y}</b> <br>Months Since Joining Cohort: <b>%{x}</b> <br>Retained MRR: <b>%{z:.2%}</b> <br><extra></extra>",
         "showlegend": false,
         "showscale": false,
         "texttemplate": "%{z:.0%}",
         "type": "heatmap",
         "x": [
          0,
          1,
          2,
          3,
          4,
          5,
          6,
          7,
          8,
          9,
          10,
          11,
          12,
          13,
          14,
          15,
          16,
          17,
          18,
          19,
          20,
          21,
          22,
          23,
          24
         ],
         "xaxis": "x15",
         "y": [
          "2022-06-30",
          "2022-06-30",
          "2022-06-30",
          "2022-06-30",
          "2022-06-30",
          "2022-06-30",
          "2022-06-30",
          "2022-06-30",
          "2022-06-30",
          "2022-06-30",
          "2022-06-30",
          "2022-06-30",
          "2022-06-30",
          "2022-06-30",
          "2022-06-30",
          "2022-06-30",
          "2022-06-30",
          "2022-06-30",
          "2022-06-30",
          "2022-06-30",
          "2022-06-30",
          "2022-06-30",
          "2022-06-30",
          "2022-06-30",
          "2022-06-30"
         ],
         "yaxis": "y15",
         "z": [
          1,
          1.0215985101700773,
          0.8976418431070248,
          0.9086602135126295,
          0.9086602135126295,
          0.9086602135126295,
          0.8896535245629615,
          0.9611352025693217,
          0.9611352025693217,
          0.9611352025693217,
          0.9718781137147863,
          null,
          null,
          null,
          null,
          null,
          null,
          null,
          null,
          null,
          null,
          null,
          null,
          null,
          null
         ],
         "zmax": 1.5,
         "zmid": 1,
         "zmin": 0.5
        },
        {
         "colorscale": [
          [
           0,
           "rgb(247,252,245)"
          ],
          [
           0.125,
           "rgb(229,245,224)"
          ],
          [
           0.25,
           "rgb(199,233,192)"
          ],
          [
           0.375,
           "rgb(161,217,155)"
          ],
          [
           0.5,
           "rgb(116,196,118)"
          ],
          [
           0.625,
           "rgb(65,171,93)"
          ],
          [
           0.75,
           "rgb(35,139,69)"
          ],
          [
           0.875,
           "rgb(0,109,44)"
          ],
          [
           1,
           "rgb(0,68,27)"
          ]
         ],
         "hoverongaps": false,
         "hovertemplate": "Cohort End Date: <b>%{y}</b> <br>Months Since Joining Cohort: <b>%{x}</b> <br>Retained MRR: <b>%{z:.2%}</b> <br><extra></extra>",
         "showlegend": false,
         "showscale": false,
         "texttemplate": "%{z:.0%}",
         "type": "heatmap",
         "x": [
          0,
          1,
          2,
          3,
          4,
          5,
          6,
          7,
          8,
          9,
          10,
          11,
          12,
          13,
          14,
          15,
          16,
          17,
          18,
          19,
          20,
          21,
          22,
          23,
          24
         ],
         "xaxis": "x16",
         "y": [
          "2022-07-31",
          "2022-07-31",
          "2022-07-31",
          "2022-07-31",
          "2022-07-31",
          "2022-07-31",
          "2022-07-31",
          "2022-07-31",
          "2022-07-31",
          "2022-07-31",
          "2022-07-31",
          "2022-07-31",
          "2022-07-31",
          "2022-07-31",
          "2022-07-31",
          "2022-07-31",
          "2022-07-31",
          "2022-07-31",
          "2022-07-31",
          "2022-07-31",
          "2022-07-31",
          "2022-07-31",
          "2022-07-31",
          "2022-07-31",
          "2022-07-31"
         ],
         "yaxis": "y16",
         "z": [
          1,
          1,
          1.0488003253355023,
          1.0766910668293346,
          1.0974312050969228,
          1.0974312050969228,
          1.0686932357326828,
          1.0749288328588857,
          1.0749288328588857,
          1.0770977362071303,
          null,
          null,
          null,
          null,
          null,
          null,
          null,
          null,
          null,
          null,
          null,
          null,
          null,
          null,
          null
         ],
         "zmax": 1.5,
         "zmid": 1,
         "zmin": 0.5
        },
        {
         "colorscale": [
          [
           0,
           "rgb(247,252,245)"
          ],
          [
           0.125,
           "rgb(229,245,224)"
          ],
          [
           0.25,
           "rgb(199,233,192)"
          ],
          [
           0.375,
           "rgb(161,217,155)"
          ],
          [
           0.5,
           "rgb(116,196,118)"
          ],
          [
           0.625,
           "rgb(65,171,93)"
          ],
          [
           0.75,
           "rgb(35,139,69)"
          ],
          [
           0.875,
           "rgb(0,109,44)"
          ],
          [
           1,
           "rgb(0,68,27)"
          ]
         ],
         "hoverongaps": false,
         "hovertemplate": "Cohort End Date: <b>%{y}</b> <br>Months Since Joining Cohort: <b>%{x}</b> <br>Retained MRR: <b>%{z:.2%}</b> <br><extra></extra>",
         "showlegend": false,
         "showscale": false,
         "texttemplate": "%{z:.0%}",
         "type": "heatmap",
         "x": [
          0,
          1,
          2,
          3,
          4,
          5,
          6,
          7,
          8,
          9,
          10,
          11,
          12,
          13,
          14,
          15,
          16,
          17,
          18,
          19,
          20,
          21,
          22,
          23,
          24
         ],
         "xaxis": "x17",
         "y": [
          "2022-08-31",
          "2022-08-31",
          "2022-08-31",
          "2022-08-31",
          "2022-08-31",
          "2022-08-31",
          "2022-08-31",
          "2022-08-31",
          "2022-08-31",
          "2022-08-31",
          "2022-08-31",
          "2022-08-31",
          "2022-08-31",
          "2022-08-31",
          "2022-08-31",
          "2022-08-31",
          "2022-08-31",
          "2022-08-31",
          "2022-08-31",
          "2022-08-31",
          "2022-08-31",
          "2022-08-31",
          "2022-08-31",
          "2022-08-31",
          "2022-08-31"
         ],
         "yaxis": "y17",
         "z": [
          1,
          1.0006191416005337,
          1.0006191416005337,
          1.0006191416005337,
          1.0006191416005337,
          1.0006191416005337,
          0.9850420997046134,
          0.9850420997046134,
          0.9850420997046134,
          null,
          null,
          null,
          null,
          null,
          null,
          null,
          null,
          null,
          null,
          null,
          null,
          null,
          null,
          null,
          null
         ],
         "zmax": 1.5,
         "zmid": 1,
         "zmin": 0.5
        },
        {
         "colorscale": [
          [
           0,
           "rgb(247,252,245)"
          ],
          [
           0.125,
           "rgb(229,245,224)"
          ],
          [
           0.25,
           "rgb(199,233,192)"
          ],
          [
           0.375,
           "rgb(161,217,155)"
          ],
          [
           0.5,
           "rgb(116,196,118)"
          ],
          [
           0.625,
           "rgb(65,171,93)"
          ],
          [
           0.75,
           "rgb(35,139,69)"
          ],
          [
           0.875,
           "rgb(0,109,44)"
          ],
          [
           1,
           "rgb(0,68,27)"
          ]
         ],
         "hoverongaps": false,
         "hovertemplate": "Cohort End Date: <b>%{y}</b> <br>Months Since Joining Cohort: <b>%{x}</b> <br>Retained MRR: <b>%{z:.2%}</b> <br><extra></extra>",
         "showlegend": false,
         "showscale": false,
         "texttemplate": "%{z:.0%}",
         "type": "heatmap",
         "x": [
          0,
          1,
          2,
          3,
          4,
          5,
          6,
          7,
          8,
          9,
          10,
          11,
          12,
          13,
          14,
          15,
          16,
          17,
          18,
          19,
          20,
          21,
          22,
          23,
          24
         ],
         "xaxis": "x18",
         "y": [
          "2022-09-30",
          "2022-09-30",
          "2022-09-30",
          "2022-09-30",
          "2022-09-30",
          "2022-09-30",
          "2022-09-30",
          "2022-09-30",
          "2022-09-30",
          "2022-09-30",
          "2022-09-30",
          "2022-09-30",
          "2022-09-30",
          "2022-09-30",
          "2022-09-30",
          "2022-09-30",
          "2022-09-30",
          "2022-09-30",
          "2022-09-30",
          "2022-09-30",
          "2022-09-30",
          "2022-09-30",
          "2022-09-30",
          "2022-09-30",
          "2022-09-30"
         ],
         "yaxis": "y18",
         "z": [
          1,
          1,
          1,
          1,
          1,
          1.1540687431866772,
          1.1540687431866772,
          1.1540687431866772,
          null,
          null,
          null,
          null,
          null,
          null,
          null,
          null,
          null,
          null,
          null,
          null,
          null,
          null,
          null,
          null,
          null
         ],
         "zmax": 1.5,
         "zmid": 1,
         "zmin": 0.5
        },
        {
         "colorscale": [
          [
           0,
           "rgb(247,252,245)"
          ],
          [
           0.125,
           "rgb(229,245,224)"
          ],
          [
           0.25,
           "rgb(199,233,192)"
          ],
          [
           0.375,
           "rgb(161,217,155)"
          ],
          [
           0.5,
           "rgb(116,196,118)"
          ],
          [
           0.625,
           "rgb(65,171,93)"
          ],
          [
           0.75,
           "rgb(35,139,69)"
          ],
          [
           0.875,
           "rgb(0,109,44)"
          ],
          [
           1,
           "rgb(0,68,27)"
          ]
         ],
         "hoverongaps": false,
         "hovertemplate": "Cohort End Date: <b>%{y}</b> <br>Months Since Joining Cohort: <b>%{x}</b> <br>Retained MRR: <b>%{z:.2%}</b> <br><extra></extra>",
         "showlegend": false,
         "showscale": false,
         "texttemplate": "%{z:.0%}",
         "type": "heatmap",
         "x": [
          0,
          1,
          2,
          3,
          4,
          5,
          6,
          7,
          8,
          9,
          10,
          11,
          12,
          13,
          14,
          15,
          16,
          17,
          18,
          19,
          20,
          21,
          22,
          23,
          24
         ],
         "xaxis": "x19",
         "y": [
          "2022-10-31",
          "2022-10-31",
          "2022-10-31",
          "2022-10-31",
          "2022-10-31",
          "2022-10-31",
          "2022-10-31",
          "2022-10-31",
          "2022-10-31",
          "2022-10-31",
          "2022-10-31",
          "2022-10-31",
          "2022-10-31",
          "2022-10-31",
          "2022-10-31",
          "2022-10-31",
          "2022-10-31",
          "2022-10-31",
          "2022-10-31",
          "2022-10-31",
          "2022-10-31",
          "2022-10-31",
          "2022-10-31",
          "2022-10-31",
          "2022-10-31"
         ],
         "yaxis": "y19",
         "z": [
          1,
          1.1944430464879012,
          1.209086594458265,
          1.2945692960102213,
          1.2945692960102213,
          1.2945692960102213,
          1.287345405738225,
          null,
          null,
          null,
          null,
          null,
          null,
          null,
          null,
          null,
          null,
          null,
          null,
          null,
          null,
          null,
          null,
          null,
          null
         ],
         "zmax": 1.5,
         "zmid": 1,
         "zmin": 0.5
        },
        {
         "colorscale": [
          [
           0,
           "rgb(247,252,245)"
          ],
          [
           0.125,
           "rgb(229,245,224)"
          ],
          [
           0.25,
           "rgb(199,233,192)"
          ],
          [
           0.375,
           "rgb(161,217,155)"
          ],
          [
           0.5,
           "rgb(116,196,118)"
          ],
          [
           0.625,
           "rgb(65,171,93)"
          ],
          [
           0.75,
           "rgb(35,139,69)"
          ],
          [
           0.875,
           "rgb(0,109,44)"
          ],
          [
           1,
           "rgb(0,68,27)"
          ]
         ],
         "hoverongaps": false,
         "hovertemplate": "Cohort End Date: <b>%{y}</b> <br>Months Since Joining Cohort: <b>%{x}</b> <br>Retained MRR: <b>%{z:.2%}</b> <br><extra></extra>",
         "showlegend": false,
         "showscale": false,
         "texttemplate": "%{z:.0%}",
         "type": "heatmap",
         "x": [
          0,
          1,
          2,
          3,
          4,
          5,
          6,
          7,
          8,
          9,
          10,
          11,
          12,
          13,
          14,
          15,
          16,
          17,
          18,
          19,
          20,
          21,
          22,
          23,
          24
         ],
         "xaxis": "x20",
         "y": [
          "2022-11-30",
          "2022-11-30",
          "2022-11-30",
          "2022-11-30",
          "2022-11-30",
          "2022-11-30",
          "2022-11-30",
          "2022-11-30",
          "2022-11-30",
          "2022-11-30",
          "2022-11-30",
          "2022-11-30",
          "2022-11-30",
          "2022-11-30",
          "2022-11-30",
          "2022-11-30",
          "2022-11-30",
          "2022-11-30",
          "2022-11-30",
          "2022-11-30",
          "2022-11-30",
          "2022-11-30",
          "2022-11-30",
          "2022-11-30",
          "2022-11-30"
         ],
         "yaxis": "y20",
         "z": [
          1,
          1,
          1.028436646774771,
          1.00729790049972,
          1.00729790049972,
          1.00729790049972,
          null,
          null,
          null,
          null,
          null,
          null,
          null,
          null,
          null,
          null,
          null,
          null,
          null,
          null,
          null,
          null,
          null,
          null,
          null
         ],
         "zmax": 1.5,
         "zmid": 1,
         "zmin": 0.5
        },
        {
         "colorscale": [
          [
           0,
           "rgb(247,252,245)"
          ],
          [
           0.125,
           "rgb(229,245,224)"
          ],
          [
           0.25,
           "rgb(199,233,192)"
          ],
          [
           0.375,
           "rgb(161,217,155)"
          ],
          [
           0.5,
           "rgb(116,196,118)"
          ],
          [
           0.625,
           "rgb(65,171,93)"
          ],
          [
           0.75,
           "rgb(35,139,69)"
          ],
          [
           0.875,
           "rgb(0,109,44)"
          ],
          [
           1,
           "rgb(0,68,27)"
          ]
         ],
         "hoverongaps": false,
         "hovertemplate": "Cohort End Date: <b>%{y}</b> <br>Months Since Joining Cohort: <b>%{x}</b> <br>Retained MRR: <b>%{z:.2%}</b> <br><extra></extra>",
         "showlegend": false,
         "showscale": false,
         "texttemplate": "%{z:.0%}",
         "type": "heatmap",
         "x": [
          0,
          1,
          2,
          3,
          4,
          5,
          6,
          7,
          8,
          9,
          10,
          11,
          12,
          13,
          14,
          15,
          16,
          17,
          18,
          19,
          20,
          21,
          22,
          23,
          24
         ],
         "xaxis": "x21",
         "y": [
          "2022-12-31",
          "2022-12-31",
          "2022-12-31",
          "2022-12-31",
          "2022-12-31",
          "2022-12-31",
          "2022-12-31",
          "2022-12-31",
          "2022-12-31",
          "2022-12-31",
          "2022-12-31",
          "2022-12-31",
          "2022-12-31",
          "2022-12-31",
          "2022-12-31",
          "2022-12-31",
          "2022-12-31",
          "2022-12-31",
          "2022-12-31",
          "2022-12-31",
          "2022-12-31",
          "2022-12-31",
          "2022-12-31",
          "2022-12-31",
          "2022-12-31"
         ],
         "yaxis": "y21",
         "z": [
          1,
          1,
          1,
          0.9684344251198979,
          0.9684344251198979,
          null,
          null,
          null,
          null,
          null,
          null,
          null,
          null,
          null,
          null,
          null,
          null,
          null,
          null,
          null,
          null,
          null,
          null,
          null,
          null
         ],
         "zmax": 1.5,
         "zmid": 1,
         "zmin": 0.5
        },
        {
         "colorscale": [
          [
           0,
           "rgb(247,252,245)"
          ],
          [
           0.125,
           "rgb(229,245,224)"
          ],
          [
           0.25,
           "rgb(199,233,192)"
          ],
          [
           0.375,
           "rgb(161,217,155)"
          ],
          [
           0.5,
           "rgb(116,196,118)"
          ],
          [
           0.625,
           "rgb(65,171,93)"
          ],
          [
           0.75,
           "rgb(35,139,69)"
          ],
          [
           0.875,
           "rgb(0,109,44)"
          ],
          [
           1,
           "rgb(0,68,27)"
          ]
         ],
         "hoverongaps": false,
         "hovertemplate": "Cohort End Date: <b>%{y}</b> <br>Months Since Joining Cohort: <b>%{x}</b> <br>Retained MRR: <b>%{z:.2%}</b> <br><extra></extra>",
         "showlegend": false,
         "showscale": false,
         "texttemplate": "%{z:.0%}",
         "type": "heatmap",
         "x": [
          0,
          1,
          2,
          3,
          4,
          5,
          6,
          7,
          8,
          9,
          10,
          11,
          12,
          13,
          14,
          15,
          16,
          17,
          18,
          19,
          20,
          21,
          22,
          23,
          24
         ],
         "xaxis": "x22",
         "y": [
          "2023-01-31",
          "2023-01-31",
          "2023-01-31",
          "2023-01-31",
          "2023-01-31",
          "2023-01-31",
          "2023-01-31",
          "2023-01-31",
          "2023-01-31",
          "2023-01-31",
          "2023-01-31",
          "2023-01-31",
          "2023-01-31",
          "2023-01-31",
          "2023-01-31",
          "2023-01-31",
          "2023-01-31",
          "2023-01-31",
          "2023-01-31",
          "2023-01-31",
          "2023-01-31",
          "2023-01-31",
          "2023-01-31",
          "2023-01-31",
          "2023-01-31"
         ],
         "yaxis": "y22",
         "z": [
          1,
          1.007083131977911,
          1.008748184158896,
          1.008748184158896,
          null,
          null,
          null,
          null,
          null,
          null,
          null,
          null,
          null,
          null,
          null,
          null,
          null,
          null,
          null,
          null,
          null,
          null,
          null,
          null,
          null
         ],
         "zmax": 1.5,
         "zmid": 1,
         "zmin": 0.5
        },
        {
         "colorscale": [
          [
           0,
           "rgb(247,252,245)"
          ],
          [
           0.125,
           "rgb(229,245,224)"
          ],
          [
           0.25,
           "rgb(199,233,192)"
          ],
          [
           0.375,
           "rgb(161,217,155)"
          ],
          [
           0.5,
           "rgb(116,196,118)"
          ],
          [
           0.625,
           "rgb(65,171,93)"
          ],
          [
           0.75,
           "rgb(35,139,69)"
          ],
          [
           0.875,
           "rgb(0,109,44)"
          ],
          [
           1,
           "rgb(0,68,27)"
          ]
         ],
         "hoverongaps": false,
         "hovertemplate": "Cohort End Date: <b>%{y}</b> <br>Months Since Joining Cohort: <b>%{x}</b> <br>Retained MRR: <b>%{z:.2%}</b> <br><extra></extra>",
         "showlegend": false,
         "showscale": false,
         "texttemplate": "%{z:.0%}",
         "type": "heatmap",
         "x": [
          0,
          1,
          2,
          3,
          4,
          5,
          6,
          7,
          8,
          9,
          10,
          11,
          12,
          13,
          14,
          15,
          16,
          17,
          18,
          19,
          20,
          21,
          22,
          23,
          24
         ],
         "xaxis": "x23",
         "y": [
          "2023-02-28",
          "2023-02-28",
          "2023-02-28",
          "2023-02-28",
          "2023-02-28",
          "2023-02-28",
          "2023-02-28",
          "2023-02-28",
          "2023-02-28",
          "2023-02-28",
          "2023-02-28",
          "2023-02-28",
          "2023-02-28",
          "2023-02-28",
          "2023-02-28",
          "2023-02-28",
          "2023-02-28",
          "2023-02-28",
          "2023-02-28",
          "2023-02-28",
          "2023-02-28",
          "2023-02-28",
          "2023-02-28",
          "2023-02-28",
          "2023-02-28"
         ],
         "yaxis": "y23",
         "z": [
          1,
          1.0174165943986808,
          1.0377359545304754,
          null,
          null,
          null,
          null,
          null,
          null,
          null,
          null,
          null,
          null,
          null,
          null,
          null,
          null,
          null,
          null,
          null,
          null,
          null,
          null,
          null,
          null
         ],
         "zmax": 1.5,
         "zmid": 1,
         "zmin": 0.5
        },
        {
         "colorscale": [
          [
           0,
           "rgb(247,252,245)"
          ],
          [
           0.125,
           "rgb(229,245,224)"
          ],
          [
           0.25,
           "rgb(199,233,192)"
          ],
          [
           0.375,
           "rgb(161,217,155)"
          ],
          [
           0.5,
           "rgb(116,196,118)"
          ],
          [
           0.625,
           "rgb(65,171,93)"
          ],
          [
           0.75,
           "rgb(35,139,69)"
          ],
          [
           0.875,
           "rgb(0,109,44)"
          ],
          [
           1,
           "rgb(0,68,27)"
          ]
         ],
         "hoverongaps": false,
         "hovertemplate": "Cohort End Date: <b>%{y}</b> <br>Months Since Joining Cohort: <b>%{x}</b> <br>Retained MRR: <b>%{z:.2%}</b> <br><extra></extra>",
         "showlegend": false,
         "showscale": false,
         "texttemplate": "%{z:.0%}",
         "type": "heatmap",
         "x": [
          0,
          1,
          2,
          3,
          4,
          5,
          6,
          7,
          8,
          9,
          10,
          11,
          12,
          13,
          14,
          15,
          16,
          17,
          18,
          19,
          20,
          21,
          22,
          23,
          24
         ],
         "xaxis": "x24",
         "y": [
          "2023-03-31",
          "2023-03-31",
          "2023-03-31",
          "2023-03-31",
          "2023-03-31",
          "2023-03-31",
          "2023-03-31",
          "2023-03-31",
          "2023-03-31",
          "2023-03-31",
          "2023-03-31",
          "2023-03-31",
          "2023-03-31",
          "2023-03-31",
          "2023-03-31",
          "2023-03-31",
          "2023-03-31",
          "2023-03-31",
          "2023-03-31",
          "2023-03-31",
          "2023-03-31",
          "2023-03-31",
          "2023-03-31",
          "2023-03-31",
          "2023-03-31"
         ],
         "yaxis": "y24",
         "z": [
          1,
          1.0036622454726887,
          null,
          null,
          null,
          null,
          null,
          null,
          null,
          null,
          null,
          null,
          null,
          null,
          null,
          null,
          null,
          null,
          null,
          null,
          null,
          null,
          null,
          null,
          null
         ],
         "zmax": 1.5,
         "zmid": 1,
         "zmin": 0.5
        },
        {
         "colorscale": [
          [
           0,
           "rgb(247,252,245)"
          ],
          [
           0.125,
           "rgb(229,245,224)"
          ],
          [
           0.25,
           "rgb(199,233,192)"
          ],
          [
           0.375,
           "rgb(161,217,155)"
          ],
          [
           0.5,
           "rgb(116,196,118)"
          ],
          [
           0.625,
           "rgb(65,171,93)"
          ],
          [
           0.75,
           "rgb(35,139,69)"
          ],
          [
           0.875,
           "rgb(0,109,44)"
          ],
          [
           1,
           "rgb(0,68,27)"
          ]
         ],
         "hoverongaps": false,
         "hovertemplate": "Cohort End Date: <b>%{y}</b> <br>Months Since Joining Cohort: <b>%{x}</b> <br>Retained MRR: <b>%{z:.2%}</b> <br><extra></extra>",
         "showlegend": false,
         "showscale": false,
         "texttemplate": "%{z:.0%}",
         "type": "heatmap",
         "x": [
          0,
          1,
          2,
          3,
          4,
          5,
          6,
          7,
          8,
          9,
          10,
          11,
          12,
          13,
          14,
          15,
          16,
          17,
          18,
          19,
          20,
          21,
          22,
          23,
          24
         ],
         "xaxis": "x25",
         "y": [
          "2023-04-30",
          "2023-04-30",
          "2023-04-30",
          "2023-04-30",
          "2023-04-30",
          "2023-04-30",
          "2023-04-30",
          "2023-04-30",
          "2023-04-30",
          "2023-04-30",
          "2023-04-30",
          "2023-04-30",
          "2023-04-30",
          "2023-04-30",
          "2023-04-30",
          "2023-04-30",
          "2023-04-30",
          "2023-04-30",
          "2023-04-30",
          "2023-04-30",
          "2023-04-30",
          "2023-04-30",
          "2023-04-30",
          "2023-04-30",
          "2023-04-30"
         ],
         "yaxis": "y25",
         "z": [
          1,
          null,
          null,
          null,
          null,
          null,
          null,
          null,
          null,
          null,
          null,
          null,
          null,
          null,
          null,
          null,
          null,
          null,
          null,
          null,
          null,
          null,
          null,
          null,
          null
         ],
         "zmax": 1.5,
         "zmid": 1,
         "zmin": 0.5
        }
       ],
       "layout": {
        "annotations": [
         {
          "font": {
           "size": 16
          },
          "showarrow": false,
          "text": "Periods Since Joining Cohort",
          "x": 0.5,
          "xanchor": "center",
          "xref": "paper",
          "y": 0,
          "yanchor": "top",
          "yref": "paper",
          "yshift": -30
         },
         {
          "align": "left",
          "font": {
           "size": 12
          },
          "showarrow": false,
          "text": "\n    The <b><span style='color: purple'>May 2021</span></b> cohort has continued to show<br>\n    strong retention as those customers reach<br>\n    the 2 year mark.<br>\n    <br>\n    Conversely, the <b><span style='color: red'>October 2021</span></b> cohort saw a large reduction in<br>\n    revenue in month 1. Efforts have been made to upsell remaining<br>\n    customers but so far only half of initial revenue has been recovered.\n    ",
          "x": 1.05,
          "xref": "paper",
          "y": 0.1,
          "yref": "paper"
         }
        ],
        "font": {
         "size": 10
        },
        "margin": {
         "pad": 5
        },
        "plot_bgcolor": "white",
        "shapes": [
         {
          "line": {
           "color": "purple",
           "width": 2
          },
          "type": "rect",
          "x0": -0.09,
          "x1": 0.96,
          "xref": "paper",
          "y0": 0.96,
          "y1": 0.888,
          "yref": "paper"
         },
         {
          "line": {
           "color": "red",
           "width": 2
          },
          "type": "rect",
          "x0": -0.09,
          "x1": 0.76,
          "xref": "paper",
          "y0": 0.74,
          "y1": 0.6679999999999999,
          "yref": "paper"
         }
        ],
        "template": {
         "data": {
          "bar": [
           {
            "error_x": {
             "color": "#2a3f5f"
            },
            "error_y": {
             "color": "#2a3f5f"
            },
            "marker": {
             "line": {
              "color": "#E5ECF6",
              "width": 0.5
             },
             "pattern": {
              "fillmode": "overlay",
              "size": 10,
              "solidity": 0.2
             }
            },
            "type": "bar"
           }
          ],
          "barpolar": [
           {
            "marker": {
             "line": {
              "color": "#E5ECF6",
              "width": 0.5
             },
             "pattern": {
              "fillmode": "overlay",
              "size": 10,
              "solidity": 0.2
             }
            },
            "type": "barpolar"
           }
          ],
          "carpet": [
           {
            "aaxis": {
             "endlinecolor": "#2a3f5f",
             "gridcolor": "white",
             "linecolor": "white",
             "minorgridcolor": "white",
             "startlinecolor": "#2a3f5f"
            },
            "baxis": {
             "endlinecolor": "#2a3f5f",
             "gridcolor": "white",
             "linecolor": "white",
             "minorgridcolor": "white",
             "startlinecolor": "#2a3f5f"
            },
            "type": "carpet"
           }
          ],
          "choropleth": [
           {
            "colorbar": {
             "outlinewidth": 0,
             "ticks": ""
            },
            "type": "choropleth"
           }
          ],
          "contour": [
           {
            "colorbar": {
             "outlinewidth": 0,
             "ticks": ""
            },
            "colorscale": [
             [
              0,
              "#0d0887"
             ],
             [
              0.1111111111111111,
              "#46039f"
             ],
             [
              0.2222222222222222,
              "#7201a8"
             ],
             [
              0.3333333333333333,
              "#9c179e"
             ],
             [
              0.4444444444444444,
              "#bd3786"
             ],
             [
              0.5555555555555556,
              "#d8576b"
             ],
             [
              0.6666666666666666,
              "#ed7953"
             ],
             [
              0.7777777777777778,
              "#fb9f3a"
             ],
             [
              0.8888888888888888,
              "#fdca26"
             ],
             [
              1,
              "#f0f921"
             ]
            ],
            "type": "contour"
           }
          ],
          "contourcarpet": [
           {
            "colorbar": {
             "outlinewidth": 0,
             "ticks": ""
            },
            "type": "contourcarpet"
           }
          ],
          "heatmap": [
           {
            "colorbar": {
             "outlinewidth": 0,
             "ticks": ""
            },
            "colorscale": [
             [
              0,
              "#0d0887"
             ],
             [
              0.1111111111111111,
              "#46039f"
             ],
             [
              0.2222222222222222,
              "#7201a8"
             ],
             [
              0.3333333333333333,
              "#9c179e"
             ],
             [
              0.4444444444444444,
              "#bd3786"
             ],
             [
              0.5555555555555556,
              "#d8576b"
             ],
             [
              0.6666666666666666,
              "#ed7953"
             ],
             [
              0.7777777777777778,
              "#fb9f3a"
             ],
             [
              0.8888888888888888,
              "#fdca26"
             ],
             [
              1,
              "#f0f921"
             ]
            ],
            "type": "heatmap"
           }
          ],
          "heatmapgl": [
           {
            "colorbar": {
             "outlinewidth": 0,
             "ticks": ""
            },
            "colorscale": [
             [
              0,
              "#0d0887"
             ],
             [
              0.1111111111111111,
              "#46039f"
             ],
             [
              0.2222222222222222,
              "#7201a8"
             ],
             [
              0.3333333333333333,
              "#9c179e"
             ],
             [
              0.4444444444444444,
              "#bd3786"
             ],
             [
              0.5555555555555556,
              "#d8576b"
             ],
             [
              0.6666666666666666,
              "#ed7953"
             ],
             [
              0.7777777777777778,
              "#fb9f3a"
             ],
             [
              0.8888888888888888,
              "#fdca26"
             ],
             [
              1,
              "#f0f921"
             ]
            ],
            "type": "heatmapgl"
           }
          ],
          "histogram": [
           {
            "marker": {
             "pattern": {
              "fillmode": "overlay",
              "size": 10,
              "solidity": 0.2
             }
            },
            "type": "histogram"
           }
          ],
          "histogram2d": [
           {
            "colorbar": {
             "outlinewidth": 0,
             "ticks": ""
            },
            "colorscale": [
             [
              0,
              "#0d0887"
             ],
             [
              0.1111111111111111,
              "#46039f"
             ],
             [
              0.2222222222222222,
              "#7201a8"
             ],
             [
              0.3333333333333333,
              "#9c179e"
             ],
             [
              0.4444444444444444,
              "#bd3786"
             ],
             [
              0.5555555555555556,
              "#d8576b"
             ],
             [
              0.6666666666666666,
              "#ed7953"
             ],
             [
              0.7777777777777778,
              "#fb9f3a"
             ],
             [
              0.8888888888888888,
              "#fdca26"
             ],
             [
              1,
              "#f0f921"
             ]
            ],
            "type": "histogram2d"
           }
          ],
          "histogram2dcontour": [
           {
            "colorbar": {
             "outlinewidth": 0,
             "ticks": ""
            },
            "colorscale": [
             [
              0,
              "#0d0887"
             ],
             [
              0.1111111111111111,
              "#46039f"
             ],
             [
              0.2222222222222222,
              "#7201a8"
             ],
             [
              0.3333333333333333,
              "#9c179e"
             ],
             [
              0.4444444444444444,
              "#bd3786"
             ],
             [
              0.5555555555555556,
              "#d8576b"
             ],
             [
              0.6666666666666666,
              "#ed7953"
             ],
             [
              0.7777777777777778,
              "#fb9f3a"
             ],
             [
              0.8888888888888888,
              "#fdca26"
             ],
             [
              1,
              "#f0f921"
             ]
            ],
            "type": "histogram2dcontour"
           }
          ],
          "mesh3d": [
           {
            "colorbar": {
             "outlinewidth": 0,
             "ticks": ""
            },
            "type": "mesh3d"
           }
          ],
          "parcoords": [
           {
            "line": {
             "colorbar": {
              "outlinewidth": 0,
              "ticks": ""
             }
            },
            "type": "parcoords"
           }
          ],
          "pie": [
           {
            "automargin": true,
            "type": "pie"
           }
          ],
          "scatter": [
           {
            "fillpattern": {
             "fillmode": "overlay",
             "size": 10,
             "solidity": 0.2
            },
            "type": "scatter"
           }
          ],
          "scatter3d": [
           {
            "line": {
             "colorbar": {
              "outlinewidth": 0,
              "ticks": ""
             }
            },
            "marker": {
             "colorbar": {
              "outlinewidth": 0,
              "ticks": ""
             }
            },
            "type": "scatter3d"
           }
          ],
          "scattercarpet": [
           {
            "marker": {
             "colorbar": {
              "outlinewidth": 0,
              "ticks": ""
             }
            },
            "type": "scattercarpet"
           }
          ],
          "scattergeo": [
           {
            "marker": {
             "colorbar": {
              "outlinewidth": 0,
              "ticks": ""
             }
            },
            "type": "scattergeo"
           }
          ],
          "scattergl": [
           {
            "marker": {
             "colorbar": {
              "outlinewidth": 0,
              "ticks": ""
             }
            },
            "type": "scattergl"
           }
          ],
          "scattermapbox": [
           {
            "marker": {
             "colorbar": {
              "outlinewidth": 0,
              "ticks": ""
             }
            },
            "type": "scattermapbox"
           }
          ],
          "scatterpolar": [
           {
            "marker": {
             "colorbar": {
              "outlinewidth": 0,
              "ticks": ""
             }
            },
            "type": "scatterpolar"
           }
          ],
          "scatterpolargl": [
           {
            "marker": {
             "colorbar": {
              "outlinewidth": 0,
              "ticks": ""
             }
            },
            "type": "scatterpolargl"
           }
          ],
          "scatterternary": [
           {
            "marker": {
             "colorbar": {
              "outlinewidth": 0,
              "ticks": ""
             }
            },
            "type": "scatterternary"
           }
          ],
          "surface": [
           {
            "colorbar": {
             "outlinewidth": 0,
             "ticks": ""
            },
            "colorscale": [
             [
              0,
              "#0d0887"
             ],
             [
              0.1111111111111111,
              "#46039f"
             ],
             [
              0.2222222222222222,
              "#7201a8"
             ],
             [
              0.3333333333333333,
              "#9c179e"
             ],
             [
              0.4444444444444444,
              "#bd3786"
             ],
             [
              0.5555555555555556,
              "#d8576b"
             ],
             [
              0.6666666666666666,
              "#ed7953"
             ],
             [
              0.7777777777777778,
              "#fb9f3a"
             ],
             [
              0.8888888888888888,
              "#fdca26"
             ],
             [
              1,
              "#f0f921"
             ]
            ],
            "type": "surface"
           }
          ],
          "table": [
           {
            "cells": {
             "fill": {
              "color": "#EBF0F8"
             },
             "line": {
              "color": "white"
             }
            },
            "header": {
             "fill": {
              "color": "#C8D4E3"
             },
             "line": {
              "color": "white"
             }
            },
            "type": "table"
           }
          ]
         },
         "layout": {
          "annotationdefaults": {
           "arrowcolor": "#2a3f5f",
           "arrowhead": 0,
           "arrowwidth": 1
          },
          "autotypenumbers": "strict",
          "coloraxis": {
           "colorbar": {
            "outlinewidth": 0,
            "ticks": ""
           }
          },
          "colorscale": {
           "diverging": [
            [
             0,
             "#8e0152"
            ],
            [
             0.1,
             "#c51b7d"
            ],
            [
             0.2,
             "#de77ae"
            ],
            [
             0.3,
             "#f1b6da"
            ],
            [
             0.4,
             "#fde0ef"
            ],
            [
             0.5,
             "#f7f7f7"
            ],
            [
             0.6,
             "#e6f5d0"
            ],
            [
             0.7,
             "#b8e186"
            ],
            [
             0.8,
             "#7fbc41"
            ],
            [
             0.9,
             "#4d9221"
            ],
            [
             1,
             "#276419"
            ]
           ],
           "sequential": [
            [
             0,
             "#0d0887"
            ],
            [
             0.1111111111111111,
             "#46039f"
            ],
            [
             0.2222222222222222,
             "#7201a8"
            ],
            [
             0.3333333333333333,
             "#9c179e"
            ],
            [
             0.4444444444444444,
             "#bd3786"
            ],
            [
             0.5555555555555556,
             "#d8576b"
            ],
            [
             0.6666666666666666,
             "#ed7953"
            ],
            [
             0.7777777777777778,
             "#fb9f3a"
            ],
            [
             0.8888888888888888,
             "#fdca26"
            ],
            [
             1,
             "#f0f921"
            ]
           ],
           "sequentialminus": [
            [
             0,
             "#0d0887"
            ],
            [
             0.1111111111111111,
             "#46039f"
            ],
            [
             0.2222222222222222,
             "#7201a8"
            ],
            [
             0.3333333333333333,
             "#9c179e"
            ],
            [
             0.4444444444444444,
             "#bd3786"
            ],
            [
             0.5555555555555556,
             "#d8576b"
            ],
            [
             0.6666666666666666,
             "#ed7953"
            ],
            [
             0.7777777777777778,
             "#fb9f3a"
            ],
            [
             0.8888888888888888,
             "#fdca26"
            ],
            [
             1,
             "#f0f921"
            ]
           ]
          },
          "colorway": [
           "#636efa",
           "#EF553B",
           "#00cc96",
           "#ab63fa",
           "#FFA15A",
           "#19d3f3",
           "#FF6692",
           "#B6E880",
           "#FF97FF",
           "#FECB52"
          ],
          "font": {
           "color": "#2a3f5f"
          },
          "geo": {
           "bgcolor": "white",
           "lakecolor": "white",
           "landcolor": "#E5ECF6",
           "showlakes": true,
           "showland": true,
           "subunitcolor": "white"
          },
          "hoverlabel": {
           "align": "left"
          },
          "hovermode": "closest",
          "mapbox": {
           "style": "light"
          },
          "paper_bgcolor": "white",
          "plot_bgcolor": "#E5ECF6",
          "polar": {
           "angularaxis": {
            "gridcolor": "white",
            "linecolor": "white",
            "ticks": ""
           },
           "bgcolor": "#E5ECF6",
           "radialaxis": {
            "gridcolor": "white",
            "linecolor": "white",
            "ticks": ""
           }
          },
          "scene": {
           "xaxis": {
            "backgroundcolor": "#E5ECF6",
            "gridcolor": "white",
            "gridwidth": 2,
            "linecolor": "white",
            "showbackground": true,
            "ticks": "",
            "zerolinecolor": "white"
           },
           "yaxis": {
            "backgroundcolor": "#E5ECF6",
            "gridcolor": "white",
            "gridwidth": 2,
            "linecolor": "white",
            "showbackground": true,
            "ticks": "",
            "zerolinecolor": "white"
           },
           "zaxis": {
            "backgroundcolor": "#E5ECF6",
            "gridcolor": "white",
            "gridwidth": 2,
            "linecolor": "white",
            "showbackground": true,
            "ticks": "",
            "zerolinecolor": "white"
           }
          },
          "shapedefaults": {
           "line": {
            "color": "#2a3f5f"
           }
          },
          "ternary": {
           "aaxis": {
            "gridcolor": "white",
            "linecolor": "white",
            "ticks": ""
           },
           "baxis": {
            "gridcolor": "white",
            "linecolor": "white",
            "ticks": ""
           },
           "bgcolor": "#E5ECF6",
           "caxis": {
            "gridcolor": "white",
            "linecolor": "white",
            "ticks": ""
           }
          },
          "title": {
           "x": 0.05
          },
          "xaxis": {
           "automargin": true,
           "gridcolor": "white",
           "linecolor": "white",
           "ticks": "",
           "title": {
            "standoff": 15
           },
           "zerolinecolor": "white",
           "zerolinewidth": 2
          },
          "yaxis": {
           "automargin": true,
           "gridcolor": "white",
           "linecolor": "white",
           "ticks": "",
           "title": {
            "standoff": 15
           },
           "zerolinecolor": "white",
           "zerolinewidth": 2
          }
         }
        },
        "title": {
         "font": {
          "size": 20
         },
         "text": "Last 25 Periods MRR",
         "x": 0.5
        },
        "uniformtext": {
         "minsize": 6,
         "mode": "hide"
        },
        "xaxis": {
         "anchor": "y",
         "domain": [
          0,
          1
         ],
         "matches": "x25",
         "showticklabels": false,
         "tickfont": {
          "size": 10
         },
         "type": "category"
        },
        "xaxis10": {
         "anchor": "y10",
         "domain": [
          0,
          1
         ],
         "matches": "x25",
         "showticklabels": false,
         "tickfont": {
          "size": 10
         },
         "type": "category"
        },
        "xaxis11": {
         "anchor": "y11",
         "domain": [
          0,
          1
         ],
         "matches": "x25",
         "showticklabels": false,
         "tickfont": {
          "size": 10
         },
         "type": "category"
        },
        "xaxis12": {
         "anchor": "y12",
         "domain": [
          0,
          1
         ],
         "matches": "x25",
         "showticklabels": false,
         "tickfont": {
          "size": 10
         },
         "type": "category"
        },
        "xaxis13": {
         "anchor": "y13",
         "domain": [
          0,
          1
         ],
         "matches": "x25",
         "showticklabels": false,
         "tickfont": {
          "size": 10
         },
         "type": "category"
        },
        "xaxis14": {
         "anchor": "y14",
         "domain": [
          0,
          1
         ],
         "matches": "x25",
         "showticklabels": false,
         "tickfont": {
          "size": 10
         },
         "type": "category"
        },
        "xaxis15": {
         "anchor": "y15",
         "domain": [
          0,
          1
         ],
         "matches": "x25",
         "showticklabels": false,
         "tickfont": {
          "size": 10
         },
         "type": "category"
        },
        "xaxis16": {
         "anchor": "y16",
         "domain": [
          0,
          1
         ],
         "matches": "x25",
         "showticklabels": false,
         "tickfont": {
          "size": 10
         },
         "type": "category"
        },
        "xaxis17": {
         "anchor": "y17",
         "domain": [
          0,
          1
         ],
         "matches": "x25",
         "showticklabels": false,
         "tickfont": {
          "size": 10
         },
         "type": "category"
        },
        "xaxis18": {
         "anchor": "y18",
         "domain": [
          0,
          1
         ],
         "matches": "x25",
         "showticklabels": false,
         "tickfont": {
          "size": 10
         },
         "type": "category"
        },
        "xaxis19": {
         "anchor": "y19",
         "domain": [
          0,
          1
         ],
         "matches": "x25",
         "showticklabels": false,
         "tickfont": {
          "size": 10
         },
         "type": "category"
        },
        "xaxis2": {
         "anchor": "y2",
         "domain": [
          0,
          1
         ],
         "matches": "x25",
         "showticklabels": false,
         "tickfont": {
          "size": 10
         },
         "type": "category"
        },
        "xaxis20": {
         "anchor": "y20",
         "domain": [
          0,
          1
         ],
         "matches": "x25",
         "showticklabels": false,
         "tickfont": {
          "size": 10
         },
         "type": "category"
        },
        "xaxis21": {
         "anchor": "y21",
         "domain": [
          0,
          1
         ],
         "matches": "x25",
         "showticklabels": false,
         "tickfont": {
          "size": 10
         },
         "type": "category"
        },
        "xaxis22": {
         "anchor": "y22",
         "domain": [
          0,
          1
         ],
         "matches": "x25",
         "showticklabels": false,
         "tickfont": {
          "size": 10
         },
         "type": "category"
        },
        "xaxis23": {
         "anchor": "y23",
         "domain": [
          0,
          1
         ],
         "matches": "x25",
         "showticklabels": false,
         "tickfont": {
          "size": 10
         },
         "type": "category"
        },
        "xaxis24": {
         "anchor": "y24",
         "domain": [
          0,
          1
         ],
         "matches": "x25",
         "showticklabels": false,
         "tickfont": {
          "size": 10
         },
         "type": "category"
        },
        "xaxis25": {
         "anchor": "y25",
         "domain": [
          0,
          1
         ],
         "tickfont": {
          "size": 10
         },
         "type": "category"
        },
        "xaxis3": {
         "anchor": "y3",
         "domain": [
          0,
          1
         ],
         "matches": "x25",
         "showticklabels": false,
         "tickfont": {
          "size": 10
         },
         "type": "category"
        },
        "xaxis4": {
         "anchor": "y4",
         "domain": [
          0,
          1
         ],
         "matches": "x25",
         "showticklabels": false,
         "tickfont": {
          "size": 10
         },
         "type": "category"
        },
        "xaxis5": {
         "anchor": "y5",
         "domain": [
          0,
          1
         ],
         "matches": "x25",
         "showticklabels": false,
         "tickfont": {
          "size": 10
         },
         "type": "category"
        },
        "xaxis6": {
         "anchor": "y6",
         "domain": [
          0,
          1
         ],
         "matches": "x25",
         "showticklabels": false,
         "tickfont": {
          "size": 10
         },
         "type": "category"
        },
        "xaxis7": {
         "anchor": "y7",
         "domain": [
          0,
          1
         ],
         "matches": "x25",
         "showticklabels": false,
         "tickfont": {
          "size": 10
         },
         "type": "category"
        },
        "xaxis8": {
         "anchor": "y8",
         "domain": [
          0,
          1
         ],
         "matches": "x25",
         "showticklabels": false,
         "tickfont": {
          "size": 10
         },
         "type": "category"
        },
        "xaxis9": {
         "anchor": "y9",
         "domain": [
          0,
          1
         ],
         "matches": "x25",
         "showticklabels": false,
         "tickfont": {
          "size": 10
         },
         "type": "category"
        },
        "yaxis": {
         "anchor": "x",
         "domain": [
          0.9629629629629627,
          0.9999999999999998
         ],
         "tickfont": {
          "size": 10
         },
         "type": "category"
        },
        "yaxis10": {
         "anchor": "x10",
         "domain": [
          0.5555555555555556,
          0.5925925925925926
         ],
         "tickfont": {
          "size": 10
         },
         "type": "category"
        },
        "yaxis11": {
         "anchor": "x11",
         "domain": [
          0.5185185185185185,
          0.5555555555555556
         ],
         "tickfont": {
          "size": 10
         },
         "type": "category"
        },
        "yaxis12": {
         "anchor": "x12",
         "domain": [
          0.48148148148148145,
          0.5185185185185185
         ],
         "tickfont": {
          "size": 10
         },
         "type": "category"
        },
        "yaxis13": {
         "anchor": "x13",
         "domain": [
          0.4444444444444444,
          0.48148148148148145
         ],
         "tickfont": {
          "size": 10
         },
         "type": "category"
        },
        "yaxis14": {
         "anchor": "x14",
         "domain": [
          0.4074074074074074,
          0.4444444444444444
         ],
         "tickfont": {
          "size": 10
         },
         "type": "category"
        },
        "yaxis15": {
         "anchor": "x15",
         "domain": [
          0.37037037037037035,
          0.4074074074074074
         ],
         "tickfont": {
          "size": 10
         },
         "type": "category"
        },
        "yaxis16": {
         "anchor": "x16",
         "domain": [
          0.3333333333333333,
          0.37037037037037035
         ],
         "tickfont": {
          "size": 10
         },
         "type": "category"
        },
        "yaxis17": {
         "anchor": "x17",
         "domain": [
          0.2962962962962963,
          0.3333333333333333
         ],
         "tickfont": {
          "size": 10
         },
         "type": "category"
        },
        "yaxis18": {
         "anchor": "x18",
         "domain": [
          0.25925925925925924,
          0.2962962962962963
         ],
         "tickfont": {
          "size": 10
         },
         "type": "category"
        },
        "yaxis19": {
         "anchor": "x19",
         "domain": [
          0.2222222222222222,
          0.25925925925925924
         ],
         "tickfont": {
          "size": 10
         },
         "type": "category"
        },
        "yaxis2": {
         "anchor": "x2",
         "domain": [
          0.8888888888888886,
          0.9629629629629627
         ],
         "tickfont": {
          "size": 10
         },
         "type": "category"
        },
        "yaxis20": {
         "anchor": "x20",
         "domain": [
          0.18518518518518517,
          0.2222222222222222
         ],
         "tickfont": {
          "size": 10
         },
         "type": "category"
        },
        "yaxis21": {
         "anchor": "x21",
         "domain": [
          0.14814814814814814,
          0.18518518518518517
         ],
         "tickfont": {
          "size": 10
         },
         "type": "category"
        },
        "yaxis22": {
         "anchor": "x22",
         "domain": [
          0.1111111111111111,
          0.14814814814814814
         ],
         "tickfont": {
          "size": 10
         },
         "type": "category"
        },
        "yaxis23": {
         "anchor": "x23",
         "domain": [
          0.07407407407407407,
          0.1111111111111111
         ],
         "tickfont": {
          "size": 10
         },
         "type": "category"
        },
        "yaxis24": {
         "anchor": "x24",
         "domain": [
          0.037037037037037035,
          0.07407407407407407
         ],
         "tickfont": {
          "size": 10
         },
         "type": "category"
        },
        "yaxis25": {
         "anchor": "x25",
         "domain": [
          0,
          0.037037037037037035
         ],
         "tickfont": {
          "size": 10
         },
         "type": "category"
        },
        "yaxis3": {
         "anchor": "x3",
         "domain": [
          0.8518518518518516,
          0.8888888888888886
         ],
         "tickfont": {
          "size": 10
         },
         "type": "category"
        },
        "yaxis4": {
         "anchor": "x4",
         "domain": [
          0.8148148148148147,
          0.8518518518518516
         ],
         "tickfont": {
          "size": 10
         },
         "type": "category"
        },
        "yaxis5": {
         "anchor": "x5",
         "domain": [
          0.7777777777777777,
          0.8148148148148147
         ],
         "tickfont": {
          "size": 10
         },
         "type": "category"
        },
        "yaxis6": {
         "anchor": "x6",
         "domain": [
          0.7407407407407406,
          0.7777777777777777
         ],
         "tickfont": {
          "size": 10
         },
         "type": "category"
        },
        "yaxis7": {
         "anchor": "x7",
         "domain": [
          0.6666666666666665,
          0.7407407407407406
         ],
         "tickfont": {
          "size": 10
         },
         "type": "category"
        },
        "yaxis8": {
         "anchor": "x8",
         "domain": [
          0.6296296296296295,
          0.6666666666666665
         ],
         "tickfont": {
          "size": 10
         },
         "type": "category"
        },
        "yaxis9": {
         "anchor": "x9",
         "domain": [
          0.5925925925925926,
          0.6296296296296295
         ],
         "tickfont": {
          "size": 10
         },
         "type": "category"
        }
       }
      },
      "text/html": [
       "<div>                            <div id=\"ae003f69-2a83-415b-8589-e381823031a9\" class=\"plotly-graph-div\" style=\"height:525px; width:100%;\"></div>            <script type=\"text/javascript\">                require([\"plotly\"], function(Plotly) {                    window.PLOTLYENV=window.PLOTLYENV || {};                                    if (document.getElementById(\"ae003f69-2a83-415b-8589-e381823031a9\")) {                    Plotly.newPlot(                        \"ae003f69-2a83-415b-8589-e381823031a9\",                        [{\"colorscale\":[[0.0,\"rgb(247,252,245)\"],[0.125,\"rgb(229,245,224)\"],[0.25,\"rgb(199,233,192)\"],[0.375,\"rgb(161,217,155)\"],[0.5,\"rgb(116,196,118)\"],[0.625,\"rgb(65,171,93)\"],[0.75,\"rgb(35,139,69)\"],[0.875,\"rgb(0,109,44)\"],[1.0,\"rgb(0,68,27)\"]],\"hoverongaps\":false,\"hovertemplate\":\"Cohort End Date: <b>%{y}</b> <br>Months Since Joining Cohort: <b>%{x}</b> <br>Retained MRR: <b>%{z:.2%}</b> <br><extra></extra>\",\"showlegend\":false,\"showscale\":false,\"texttemplate\":\"%{z:.0%}\",\"x\":[0,1,2,3,4,5,6,7,8,9,10,11,12,13,14,15,16,17,18,19,20,21,22,23,24],\"y\":[\"2021-04-30\",\"2021-04-30\",\"2021-04-30\",\"2021-04-30\",\"2021-04-30\",\"2021-04-30\",\"2021-04-30\",\"2021-04-30\",\"2021-04-30\",\"2021-04-30\",\"2021-04-30\",\"2021-04-30\",\"2021-04-30\",\"2021-04-30\",\"2021-04-30\",\"2021-04-30\",\"2021-04-30\",\"2021-04-30\",\"2021-04-30\",\"2021-04-30\",\"2021-04-30\",\"2021-04-30\",\"2021-04-30\",\"2021-04-30\",\"2021-04-30\"],\"z\":[1.0,1.3162206486855368,1.2800856296707737,1.2800856296707737,1.3126071467840605,1.3126071467840605,1.330174960599924,1.343080324533768,1.3372243865951468,1.4748389281527416,1.4748389281527416,1.5919576869251628,1.415332295053787,1.3880165436441338,1.3880165436441338,1.4706108728207354,1.4706108728207354,1.4706108728207354,1.4530430590048724,1.4530430590048724,1.4530430590048724,1.467682903851425,1.467682903851425,1.467682903851425,1.2406517415272411],\"zmax\":1.5,\"zmid\":1,\"zmin\":0.5,\"type\":\"heatmap\",\"xaxis\":\"x\",\"yaxis\":\"y\"},{\"colorscale\":[[0.0,\"rgb(247,252,245)\"],[0.125,\"rgb(229,245,224)\"],[0.25,\"rgb(199,233,192)\"],[0.375,\"rgb(161,217,155)\"],[0.5,\"rgb(116,196,118)\"],[0.625,\"rgb(65,171,93)\"],[0.75,\"rgb(35,139,69)\"],[0.875,\"rgb(0,109,44)\"],[1.0,\"rgb(0,68,27)\"]],\"hoverongaps\":false,\"hovertemplate\":\"Cohort End Date: <b>%{y}</b> <br>Months Since Joining Cohort: <b>%{x}</b> <br>Retained MRR: <b>%{z:.2%}</b> <br><extra></extra>\",\"showlegend\":false,\"showscale\":false,\"texttemplate\":\"%{z:.0%}\",\"x\":[0,1,2,3,4,5,6,7,8,9,10,11,12,13,14,15,16,17,18,19,20,21,22,23,24],\"y\":[\"2021-05-31\",\"2021-05-31\",\"2021-05-31\",\"2021-05-31\",\"2021-05-31\",\"2021-05-31\",\"2021-05-31\",\"2021-05-31\",\"2021-05-31\",\"2021-05-31\",\"2021-05-31\",\"2021-05-31\",\"2021-05-31\",\"2021-05-31\",\"2021-05-31\",\"2021-05-31\",\"2021-05-31\",\"2021-05-31\",\"2021-05-31\",\"2021-05-31\",\"2021-05-31\",\"2021-05-31\",\"2021-05-31\",\"2021-05-31\",\"2021-05-31\"],\"z\":[1.0,1.0648146371670408,1.081700927938859,1.1827699166800085,1.887466964363794,1.9470095975507407,2.345273069733084,2.3818600330720234,2.5679506920237287,2.5679506920237287,3.0323236882487254,3.345658194792461,3.184007204220423,2.5112860992679313,2.5555657061806984,2.3073304235258045,1.702238337535657,1.702238337535657,1.2209790505388418,1.1890827235254078,1.8093188639379,1.9867551665520864,1.9920528264020687,2.153410715999441,null],\"zmax\":1.5,\"zmid\":1,\"zmin\":0.5,\"type\":\"heatmap\",\"xaxis\":\"x2\",\"yaxis\":\"y2\"},{\"colorscale\":[[0.0,\"rgb(247,252,245)\"],[0.125,\"rgb(229,245,224)\"],[0.25,\"rgb(199,233,192)\"],[0.375,\"rgb(161,217,155)\"],[0.5,\"rgb(116,196,118)\"],[0.625,\"rgb(65,171,93)\"],[0.75,\"rgb(35,139,69)\"],[0.875,\"rgb(0,109,44)\"],[1.0,\"rgb(0,68,27)\"]],\"hoverongaps\":false,\"hovertemplate\":\"Cohort End Date: <b>%{y}</b> <br>Months Since Joining Cohort: <b>%{x}</b> <br>Retained MRR: <b>%{z:.2%}</b> <br><extra></extra>\",\"showlegend\":false,\"showscale\":false,\"texttemplate\":\"%{z:.0%}\",\"x\":[0,1,2,3,4,5,6,7,8,9,10,11,12,13,14,15,16,17,18,19,20,21,22,23,24],\"y\":[\"2021-06-30\",\"2021-06-30\",\"2021-06-30\",\"2021-06-30\",\"2021-06-30\",\"2021-06-30\",\"2021-06-30\",\"2021-06-30\",\"2021-06-30\",\"2021-06-30\",\"2021-06-30\",\"2021-06-30\",\"2021-06-30\",\"2021-06-30\",\"2021-06-30\",\"2021-06-30\",\"2021-06-30\",\"2021-06-30\",\"2021-06-30\",\"2021-06-30\",\"2021-06-30\",\"2021-06-30\",\"2021-06-30\",\"2021-06-30\",\"2021-06-30\"],\"z\":[1.0,1.0038141422116218,0.8459086546504767,0.8230238013807456,0.8230238013807456,0.9788475301227875,0.959922824428539,1.008407938681496,1.008407938681496,1.008407938681496,1.008407938681496,0.9971583550768499,1.5640043467272349,1.369458835990054,1.369458835990054,1.354965095585891,1.354965095585891,1.2146046621982065,1.2146046621982065,1.1930726537603547,1.1930726537603547,1.1930726537603547,1.1930726537603547,null,null],\"zmax\":1.5,\"zmid\":1,\"zmin\":0.5,\"type\":\"heatmap\",\"xaxis\":\"x3\",\"yaxis\":\"y3\"},{\"colorscale\":[[0.0,\"rgb(247,252,245)\"],[0.125,\"rgb(229,245,224)\"],[0.25,\"rgb(199,233,192)\"],[0.375,\"rgb(161,217,155)\"],[0.5,\"rgb(116,196,118)\"],[0.625,\"rgb(65,171,93)\"],[0.75,\"rgb(35,139,69)\"],[0.875,\"rgb(0,109,44)\"],[1.0,\"rgb(0,68,27)\"]],\"hoverongaps\":false,\"hovertemplate\":\"Cohort End Date: <b>%{y}</b> <br>Months Since Joining Cohort: <b>%{x}</b> <br>Retained MRR: <b>%{z:.2%}</b> <br><extra></extra>\",\"showlegend\":false,\"showscale\":false,\"texttemplate\":\"%{z:.0%}\",\"x\":[0,1,2,3,4,5,6,7,8,9,10,11,12,13,14,15,16,17,18,19,20,21,22,23,24],\"y\":[\"2021-07-31\",\"2021-07-31\",\"2021-07-31\",\"2021-07-31\",\"2021-07-31\",\"2021-07-31\",\"2021-07-31\",\"2021-07-31\",\"2021-07-31\",\"2021-07-31\",\"2021-07-31\",\"2021-07-31\",\"2021-07-31\",\"2021-07-31\",\"2021-07-31\",\"2021-07-31\",\"2021-07-31\",\"2021-07-31\",\"2021-07-31\",\"2021-07-31\",\"2021-07-31\",\"2021-07-31\",\"2021-07-31\",\"2021-07-31\",\"2021-07-31\"],\"z\":[1.0,0.9571697778485581,0.9315556650906665,0.9315556650906665,0.9395072412256761,0.9669949464468793,0.9625774041496516,0.9625774041496516,0.9625774041496516,0.9625774041496516,0.9625774041496516,1.0099405916886683,0.9218046258428125,0.9014839312755656,0.9014839312755656,0.9014839312755656,0.8997169143566746,0.8701087888328021,0.8701087888328021,0.8701087888328021,0.8701087888328021,0.8701087888328021,null,null,null],\"zmax\":1.5,\"zmid\":1,\"zmin\":0.5,\"type\":\"heatmap\",\"xaxis\":\"x4\",\"yaxis\":\"y4\"},{\"colorscale\":[[0.0,\"rgb(247,252,245)\"],[0.125,\"rgb(229,245,224)\"],[0.25,\"rgb(199,233,192)\"],[0.375,\"rgb(161,217,155)\"],[0.5,\"rgb(116,196,118)\"],[0.625,\"rgb(65,171,93)\"],[0.75,\"rgb(35,139,69)\"],[0.875,\"rgb(0,109,44)\"],[1.0,\"rgb(0,68,27)\"]],\"hoverongaps\":false,\"hovertemplate\":\"Cohort End Date: <b>%{y}</b> <br>Months Since Joining Cohort: <b>%{x}</b> <br>Retained MRR: <b>%{z:.2%}</b> <br><extra></extra>\",\"showlegend\":false,\"showscale\":false,\"texttemplate\":\"%{z:.0%}\",\"x\":[0,1,2,3,4,5,6,7,8,9,10,11,12,13,14,15,16,17,18,19,20,21,22,23,24],\"y\":[\"2021-08-31\",\"2021-08-31\",\"2021-08-31\",\"2021-08-31\",\"2021-08-31\",\"2021-08-31\",\"2021-08-31\",\"2021-08-31\",\"2021-08-31\",\"2021-08-31\",\"2021-08-31\",\"2021-08-31\",\"2021-08-31\",\"2021-08-31\",\"2021-08-31\",\"2021-08-31\",\"2021-08-31\",\"2021-08-31\",\"2021-08-31\",\"2021-08-31\",\"2021-08-31\",\"2021-08-31\",\"2021-08-31\",\"2021-08-31\",\"2021-08-31\"],\"z\":[1.0,0.8921370919890296,0.940198369193338,0.9690049343772339,0.9690049343772339,1.4889961706797181,1.4728365703874313,1.5507452353166045,1.5507452353166045,1.5507452353166045,1.4806929063466756,1.4829843376681222,1.3526160553275857,1.3526160553275857,1.5296676049575055,1.5296676049575055,1.5316316889473167,1.5489810975239813,1.5784061136962064,1.5784061136962064,1.5784061136962064,null,null,null,null],\"zmax\":1.5,\"zmid\":1,\"zmin\":0.5,\"type\":\"heatmap\",\"xaxis\":\"x5\",\"yaxis\":\"y5\"},{\"colorscale\":[[0.0,\"rgb(247,252,245)\"],[0.125,\"rgb(229,245,224)\"],[0.25,\"rgb(199,233,192)\"],[0.375,\"rgb(161,217,155)\"],[0.5,\"rgb(116,196,118)\"],[0.625,\"rgb(65,171,93)\"],[0.75,\"rgb(35,139,69)\"],[0.875,\"rgb(0,109,44)\"],[1.0,\"rgb(0,68,27)\"]],\"hoverongaps\":false,\"hovertemplate\":\"Cohort End Date: <b>%{y}</b> <br>Months Since Joining Cohort: <b>%{x}</b> <br>Retained MRR: <b>%{z:.2%}</b> <br><extra></extra>\",\"showlegend\":false,\"showscale\":false,\"texttemplate\":\"%{z:.0%}\",\"x\":[0,1,2,3,4,5,6,7,8,9,10,11,12,13,14,15,16,17,18,19,20,21,22,23,24],\"y\":[\"2021-09-30\",\"2021-09-30\",\"2021-09-30\",\"2021-09-30\",\"2021-09-30\",\"2021-09-30\",\"2021-09-30\",\"2021-09-30\",\"2021-09-30\",\"2021-09-30\",\"2021-09-30\",\"2021-09-30\",\"2021-09-30\",\"2021-09-30\",\"2021-09-30\",\"2021-09-30\",\"2021-09-30\",\"2021-09-30\",\"2021-09-30\",\"2021-09-30\",\"2021-09-30\",\"2021-09-30\",\"2021-09-30\",\"2021-09-30\",\"2021-09-30\"],\"z\":[1.0,1.0068887040586314,1.0068887040586314,1.0966026591448788,1.1014243180366203,1.1014243180366203,1.1014243180366203,1.1014243180366203,1.1014243180366203,1.1014243180366203,1.1014243180366203,1.1014243180366203,1.0507392808495764,1.2673103581287144,1.2673103581287144,1.1775964030424668,1.1775964030424668,1.1775964030424668,1.1775964030424668,1.1775964030424668,null,null,null,null,null],\"zmax\":1.5,\"zmid\":1,\"zmin\":0.5,\"type\":\"heatmap\",\"xaxis\":\"x6\",\"yaxis\":\"y6\"},{\"colorscale\":[[0.0,\"rgb(247,252,245)\"],[0.125,\"rgb(229,245,224)\"],[0.25,\"rgb(199,233,192)\"],[0.375,\"rgb(161,217,155)\"],[0.5,\"rgb(116,196,118)\"],[0.625,\"rgb(65,171,93)\"],[0.75,\"rgb(35,139,69)\"],[0.875,\"rgb(0,109,44)\"],[1.0,\"rgb(0,68,27)\"]],\"hoverongaps\":false,\"hovertemplate\":\"Cohort End Date: <b>%{y}</b> <br>Months Since Joining Cohort: <b>%{x}</b> <br>Retained MRR: <b>%{z:.2%}</b> <br><extra></extra>\",\"showlegend\":false,\"showscale\":false,\"texttemplate\":\"%{z:.0%}\",\"x\":[0,1,2,3,4,5,6,7,8,9,10,11,12,13,14,15,16,17,18,19,20,21,22,23,24],\"y\":[\"2021-10-31\",\"2021-10-31\",\"2021-10-31\",\"2021-10-31\",\"2021-10-31\",\"2021-10-31\",\"2021-10-31\",\"2021-10-31\",\"2021-10-31\",\"2021-10-31\",\"2021-10-31\",\"2021-10-31\",\"2021-10-31\",\"2021-10-31\",\"2021-10-31\",\"2021-10-31\",\"2021-10-31\",\"2021-10-31\",\"2021-10-31\",\"2021-10-31\",\"2021-10-31\",\"2021-10-31\",\"2021-10-31\",\"2021-10-31\",\"2021-10-31\"],\"z\":[1.0,0.3699638314135971,0.30548026382337806,0.3253640714036606,0.3306496097307277,0.3306496097307277,0.33170671739614116,0.32642117906907403,0.32642117906907403,0.32642117906907403,0.32642117906907403,0.5310225353898895,0.49430242068102265,0.49430242068102265,0.5165016816547046,0.5390920724645896,0.5390920724645896,0.5390920724645896,0.5390920724645896,null,null,null,null,null,null],\"zmax\":1.5,\"zmid\":1,\"zmin\":0.5,\"type\":\"heatmap\",\"xaxis\":\"x7\",\"yaxis\":\"y7\"},{\"colorscale\":[[0.0,\"rgb(247,252,245)\"],[0.125,\"rgb(229,245,224)\"],[0.25,\"rgb(199,233,192)\"],[0.375,\"rgb(161,217,155)\"],[0.5,\"rgb(116,196,118)\"],[0.625,\"rgb(65,171,93)\"],[0.75,\"rgb(35,139,69)\"],[0.875,\"rgb(0,109,44)\"],[1.0,\"rgb(0,68,27)\"]],\"hoverongaps\":false,\"hovertemplate\":\"Cohort End Date: <b>%{y}</b> <br>Months Since Joining Cohort: <b>%{x}</b> <br>Retained MRR: <b>%{z:.2%}</b> <br><extra></extra>\",\"showlegend\":false,\"showscale\":false,\"texttemplate\":\"%{z:.0%}\",\"x\":[0,1,2,3,4,5,6,7,8,9,10,11,12,13,14,15,16,17,18,19,20,21,22,23,24],\"y\":[\"2021-11-30\",\"2021-11-30\",\"2021-11-30\",\"2021-11-30\",\"2021-11-30\",\"2021-11-30\",\"2021-11-30\",\"2021-11-30\",\"2021-11-30\",\"2021-11-30\",\"2021-11-30\",\"2021-11-30\",\"2021-11-30\",\"2021-11-30\",\"2021-11-30\",\"2021-11-30\",\"2021-11-30\",\"2021-11-30\",\"2021-11-30\",\"2021-11-30\",\"2021-11-30\",\"2021-11-30\",\"2021-11-30\",\"2021-11-30\",\"2021-11-30\"],\"z\":[1.0,1.0035975810562312,1.1237203842403347,1.1237203842403347,1.1237203842403347,1.1237203842403347,1.1237203842403347,1.1279624433689133,1.1279624433689133,1.1279624433689133,1.1279624433689133,1.1279624433689133,0.6786869908914408,0.6786869908914408,0.9946745269970881,1.0833399101121215,1.0833399101121215,1.0833399101121215,null,null,null,null,null,null,null],\"zmax\":1.5,\"zmid\":1,\"zmin\":0.5,\"type\":\"heatmap\",\"xaxis\":\"x8\",\"yaxis\":\"y8\"},{\"colorscale\":[[0.0,\"rgb(247,252,245)\"],[0.125,\"rgb(229,245,224)\"],[0.25,\"rgb(199,233,192)\"],[0.375,\"rgb(161,217,155)\"],[0.5,\"rgb(116,196,118)\"],[0.625,\"rgb(65,171,93)\"],[0.75,\"rgb(35,139,69)\"],[0.875,\"rgb(0,109,44)\"],[1.0,\"rgb(0,68,27)\"]],\"hoverongaps\":false,\"hovertemplate\":\"Cohort End Date: <b>%{y}</b> <br>Months Since Joining Cohort: <b>%{x}</b> <br>Retained MRR: <b>%{z:.2%}</b> <br><extra></extra>\",\"showlegend\":false,\"showscale\":false,\"texttemplate\":\"%{z:.0%}\",\"x\":[0,1,2,3,4,5,6,7,8,9,10,11,12,13,14,15,16,17,18,19,20,21,22,23,24],\"y\":[\"2021-12-31\",\"2021-12-31\",\"2021-12-31\",\"2021-12-31\",\"2021-12-31\",\"2021-12-31\",\"2021-12-31\",\"2021-12-31\",\"2021-12-31\",\"2021-12-31\",\"2021-12-31\",\"2021-12-31\",\"2021-12-31\",\"2021-12-31\",\"2021-12-31\",\"2021-12-31\",\"2021-12-31\",\"2021-12-31\",\"2021-12-31\",\"2021-12-31\",\"2021-12-31\",\"2021-12-31\",\"2021-12-31\",\"2021-12-31\",\"2021-12-31\"],\"z\":[1.0,1.0289544881773034,1.0289544881773034,0.9689214105700096,0.9807459602698094,0.9807459602698094,0.9807459602698094,1.0015931917574679,1.0015931917574679,1.0015931917574679,1.0015931917574679,1.0015931917574679,1.8566308094285078,1.7350219590838334,1.7350219590838334,1.7350219590838334,1.791483211029575,null,null,null,null,null,null,null,null],\"zmax\":1.5,\"zmid\":1,\"zmin\":0.5,\"type\":\"heatmap\",\"xaxis\":\"x9\",\"yaxis\":\"y9\"},{\"colorscale\":[[0.0,\"rgb(247,252,245)\"],[0.125,\"rgb(229,245,224)\"],[0.25,\"rgb(199,233,192)\"],[0.375,\"rgb(161,217,155)\"],[0.5,\"rgb(116,196,118)\"],[0.625,\"rgb(65,171,93)\"],[0.75,\"rgb(35,139,69)\"],[0.875,\"rgb(0,109,44)\"],[1.0,\"rgb(0,68,27)\"]],\"hoverongaps\":false,\"hovertemplate\":\"Cohort End Date: <b>%{y}</b> <br>Months Since Joining Cohort: <b>%{x}</b> <br>Retained MRR: <b>%{z:.2%}</b> <br><extra></extra>\",\"showlegend\":false,\"showscale\":false,\"texttemplate\":\"%{z:.0%}\",\"x\":[0,1,2,3,4,5,6,7,8,9,10,11,12,13,14,15,16,17,18,19,20,21,22,23,24],\"y\":[\"2022-01-31\",\"2022-01-31\",\"2022-01-31\",\"2022-01-31\",\"2022-01-31\",\"2022-01-31\",\"2022-01-31\",\"2022-01-31\",\"2022-01-31\",\"2022-01-31\",\"2022-01-31\",\"2022-01-31\",\"2022-01-31\",\"2022-01-31\",\"2022-01-31\",\"2022-01-31\",\"2022-01-31\",\"2022-01-31\",\"2022-01-31\",\"2022-01-31\",\"2022-01-31\",\"2022-01-31\",\"2022-01-31\",\"2022-01-31\",\"2022-01-31\"],\"z\":[1.0,1.0922003243894773,1.0948455226272462,1.0948455226272462,1.2473852876719214,1.3373220277560651,1.4273304527124524,1.523439322018057,1.6121920713709756,1.7045535765064075,1.7944903165905512,1.7971355148283201,1.897046702297487,1.791840819905646,1.8543556715915848,1.8517104733538159,null,null,null,null,null,null,null,null,null],\"zmax\":1.5,\"zmid\":1,\"zmin\":0.5,\"type\":\"heatmap\",\"xaxis\":\"x10\",\"yaxis\":\"y10\"},{\"colorscale\":[[0.0,\"rgb(247,252,245)\"],[0.125,\"rgb(229,245,224)\"],[0.25,\"rgb(199,233,192)\"],[0.375,\"rgb(161,217,155)\"],[0.5,\"rgb(116,196,118)\"],[0.625,\"rgb(65,171,93)\"],[0.75,\"rgb(35,139,69)\"],[0.875,\"rgb(0,109,44)\"],[1.0,\"rgb(0,68,27)\"]],\"hoverongaps\":false,\"hovertemplate\":\"Cohort End Date: <b>%{y}</b> <br>Months Since Joining Cohort: <b>%{x}</b> <br>Retained MRR: <b>%{z:.2%}</b> <br><extra></extra>\",\"showlegend\":false,\"showscale\":false,\"texttemplate\":\"%{z:.0%}\",\"x\":[0,1,2,3,4,5,6,7,8,9,10,11,12,13,14,15,16,17,18,19,20,21,22,23,24],\"y\":[\"2022-02-28\",\"2022-02-28\",\"2022-02-28\",\"2022-02-28\",\"2022-02-28\",\"2022-02-28\",\"2022-02-28\",\"2022-02-28\",\"2022-02-28\",\"2022-02-28\",\"2022-02-28\",\"2022-02-28\",\"2022-02-28\",\"2022-02-28\",\"2022-02-28\",\"2022-02-28\",\"2022-02-28\",\"2022-02-28\",\"2022-02-28\",\"2022-02-28\",\"2022-02-28\",\"2022-02-28\",\"2022-02-28\",\"2022-02-28\",\"2022-02-28\"],\"z\":[1.0,1.0521901211556384,1.1029305167236203,1.1029305167236203,1.1029305167236203,1.1029305167236203,1.2986434710572643,1.3221497359428394,1.3221497359428394,1.3221497359428394,1.3221497359428394,1.3852127990059024,0.8886817852335095,0.8277933105519313,0.7770529149839495,null,null,null,null,null,null,null,null,null,null],\"zmax\":1.5,\"zmid\":1,\"zmin\":0.5,\"type\":\"heatmap\",\"xaxis\":\"x11\",\"yaxis\":\"y11\"},{\"colorscale\":[[0.0,\"rgb(247,252,245)\"],[0.125,\"rgb(229,245,224)\"],[0.25,\"rgb(199,233,192)\"],[0.375,\"rgb(161,217,155)\"],[0.5,\"rgb(116,196,118)\"],[0.625,\"rgb(65,171,93)\"],[0.75,\"rgb(35,139,69)\"],[0.875,\"rgb(0,109,44)\"],[1.0,\"rgb(0,68,27)\"]],\"hoverongaps\":false,\"hovertemplate\":\"Cohort End Date: <b>%{y}</b> <br>Months Since Joining Cohort: <b>%{x}</b> <br>Retained MRR: <b>%{z:.2%}</b> <br><extra></extra>\",\"showlegend\":false,\"showscale\":false,\"texttemplate\":\"%{z:.0%}\",\"x\":[0,1,2,3,4,5,6,7,8,9,10,11,12,13,14,15,16,17,18,19,20,21,22,23,24],\"y\":[\"2022-03-31\",\"2022-03-31\",\"2022-03-31\",\"2022-03-31\",\"2022-03-31\",\"2022-03-31\",\"2022-03-31\",\"2022-03-31\",\"2022-03-31\",\"2022-03-31\",\"2022-03-31\",\"2022-03-31\",\"2022-03-31\",\"2022-03-31\",\"2022-03-31\",\"2022-03-31\",\"2022-03-31\",\"2022-03-31\",\"2022-03-31\",\"2022-03-31\",\"2022-03-31\",\"2022-03-31\",\"2022-03-31\",\"2022-03-31\",\"2022-03-31\"],\"z\":[1.0,1.0249067970636414,1.0267177360835744,1.0287132171968647,1.0287132171968647,1.0882562584074609,1.0882562584074609,1.0909726669373603,1.0909726669373603,1.0909726669373603,1.0909726669373603,1.0949636291639404,0.8389862652631357,0.7563433351369822,null,null,null,null,null,null,null,null,null,null,null],\"zmax\":1.5,\"zmid\":1,\"zmin\":0.5,\"type\":\"heatmap\",\"xaxis\":\"x12\",\"yaxis\":\"y12\"},{\"colorscale\":[[0.0,\"rgb(247,252,245)\"],[0.125,\"rgb(229,245,224)\"],[0.25,\"rgb(199,233,192)\"],[0.375,\"rgb(161,217,155)\"],[0.5,\"rgb(116,196,118)\"],[0.625,\"rgb(65,171,93)\"],[0.75,\"rgb(35,139,69)\"],[0.875,\"rgb(0,109,44)\"],[1.0,\"rgb(0,68,27)\"]],\"hoverongaps\":false,\"hovertemplate\":\"Cohort End Date: <b>%{y}</b> <br>Months Since Joining Cohort: <b>%{x}</b> <br>Retained MRR: <b>%{z:.2%}</b> <br><extra></extra>\",\"showlegend\":false,\"showscale\":false,\"texttemplate\":\"%{z:.0%}\",\"x\":[0,1,2,3,4,5,6,7,8,9,10,11,12,13,14,15,16,17,18,19,20,21,22,23,24],\"y\":[\"2022-04-30\",\"2022-04-30\",\"2022-04-30\",\"2022-04-30\",\"2022-04-30\",\"2022-04-30\",\"2022-04-30\",\"2022-04-30\",\"2022-04-30\",\"2022-04-30\",\"2022-04-30\",\"2022-04-30\",\"2022-04-30\",\"2022-04-30\",\"2022-04-30\",\"2022-04-30\",\"2022-04-30\",\"2022-04-30\",\"2022-04-30\",\"2022-04-30\",\"2022-04-30\",\"2022-04-30\",\"2022-04-30\",\"2022-04-30\",\"2022-04-30\"],\"z\":[1.0,1.0393458767541834,1.0529996596385003,1.0538735017430965,1.0538735017430965,1.0538735017430965,1.0685103569950842,1.0721804938343886,1.0721804938343886,1.0721804938343886,1.0721804938343886,1.0721804938343886,0.7208660386946022,null,null,null,null,null,null,null,null,null,null,null,null],\"zmax\":1.5,\"zmid\":1,\"zmin\":0.5,\"type\":\"heatmap\",\"xaxis\":\"x13\",\"yaxis\":\"y13\"},{\"colorscale\":[[0.0,\"rgb(247,252,245)\"],[0.125,\"rgb(229,245,224)\"],[0.25,\"rgb(199,233,192)\"],[0.375,\"rgb(161,217,155)\"],[0.5,\"rgb(116,196,118)\"],[0.625,\"rgb(65,171,93)\"],[0.75,\"rgb(35,139,69)\"],[0.875,\"rgb(0,109,44)\"],[1.0,\"rgb(0,68,27)\"]],\"hoverongaps\":false,\"hovertemplate\":\"Cohort End Date: <b>%{y}</b> <br>Months Since Joining Cohort: <b>%{x}</b> <br>Retained MRR: <b>%{z:.2%}</b> <br><extra></extra>\",\"showlegend\":false,\"showscale\":false,\"texttemplate\":\"%{z:.0%}\",\"x\":[0,1,2,3,4,5,6,7,8,9,10,11,12,13,14,15,16,17,18,19,20,21,22,23,24],\"y\":[\"2022-05-31\",\"2022-05-31\",\"2022-05-31\",\"2022-05-31\",\"2022-05-31\",\"2022-05-31\",\"2022-05-31\",\"2022-05-31\",\"2022-05-31\",\"2022-05-31\",\"2022-05-31\",\"2022-05-31\",\"2022-05-31\",\"2022-05-31\",\"2022-05-31\",\"2022-05-31\",\"2022-05-31\",\"2022-05-31\",\"2022-05-31\",\"2022-05-31\",\"2022-05-31\",\"2022-05-31\",\"2022-05-31\",\"2022-05-31\",\"2022-05-31\"],\"z\":[1.0,1.0041547633061116,1.0041547633061116,1.0041547633061116,1.0055997375371926,1.0137493922004892,1.1942143278026693,1.1942143278026693,1.1942143278026693,1.1942143278026693,1.1942143278026693,1.2049071371126685,null,null,null,null,null,null,null,null,null,null,null,null,null],\"zmax\":1.5,\"zmid\":1,\"zmin\":0.5,\"type\":\"heatmap\",\"xaxis\":\"x14\",\"yaxis\":\"y14\"},{\"colorscale\":[[0.0,\"rgb(247,252,245)\"],[0.125,\"rgb(229,245,224)\"],[0.25,\"rgb(199,233,192)\"],[0.375,\"rgb(161,217,155)\"],[0.5,\"rgb(116,196,118)\"],[0.625,\"rgb(65,171,93)\"],[0.75,\"rgb(35,139,69)\"],[0.875,\"rgb(0,109,44)\"],[1.0,\"rgb(0,68,27)\"]],\"hoverongaps\":false,\"hovertemplate\":\"Cohort End Date: <b>%{y}</b> <br>Months Since Joining Cohort: <b>%{x}</b> <br>Retained MRR: <b>%{z:.2%}</b> <br><extra></extra>\",\"showlegend\":false,\"showscale\":false,\"texttemplate\":\"%{z:.0%}\",\"x\":[0,1,2,3,4,5,6,7,8,9,10,11,12,13,14,15,16,17,18,19,20,21,22,23,24],\"y\":[\"2022-06-30\",\"2022-06-30\",\"2022-06-30\",\"2022-06-30\",\"2022-06-30\",\"2022-06-30\",\"2022-06-30\",\"2022-06-30\",\"2022-06-30\",\"2022-06-30\",\"2022-06-30\",\"2022-06-30\",\"2022-06-30\",\"2022-06-30\",\"2022-06-30\",\"2022-06-30\",\"2022-06-30\",\"2022-06-30\",\"2022-06-30\",\"2022-06-30\",\"2022-06-30\",\"2022-06-30\",\"2022-06-30\",\"2022-06-30\",\"2022-06-30\"],\"z\":[1.0,1.0215985101700773,0.8976418431070248,0.9086602135126295,0.9086602135126295,0.9086602135126295,0.8896535245629615,0.9611352025693217,0.9611352025693217,0.9611352025693217,0.9718781137147863,null,null,null,null,null,null,null,null,null,null,null,null,null,null],\"zmax\":1.5,\"zmid\":1,\"zmin\":0.5,\"type\":\"heatmap\",\"xaxis\":\"x15\",\"yaxis\":\"y15\"},{\"colorscale\":[[0.0,\"rgb(247,252,245)\"],[0.125,\"rgb(229,245,224)\"],[0.25,\"rgb(199,233,192)\"],[0.375,\"rgb(161,217,155)\"],[0.5,\"rgb(116,196,118)\"],[0.625,\"rgb(65,171,93)\"],[0.75,\"rgb(35,139,69)\"],[0.875,\"rgb(0,109,44)\"],[1.0,\"rgb(0,68,27)\"]],\"hoverongaps\":false,\"hovertemplate\":\"Cohort End Date: <b>%{y}</b> <br>Months Since Joining Cohort: <b>%{x}</b> <br>Retained MRR: <b>%{z:.2%}</b> <br><extra></extra>\",\"showlegend\":false,\"showscale\":false,\"texttemplate\":\"%{z:.0%}\",\"x\":[0,1,2,3,4,5,6,7,8,9,10,11,12,13,14,15,16,17,18,19,20,21,22,23,24],\"y\":[\"2022-07-31\",\"2022-07-31\",\"2022-07-31\",\"2022-07-31\",\"2022-07-31\",\"2022-07-31\",\"2022-07-31\",\"2022-07-31\",\"2022-07-31\",\"2022-07-31\",\"2022-07-31\",\"2022-07-31\",\"2022-07-31\",\"2022-07-31\",\"2022-07-31\",\"2022-07-31\",\"2022-07-31\",\"2022-07-31\",\"2022-07-31\",\"2022-07-31\",\"2022-07-31\",\"2022-07-31\",\"2022-07-31\",\"2022-07-31\",\"2022-07-31\"],\"z\":[1.0,1.0,1.0488003253355023,1.0766910668293346,1.0974312050969228,1.0974312050969228,1.0686932357326828,1.0749288328588857,1.0749288328588857,1.0770977362071303,null,null,null,null,null,null,null,null,null,null,null,null,null,null,null],\"zmax\":1.5,\"zmid\":1,\"zmin\":0.5,\"type\":\"heatmap\",\"xaxis\":\"x16\",\"yaxis\":\"y16\"},{\"colorscale\":[[0.0,\"rgb(247,252,245)\"],[0.125,\"rgb(229,245,224)\"],[0.25,\"rgb(199,233,192)\"],[0.375,\"rgb(161,217,155)\"],[0.5,\"rgb(116,196,118)\"],[0.625,\"rgb(65,171,93)\"],[0.75,\"rgb(35,139,69)\"],[0.875,\"rgb(0,109,44)\"],[1.0,\"rgb(0,68,27)\"]],\"hoverongaps\":false,\"hovertemplate\":\"Cohort End Date: <b>%{y}</b> <br>Months Since Joining Cohort: <b>%{x}</b> <br>Retained MRR: <b>%{z:.2%}</b> <br><extra></extra>\",\"showlegend\":false,\"showscale\":false,\"texttemplate\":\"%{z:.0%}\",\"x\":[0,1,2,3,4,5,6,7,8,9,10,11,12,13,14,15,16,17,18,19,20,21,22,23,24],\"y\":[\"2022-08-31\",\"2022-08-31\",\"2022-08-31\",\"2022-08-31\",\"2022-08-31\",\"2022-08-31\",\"2022-08-31\",\"2022-08-31\",\"2022-08-31\",\"2022-08-31\",\"2022-08-31\",\"2022-08-31\",\"2022-08-31\",\"2022-08-31\",\"2022-08-31\",\"2022-08-31\",\"2022-08-31\",\"2022-08-31\",\"2022-08-31\",\"2022-08-31\",\"2022-08-31\",\"2022-08-31\",\"2022-08-31\",\"2022-08-31\",\"2022-08-31\"],\"z\":[1.0,1.0006191416005337,1.0006191416005337,1.0006191416005337,1.0006191416005337,1.0006191416005337,0.9850420997046134,0.9850420997046134,0.9850420997046134,null,null,null,null,null,null,null,null,null,null,null,null,null,null,null,null],\"zmax\":1.5,\"zmid\":1,\"zmin\":0.5,\"type\":\"heatmap\",\"xaxis\":\"x17\",\"yaxis\":\"y17\"},{\"colorscale\":[[0.0,\"rgb(247,252,245)\"],[0.125,\"rgb(229,245,224)\"],[0.25,\"rgb(199,233,192)\"],[0.375,\"rgb(161,217,155)\"],[0.5,\"rgb(116,196,118)\"],[0.625,\"rgb(65,171,93)\"],[0.75,\"rgb(35,139,69)\"],[0.875,\"rgb(0,109,44)\"],[1.0,\"rgb(0,68,27)\"]],\"hoverongaps\":false,\"hovertemplate\":\"Cohort End Date: <b>%{y}</b> <br>Months Since Joining Cohort: <b>%{x}</b> <br>Retained MRR: <b>%{z:.2%}</b> <br><extra></extra>\",\"showlegend\":false,\"showscale\":false,\"texttemplate\":\"%{z:.0%}\",\"x\":[0,1,2,3,4,5,6,7,8,9,10,11,12,13,14,15,16,17,18,19,20,21,22,23,24],\"y\":[\"2022-09-30\",\"2022-09-30\",\"2022-09-30\",\"2022-09-30\",\"2022-09-30\",\"2022-09-30\",\"2022-09-30\",\"2022-09-30\",\"2022-09-30\",\"2022-09-30\",\"2022-09-30\",\"2022-09-30\",\"2022-09-30\",\"2022-09-30\",\"2022-09-30\",\"2022-09-30\",\"2022-09-30\",\"2022-09-30\",\"2022-09-30\",\"2022-09-30\",\"2022-09-30\",\"2022-09-30\",\"2022-09-30\",\"2022-09-30\",\"2022-09-30\"],\"z\":[1.0,1.0,1.0,1.0,1.0,1.1540687431866772,1.1540687431866772,1.1540687431866772,null,null,null,null,null,null,null,null,null,null,null,null,null,null,null,null,null],\"zmax\":1.5,\"zmid\":1,\"zmin\":0.5,\"type\":\"heatmap\",\"xaxis\":\"x18\",\"yaxis\":\"y18\"},{\"colorscale\":[[0.0,\"rgb(247,252,245)\"],[0.125,\"rgb(229,245,224)\"],[0.25,\"rgb(199,233,192)\"],[0.375,\"rgb(161,217,155)\"],[0.5,\"rgb(116,196,118)\"],[0.625,\"rgb(65,171,93)\"],[0.75,\"rgb(35,139,69)\"],[0.875,\"rgb(0,109,44)\"],[1.0,\"rgb(0,68,27)\"]],\"hoverongaps\":false,\"hovertemplate\":\"Cohort End Date: <b>%{y}</b> <br>Months Since Joining Cohort: <b>%{x}</b> <br>Retained MRR: <b>%{z:.2%}</b> <br><extra></extra>\",\"showlegend\":false,\"showscale\":false,\"texttemplate\":\"%{z:.0%}\",\"x\":[0,1,2,3,4,5,6,7,8,9,10,11,12,13,14,15,16,17,18,19,20,21,22,23,24],\"y\":[\"2022-10-31\",\"2022-10-31\",\"2022-10-31\",\"2022-10-31\",\"2022-10-31\",\"2022-10-31\",\"2022-10-31\",\"2022-10-31\",\"2022-10-31\",\"2022-10-31\",\"2022-10-31\",\"2022-10-31\",\"2022-10-31\",\"2022-10-31\",\"2022-10-31\",\"2022-10-31\",\"2022-10-31\",\"2022-10-31\",\"2022-10-31\",\"2022-10-31\",\"2022-10-31\",\"2022-10-31\",\"2022-10-31\",\"2022-10-31\",\"2022-10-31\"],\"z\":[1.0,1.1944430464879012,1.209086594458265,1.2945692960102213,1.2945692960102213,1.2945692960102213,1.287345405738225,null,null,null,null,null,null,null,null,null,null,null,null,null,null,null,null,null,null],\"zmax\":1.5,\"zmid\":1,\"zmin\":0.5,\"type\":\"heatmap\",\"xaxis\":\"x19\",\"yaxis\":\"y19\"},{\"colorscale\":[[0.0,\"rgb(247,252,245)\"],[0.125,\"rgb(229,245,224)\"],[0.25,\"rgb(199,233,192)\"],[0.375,\"rgb(161,217,155)\"],[0.5,\"rgb(116,196,118)\"],[0.625,\"rgb(65,171,93)\"],[0.75,\"rgb(35,139,69)\"],[0.875,\"rgb(0,109,44)\"],[1.0,\"rgb(0,68,27)\"]],\"hoverongaps\":false,\"hovertemplate\":\"Cohort End Date: <b>%{y}</b> <br>Months Since Joining Cohort: <b>%{x}</b> <br>Retained MRR: <b>%{z:.2%}</b> <br><extra></extra>\",\"showlegend\":false,\"showscale\":false,\"texttemplate\":\"%{z:.0%}\",\"x\":[0,1,2,3,4,5,6,7,8,9,10,11,12,13,14,15,16,17,18,19,20,21,22,23,24],\"y\":[\"2022-11-30\",\"2022-11-30\",\"2022-11-30\",\"2022-11-30\",\"2022-11-30\",\"2022-11-30\",\"2022-11-30\",\"2022-11-30\",\"2022-11-30\",\"2022-11-30\",\"2022-11-30\",\"2022-11-30\",\"2022-11-30\",\"2022-11-30\",\"2022-11-30\",\"2022-11-30\",\"2022-11-30\",\"2022-11-30\",\"2022-11-30\",\"2022-11-30\",\"2022-11-30\",\"2022-11-30\",\"2022-11-30\",\"2022-11-30\",\"2022-11-30\"],\"z\":[1.0,1.0,1.028436646774771,1.00729790049972,1.00729790049972,1.00729790049972,null,null,null,null,null,null,null,null,null,null,null,null,null,null,null,null,null,null,null],\"zmax\":1.5,\"zmid\":1,\"zmin\":0.5,\"type\":\"heatmap\",\"xaxis\":\"x20\",\"yaxis\":\"y20\"},{\"colorscale\":[[0.0,\"rgb(247,252,245)\"],[0.125,\"rgb(229,245,224)\"],[0.25,\"rgb(199,233,192)\"],[0.375,\"rgb(161,217,155)\"],[0.5,\"rgb(116,196,118)\"],[0.625,\"rgb(65,171,93)\"],[0.75,\"rgb(35,139,69)\"],[0.875,\"rgb(0,109,44)\"],[1.0,\"rgb(0,68,27)\"]],\"hoverongaps\":false,\"hovertemplate\":\"Cohort End Date: <b>%{y}</b> <br>Months Since Joining Cohort: <b>%{x}</b> <br>Retained MRR: <b>%{z:.2%}</b> <br><extra></extra>\",\"showlegend\":false,\"showscale\":false,\"texttemplate\":\"%{z:.0%}\",\"x\":[0,1,2,3,4,5,6,7,8,9,10,11,12,13,14,15,16,17,18,19,20,21,22,23,24],\"y\":[\"2022-12-31\",\"2022-12-31\",\"2022-12-31\",\"2022-12-31\",\"2022-12-31\",\"2022-12-31\",\"2022-12-31\",\"2022-12-31\",\"2022-12-31\",\"2022-12-31\",\"2022-12-31\",\"2022-12-31\",\"2022-12-31\",\"2022-12-31\",\"2022-12-31\",\"2022-12-31\",\"2022-12-31\",\"2022-12-31\",\"2022-12-31\",\"2022-12-31\",\"2022-12-31\",\"2022-12-31\",\"2022-12-31\",\"2022-12-31\",\"2022-12-31\"],\"z\":[1.0,1.0,1.0,0.9684344251198979,0.9684344251198979,null,null,null,null,null,null,null,null,null,null,null,null,null,null,null,null,null,null,null,null],\"zmax\":1.5,\"zmid\":1,\"zmin\":0.5,\"type\":\"heatmap\",\"xaxis\":\"x21\",\"yaxis\":\"y21\"},{\"colorscale\":[[0.0,\"rgb(247,252,245)\"],[0.125,\"rgb(229,245,224)\"],[0.25,\"rgb(199,233,192)\"],[0.375,\"rgb(161,217,155)\"],[0.5,\"rgb(116,196,118)\"],[0.625,\"rgb(65,171,93)\"],[0.75,\"rgb(35,139,69)\"],[0.875,\"rgb(0,109,44)\"],[1.0,\"rgb(0,68,27)\"]],\"hoverongaps\":false,\"hovertemplate\":\"Cohort End Date: <b>%{y}</b> <br>Months Since Joining Cohort: <b>%{x}</b> <br>Retained MRR: <b>%{z:.2%}</b> <br><extra></extra>\",\"showlegend\":false,\"showscale\":false,\"texttemplate\":\"%{z:.0%}\",\"x\":[0,1,2,3,4,5,6,7,8,9,10,11,12,13,14,15,16,17,18,19,20,21,22,23,24],\"y\":[\"2023-01-31\",\"2023-01-31\",\"2023-01-31\",\"2023-01-31\",\"2023-01-31\",\"2023-01-31\",\"2023-01-31\",\"2023-01-31\",\"2023-01-31\",\"2023-01-31\",\"2023-01-31\",\"2023-01-31\",\"2023-01-31\",\"2023-01-31\",\"2023-01-31\",\"2023-01-31\",\"2023-01-31\",\"2023-01-31\",\"2023-01-31\",\"2023-01-31\",\"2023-01-31\",\"2023-01-31\",\"2023-01-31\",\"2023-01-31\",\"2023-01-31\"],\"z\":[1.0,1.007083131977911,1.008748184158896,1.008748184158896,null,null,null,null,null,null,null,null,null,null,null,null,null,null,null,null,null,null,null,null,null],\"zmax\":1.5,\"zmid\":1,\"zmin\":0.5,\"type\":\"heatmap\",\"xaxis\":\"x22\",\"yaxis\":\"y22\"},{\"colorscale\":[[0.0,\"rgb(247,252,245)\"],[0.125,\"rgb(229,245,224)\"],[0.25,\"rgb(199,233,192)\"],[0.375,\"rgb(161,217,155)\"],[0.5,\"rgb(116,196,118)\"],[0.625,\"rgb(65,171,93)\"],[0.75,\"rgb(35,139,69)\"],[0.875,\"rgb(0,109,44)\"],[1.0,\"rgb(0,68,27)\"]],\"hoverongaps\":false,\"hovertemplate\":\"Cohort End Date: <b>%{y}</b> <br>Months Since Joining Cohort: <b>%{x}</b> <br>Retained MRR: <b>%{z:.2%}</b> <br><extra></extra>\",\"showlegend\":false,\"showscale\":false,\"texttemplate\":\"%{z:.0%}\",\"x\":[0,1,2,3,4,5,6,7,8,9,10,11,12,13,14,15,16,17,18,19,20,21,22,23,24],\"y\":[\"2023-02-28\",\"2023-02-28\",\"2023-02-28\",\"2023-02-28\",\"2023-02-28\",\"2023-02-28\",\"2023-02-28\",\"2023-02-28\",\"2023-02-28\",\"2023-02-28\",\"2023-02-28\",\"2023-02-28\",\"2023-02-28\",\"2023-02-28\",\"2023-02-28\",\"2023-02-28\",\"2023-02-28\",\"2023-02-28\",\"2023-02-28\",\"2023-02-28\",\"2023-02-28\",\"2023-02-28\",\"2023-02-28\",\"2023-02-28\",\"2023-02-28\"],\"z\":[1.0,1.0174165943986808,1.0377359545304754,null,null,null,null,null,null,null,null,null,null,null,null,null,null,null,null,null,null,null,null,null,null],\"zmax\":1.5,\"zmid\":1,\"zmin\":0.5,\"type\":\"heatmap\",\"xaxis\":\"x23\",\"yaxis\":\"y23\"},{\"colorscale\":[[0.0,\"rgb(247,252,245)\"],[0.125,\"rgb(229,245,224)\"],[0.25,\"rgb(199,233,192)\"],[0.375,\"rgb(161,217,155)\"],[0.5,\"rgb(116,196,118)\"],[0.625,\"rgb(65,171,93)\"],[0.75,\"rgb(35,139,69)\"],[0.875,\"rgb(0,109,44)\"],[1.0,\"rgb(0,68,27)\"]],\"hoverongaps\":false,\"hovertemplate\":\"Cohort End Date: <b>%{y}</b> <br>Months Since Joining Cohort: <b>%{x}</b> <br>Retained MRR: <b>%{z:.2%}</b> <br><extra></extra>\",\"showlegend\":false,\"showscale\":false,\"texttemplate\":\"%{z:.0%}\",\"x\":[0,1,2,3,4,5,6,7,8,9,10,11,12,13,14,15,16,17,18,19,20,21,22,23,24],\"y\":[\"2023-03-31\",\"2023-03-31\",\"2023-03-31\",\"2023-03-31\",\"2023-03-31\",\"2023-03-31\",\"2023-03-31\",\"2023-03-31\",\"2023-03-31\",\"2023-03-31\",\"2023-03-31\",\"2023-03-31\",\"2023-03-31\",\"2023-03-31\",\"2023-03-31\",\"2023-03-31\",\"2023-03-31\",\"2023-03-31\",\"2023-03-31\",\"2023-03-31\",\"2023-03-31\",\"2023-03-31\",\"2023-03-31\",\"2023-03-31\",\"2023-03-31\"],\"z\":[1.0,1.0036622454726887,null,null,null,null,null,null,null,null,null,null,null,null,null,null,null,null,null,null,null,null,null,null,null],\"zmax\":1.5,\"zmid\":1,\"zmin\":0.5,\"type\":\"heatmap\",\"xaxis\":\"x24\",\"yaxis\":\"y24\"},{\"colorscale\":[[0.0,\"rgb(247,252,245)\"],[0.125,\"rgb(229,245,224)\"],[0.25,\"rgb(199,233,192)\"],[0.375,\"rgb(161,217,155)\"],[0.5,\"rgb(116,196,118)\"],[0.625,\"rgb(65,171,93)\"],[0.75,\"rgb(35,139,69)\"],[0.875,\"rgb(0,109,44)\"],[1.0,\"rgb(0,68,27)\"]],\"hoverongaps\":false,\"hovertemplate\":\"Cohort End Date: <b>%{y}</b> <br>Months Since Joining Cohort: <b>%{x}</b> <br>Retained MRR: <b>%{z:.2%}</b> <br><extra></extra>\",\"showlegend\":false,\"showscale\":false,\"texttemplate\":\"%{z:.0%}\",\"x\":[0,1,2,3,4,5,6,7,8,9,10,11,12,13,14,15,16,17,18,19,20,21,22,23,24],\"y\":[\"2023-04-30\",\"2023-04-30\",\"2023-04-30\",\"2023-04-30\",\"2023-04-30\",\"2023-04-30\",\"2023-04-30\",\"2023-04-30\",\"2023-04-30\",\"2023-04-30\",\"2023-04-30\",\"2023-04-30\",\"2023-04-30\",\"2023-04-30\",\"2023-04-30\",\"2023-04-30\",\"2023-04-30\",\"2023-04-30\",\"2023-04-30\",\"2023-04-30\",\"2023-04-30\",\"2023-04-30\",\"2023-04-30\",\"2023-04-30\",\"2023-04-30\"],\"z\":[1.0,null,null,null,null,null,null,null,null,null,null,null,null,null,null,null,null,null,null,null,null,null,null,null,null],\"zmax\":1.5,\"zmid\":1,\"zmin\":0.5,\"type\":\"heatmap\",\"xaxis\":\"x25\",\"yaxis\":\"y25\"}],                        {\"template\":{\"data\":{\"histogram2dcontour\":[{\"type\":\"histogram2dcontour\",\"colorbar\":{\"outlinewidth\":0,\"ticks\":\"\"},\"colorscale\":[[0.0,\"#0d0887\"],[0.1111111111111111,\"#46039f\"],[0.2222222222222222,\"#7201a8\"],[0.3333333333333333,\"#9c179e\"],[0.4444444444444444,\"#bd3786\"],[0.5555555555555556,\"#d8576b\"],[0.6666666666666666,\"#ed7953\"],[0.7777777777777778,\"#fb9f3a\"],[0.8888888888888888,\"#fdca26\"],[1.0,\"#f0f921\"]]}],\"choropleth\":[{\"type\":\"choropleth\",\"colorbar\":{\"outlinewidth\":0,\"ticks\":\"\"}}],\"histogram2d\":[{\"type\":\"histogram2d\",\"colorbar\":{\"outlinewidth\":0,\"ticks\":\"\"},\"colorscale\":[[0.0,\"#0d0887\"],[0.1111111111111111,\"#46039f\"],[0.2222222222222222,\"#7201a8\"],[0.3333333333333333,\"#9c179e\"],[0.4444444444444444,\"#bd3786\"],[0.5555555555555556,\"#d8576b\"],[0.6666666666666666,\"#ed7953\"],[0.7777777777777778,\"#fb9f3a\"],[0.8888888888888888,\"#fdca26\"],[1.0,\"#f0f921\"]]}],\"heatmap\":[{\"type\":\"heatmap\",\"colorbar\":{\"outlinewidth\":0,\"ticks\":\"\"},\"colorscale\":[[0.0,\"#0d0887\"],[0.1111111111111111,\"#46039f\"],[0.2222222222222222,\"#7201a8\"],[0.3333333333333333,\"#9c179e\"],[0.4444444444444444,\"#bd3786\"],[0.5555555555555556,\"#d8576b\"],[0.6666666666666666,\"#ed7953\"],[0.7777777777777778,\"#fb9f3a\"],[0.8888888888888888,\"#fdca26\"],[1.0,\"#f0f921\"]]}],\"heatmapgl\":[{\"type\":\"heatmapgl\",\"colorbar\":{\"outlinewidth\":0,\"ticks\":\"\"},\"colorscale\":[[0.0,\"#0d0887\"],[0.1111111111111111,\"#46039f\"],[0.2222222222222222,\"#7201a8\"],[0.3333333333333333,\"#9c179e\"],[0.4444444444444444,\"#bd3786\"],[0.5555555555555556,\"#d8576b\"],[0.6666666666666666,\"#ed7953\"],[0.7777777777777778,\"#fb9f3a\"],[0.8888888888888888,\"#fdca26\"],[1.0,\"#f0f921\"]]}],\"contourcarpet\":[{\"type\":\"contourcarpet\",\"colorbar\":{\"outlinewidth\":0,\"ticks\":\"\"}}],\"contour\":[{\"type\":\"contour\",\"colorbar\":{\"outlinewidth\":0,\"ticks\":\"\"},\"colorscale\":[[0.0,\"#0d0887\"],[0.1111111111111111,\"#46039f\"],[0.2222222222222222,\"#7201a8\"],[0.3333333333333333,\"#9c179e\"],[0.4444444444444444,\"#bd3786\"],[0.5555555555555556,\"#d8576b\"],[0.6666666666666666,\"#ed7953\"],[0.7777777777777778,\"#fb9f3a\"],[0.8888888888888888,\"#fdca26\"],[1.0,\"#f0f921\"]]}],\"surface\":[{\"type\":\"surface\",\"colorbar\":{\"outlinewidth\":0,\"ticks\":\"\"},\"colorscale\":[[0.0,\"#0d0887\"],[0.1111111111111111,\"#46039f\"],[0.2222222222222222,\"#7201a8\"],[0.3333333333333333,\"#9c179e\"],[0.4444444444444444,\"#bd3786\"],[0.5555555555555556,\"#d8576b\"],[0.6666666666666666,\"#ed7953\"],[0.7777777777777778,\"#fb9f3a\"],[0.8888888888888888,\"#fdca26\"],[1.0,\"#f0f921\"]]}],\"mesh3d\":[{\"type\":\"mesh3d\",\"colorbar\":{\"outlinewidth\":0,\"ticks\":\"\"}}],\"scatter\":[{\"fillpattern\":{\"fillmode\":\"overlay\",\"size\":10,\"solidity\":0.2},\"type\":\"scatter\"}],\"parcoords\":[{\"type\":\"parcoords\",\"line\":{\"colorbar\":{\"outlinewidth\":0,\"ticks\":\"\"}}}],\"scatterpolargl\":[{\"type\":\"scatterpolargl\",\"marker\":{\"colorbar\":{\"outlinewidth\":0,\"ticks\":\"\"}}}],\"bar\":[{\"error_x\":{\"color\":\"#2a3f5f\"},\"error_y\":{\"color\":\"#2a3f5f\"},\"marker\":{\"line\":{\"color\":\"#E5ECF6\",\"width\":0.5},\"pattern\":{\"fillmode\":\"overlay\",\"size\":10,\"solidity\":0.2}},\"type\":\"bar\"}],\"scattergeo\":[{\"type\":\"scattergeo\",\"marker\":{\"colorbar\":{\"outlinewidth\":0,\"ticks\":\"\"}}}],\"scatterpolar\":[{\"type\":\"scatterpolar\",\"marker\":{\"colorbar\":{\"outlinewidth\":0,\"ticks\":\"\"}}}],\"histogram\":[{\"marker\":{\"pattern\":{\"fillmode\":\"overlay\",\"size\":10,\"solidity\":0.2}},\"type\":\"histogram\"}],\"scattergl\":[{\"type\":\"scattergl\",\"marker\":{\"colorbar\":{\"outlinewidth\":0,\"ticks\":\"\"}}}],\"scatter3d\":[{\"type\":\"scatter3d\",\"line\":{\"colorbar\":{\"outlinewidth\":0,\"ticks\":\"\"}},\"marker\":{\"colorbar\":{\"outlinewidth\":0,\"ticks\":\"\"}}}],\"scattermapbox\":[{\"type\":\"scattermapbox\",\"marker\":{\"colorbar\":{\"outlinewidth\":0,\"ticks\":\"\"}}}],\"scatterternary\":[{\"type\":\"scatterternary\",\"marker\":{\"colorbar\":{\"outlinewidth\":0,\"ticks\":\"\"}}}],\"scattercarpet\":[{\"type\":\"scattercarpet\",\"marker\":{\"colorbar\":{\"outlinewidth\":0,\"ticks\":\"\"}}}],\"carpet\":[{\"aaxis\":{\"endlinecolor\":\"#2a3f5f\",\"gridcolor\":\"white\",\"linecolor\":\"white\",\"minorgridcolor\":\"white\",\"startlinecolor\":\"#2a3f5f\"},\"baxis\":{\"endlinecolor\":\"#2a3f5f\",\"gridcolor\":\"white\",\"linecolor\":\"white\",\"minorgridcolor\":\"white\",\"startlinecolor\":\"#2a3f5f\"},\"type\":\"carpet\"}],\"table\":[{\"cells\":{\"fill\":{\"color\":\"#EBF0F8\"},\"line\":{\"color\":\"white\"}},\"header\":{\"fill\":{\"color\":\"#C8D4E3\"},\"line\":{\"color\":\"white\"}},\"type\":\"table\"}],\"barpolar\":[{\"marker\":{\"line\":{\"color\":\"#E5ECF6\",\"width\":0.5},\"pattern\":{\"fillmode\":\"overlay\",\"size\":10,\"solidity\":0.2}},\"type\":\"barpolar\"}],\"pie\":[{\"automargin\":true,\"type\":\"pie\"}]},\"layout\":{\"autotypenumbers\":\"strict\",\"colorway\":[\"#636efa\",\"#EF553B\",\"#00cc96\",\"#ab63fa\",\"#FFA15A\",\"#19d3f3\",\"#FF6692\",\"#B6E880\",\"#FF97FF\",\"#FECB52\"],\"font\":{\"color\":\"#2a3f5f\"},\"hovermode\":\"closest\",\"hoverlabel\":{\"align\":\"left\"},\"paper_bgcolor\":\"white\",\"plot_bgcolor\":\"#E5ECF6\",\"polar\":{\"bgcolor\":\"#E5ECF6\",\"angularaxis\":{\"gridcolor\":\"white\",\"linecolor\":\"white\",\"ticks\":\"\"},\"radialaxis\":{\"gridcolor\":\"white\",\"linecolor\":\"white\",\"ticks\":\"\"}},\"ternary\":{\"bgcolor\":\"#E5ECF6\",\"aaxis\":{\"gridcolor\":\"white\",\"linecolor\":\"white\",\"ticks\":\"\"},\"baxis\":{\"gridcolor\":\"white\",\"linecolor\":\"white\",\"ticks\":\"\"},\"caxis\":{\"gridcolor\":\"white\",\"linecolor\":\"white\",\"ticks\":\"\"}},\"coloraxis\":{\"colorbar\":{\"outlinewidth\":0,\"ticks\":\"\"}},\"colorscale\":{\"sequential\":[[0.0,\"#0d0887\"],[0.1111111111111111,\"#46039f\"],[0.2222222222222222,\"#7201a8\"],[0.3333333333333333,\"#9c179e\"],[0.4444444444444444,\"#bd3786\"],[0.5555555555555556,\"#d8576b\"],[0.6666666666666666,\"#ed7953\"],[0.7777777777777778,\"#fb9f3a\"],[0.8888888888888888,\"#fdca26\"],[1.0,\"#f0f921\"]],\"sequentialminus\":[[0.0,\"#0d0887\"],[0.1111111111111111,\"#46039f\"],[0.2222222222222222,\"#7201a8\"],[0.3333333333333333,\"#9c179e\"],[0.4444444444444444,\"#bd3786\"],[0.5555555555555556,\"#d8576b\"],[0.6666666666666666,\"#ed7953\"],[0.7777777777777778,\"#fb9f3a\"],[0.8888888888888888,\"#fdca26\"],[1.0,\"#f0f921\"]],\"diverging\":[[0,\"#8e0152\"],[0.1,\"#c51b7d\"],[0.2,\"#de77ae\"],[0.3,\"#f1b6da\"],[0.4,\"#fde0ef\"],[0.5,\"#f7f7f7\"],[0.6,\"#e6f5d0\"],[0.7,\"#b8e186\"],[0.8,\"#7fbc41\"],[0.9,\"#4d9221\"],[1,\"#276419\"]]},\"xaxis\":{\"gridcolor\":\"white\",\"linecolor\":\"white\",\"ticks\":\"\",\"title\":{\"standoff\":15},\"zerolinecolor\":\"white\",\"automargin\":true,\"zerolinewidth\":2},\"yaxis\":{\"gridcolor\":\"white\",\"linecolor\":\"white\",\"ticks\":\"\",\"title\":{\"standoff\":15},\"zerolinecolor\":\"white\",\"automargin\":true,\"zerolinewidth\":2},\"scene\":{\"xaxis\":{\"backgroundcolor\":\"#E5ECF6\",\"gridcolor\":\"white\",\"linecolor\":\"white\",\"showbackground\":true,\"ticks\":\"\",\"zerolinecolor\":\"white\",\"gridwidth\":2},\"yaxis\":{\"backgroundcolor\":\"#E5ECF6\",\"gridcolor\":\"white\",\"linecolor\":\"white\",\"showbackground\":true,\"ticks\":\"\",\"zerolinecolor\":\"white\",\"gridwidth\":2},\"zaxis\":{\"backgroundcolor\":\"#E5ECF6\",\"gridcolor\":\"white\",\"linecolor\":\"white\",\"showbackground\":true,\"ticks\":\"\",\"zerolinecolor\":\"white\",\"gridwidth\":2}},\"shapedefaults\":{\"line\":{\"color\":\"#2a3f5f\"}},\"annotationdefaults\":{\"arrowcolor\":\"#2a3f5f\",\"arrowhead\":0,\"arrowwidth\":1},\"geo\":{\"bgcolor\":\"white\",\"landcolor\":\"#E5ECF6\",\"subunitcolor\":\"white\",\"showland\":true,\"showlakes\":true,\"lakecolor\":\"white\"},\"title\":{\"x\":0.05},\"mapbox\":{\"style\":\"light\"}}},\"xaxis\":{\"anchor\":\"y\",\"domain\":[0.0,1.0],\"matches\":\"x25\",\"showticklabels\":false,\"tickfont\":{\"size\":10},\"type\":\"category\"},\"yaxis\":{\"anchor\":\"x\",\"domain\":[0.9629629629629627,0.9999999999999998],\"tickfont\":{\"size\":10},\"type\":\"category\"},\"xaxis2\":{\"anchor\":\"y2\",\"domain\":[0.0,1.0],\"matches\":\"x25\",\"showticklabels\":false,\"tickfont\":{\"size\":10},\"type\":\"category\"},\"yaxis2\":{\"anchor\":\"x2\",\"domain\":[0.8888888888888886,0.9629629629629627],\"tickfont\":{\"size\":10},\"type\":\"category\"},\"xaxis3\":{\"anchor\":\"y3\",\"domain\":[0.0,1.0],\"matches\":\"x25\",\"showticklabels\":false,\"tickfont\":{\"size\":10},\"type\":\"category\"},\"yaxis3\":{\"anchor\":\"x3\",\"domain\":[0.8518518518518516,0.8888888888888886],\"tickfont\":{\"size\":10},\"type\":\"category\"},\"xaxis4\":{\"anchor\":\"y4\",\"domain\":[0.0,1.0],\"matches\":\"x25\",\"showticklabels\":false,\"tickfont\":{\"size\":10},\"type\":\"category\"},\"yaxis4\":{\"anchor\":\"x4\",\"domain\":[0.8148148148148147,0.8518518518518516],\"tickfont\":{\"size\":10},\"type\":\"category\"},\"xaxis5\":{\"anchor\":\"y5\",\"domain\":[0.0,1.0],\"matches\":\"x25\",\"showticklabels\":false,\"tickfont\":{\"size\":10},\"type\":\"category\"},\"yaxis5\":{\"anchor\":\"x5\",\"domain\":[0.7777777777777777,0.8148148148148147],\"tickfont\":{\"size\":10},\"type\":\"category\"},\"xaxis6\":{\"anchor\":\"y6\",\"domain\":[0.0,1.0],\"matches\":\"x25\",\"showticklabels\":false,\"tickfont\":{\"size\":10},\"type\":\"category\"},\"yaxis6\":{\"anchor\":\"x6\",\"domain\":[0.7407407407407406,0.7777777777777777],\"tickfont\":{\"size\":10},\"type\":\"category\"},\"xaxis7\":{\"anchor\":\"y7\",\"domain\":[0.0,1.0],\"matches\":\"x25\",\"showticklabels\":false,\"tickfont\":{\"size\":10},\"type\":\"category\"},\"yaxis7\":{\"anchor\":\"x7\",\"domain\":[0.6666666666666665,0.7407407407407406],\"tickfont\":{\"size\":10},\"type\":\"category\"},\"xaxis8\":{\"anchor\":\"y8\",\"domain\":[0.0,1.0],\"matches\":\"x25\",\"showticklabels\":false,\"tickfont\":{\"size\":10},\"type\":\"category\"},\"yaxis8\":{\"anchor\":\"x8\",\"domain\":[0.6296296296296295,0.6666666666666665],\"tickfont\":{\"size\":10},\"type\":\"category\"},\"xaxis9\":{\"anchor\":\"y9\",\"domain\":[0.0,1.0],\"matches\":\"x25\",\"showticklabels\":false,\"tickfont\":{\"size\":10},\"type\":\"category\"},\"yaxis9\":{\"anchor\":\"x9\",\"domain\":[0.5925925925925926,0.6296296296296295],\"tickfont\":{\"size\":10},\"type\":\"category\"},\"xaxis10\":{\"anchor\":\"y10\",\"domain\":[0.0,1.0],\"matches\":\"x25\",\"showticklabels\":false,\"tickfont\":{\"size\":10},\"type\":\"category\"},\"yaxis10\":{\"anchor\":\"x10\",\"domain\":[0.5555555555555556,0.5925925925925926],\"tickfont\":{\"size\":10},\"type\":\"category\"},\"xaxis11\":{\"anchor\":\"y11\",\"domain\":[0.0,1.0],\"matches\":\"x25\",\"showticklabels\":false,\"tickfont\":{\"size\":10},\"type\":\"category\"},\"yaxis11\":{\"anchor\":\"x11\",\"domain\":[0.5185185185185185,0.5555555555555556],\"tickfont\":{\"size\":10},\"type\":\"category\"},\"xaxis12\":{\"anchor\":\"y12\",\"domain\":[0.0,1.0],\"matches\":\"x25\",\"showticklabels\":false,\"tickfont\":{\"size\":10},\"type\":\"category\"},\"yaxis12\":{\"anchor\":\"x12\",\"domain\":[0.48148148148148145,0.5185185185185185],\"tickfont\":{\"size\":10},\"type\":\"category\"},\"xaxis13\":{\"anchor\":\"y13\",\"domain\":[0.0,1.0],\"matches\":\"x25\",\"showticklabels\":false,\"tickfont\":{\"size\":10},\"type\":\"category\"},\"yaxis13\":{\"anchor\":\"x13\",\"domain\":[0.4444444444444444,0.48148148148148145],\"tickfont\":{\"size\":10},\"type\":\"category\"},\"xaxis14\":{\"anchor\":\"y14\",\"domain\":[0.0,1.0],\"matches\":\"x25\",\"showticklabels\":false,\"tickfont\":{\"size\":10},\"type\":\"category\"},\"yaxis14\":{\"anchor\":\"x14\",\"domain\":[0.4074074074074074,0.4444444444444444],\"tickfont\":{\"size\":10},\"type\":\"category\"},\"xaxis15\":{\"anchor\":\"y15\",\"domain\":[0.0,1.0],\"matches\":\"x25\",\"showticklabels\":false,\"tickfont\":{\"size\":10},\"type\":\"category\"},\"yaxis15\":{\"anchor\":\"x15\",\"domain\":[0.37037037037037035,0.4074074074074074],\"tickfont\":{\"size\":10},\"type\":\"category\"},\"xaxis16\":{\"anchor\":\"y16\",\"domain\":[0.0,1.0],\"matches\":\"x25\",\"showticklabels\":false,\"tickfont\":{\"size\":10},\"type\":\"category\"},\"yaxis16\":{\"anchor\":\"x16\",\"domain\":[0.3333333333333333,0.37037037037037035],\"tickfont\":{\"size\":10},\"type\":\"category\"},\"xaxis17\":{\"anchor\":\"y17\",\"domain\":[0.0,1.0],\"matches\":\"x25\",\"showticklabels\":false,\"tickfont\":{\"size\":10},\"type\":\"category\"},\"yaxis17\":{\"anchor\":\"x17\",\"domain\":[0.2962962962962963,0.3333333333333333],\"tickfont\":{\"size\":10},\"type\":\"category\"},\"xaxis18\":{\"anchor\":\"y18\",\"domain\":[0.0,1.0],\"matches\":\"x25\",\"showticklabels\":false,\"tickfont\":{\"size\":10},\"type\":\"category\"},\"yaxis18\":{\"anchor\":\"x18\",\"domain\":[0.25925925925925924,0.2962962962962963],\"tickfont\":{\"size\":10},\"type\":\"category\"},\"xaxis19\":{\"anchor\":\"y19\",\"domain\":[0.0,1.0],\"matches\":\"x25\",\"showticklabels\":false,\"tickfont\":{\"size\":10},\"type\":\"category\"},\"yaxis19\":{\"anchor\":\"x19\",\"domain\":[0.2222222222222222,0.25925925925925924],\"tickfont\":{\"size\":10},\"type\":\"category\"},\"xaxis20\":{\"anchor\":\"y20\",\"domain\":[0.0,1.0],\"matches\":\"x25\",\"showticklabels\":false,\"tickfont\":{\"size\":10},\"type\":\"category\"},\"yaxis20\":{\"anchor\":\"x20\",\"domain\":[0.18518518518518517,0.2222222222222222],\"tickfont\":{\"size\":10},\"type\":\"category\"},\"xaxis21\":{\"anchor\":\"y21\",\"domain\":[0.0,1.0],\"matches\":\"x25\",\"showticklabels\":false,\"tickfont\":{\"size\":10},\"type\":\"category\"},\"yaxis21\":{\"anchor\":\"x21\",\"domain\":[0.14814814814814814,0.18518518518518517],\"tickfont\":{\"size\":10},\"type\":\"category\"},\"xaxis22\":{\"anchor\":\"y22\",\"domain\":[0.0,1.0],\"matches\":\"x25\",\"showticklabels\":false,\"tickfont\":{\"size\":10},\"type\":\"category\"},\"yaxis22\":{\"anchor\":\"x22\",\"domain\":[0.1111111111111111,0.14814814814814814],\"tickfont\":{\"size\":10},\"type\":\"category\"},\"xaxis23\":{\"anchor\":\"y23\",\"domain\":[0.0,1.0],\"matches\":\"x25\",\"showticklabels\":false,\"tickfont\":{\"size\":10},\"type\":\"category\"},\"yaxis23\":{\"anchor\":\"x23\",\"domain\":[0.07407407407407407,0.1111111111111111],\"tickfont\":{\"size\":10},\"type\":\"category\"},\"xaxis24\":{\"anchor\":\"y24\",\"domain\":[0.0,1.0],\"matches\":\"x25\",\"showticklabels\":false,\"tickfont\":{\"size\":10},\"type\":\"category\"},\"yaxis24\":{\"anchor\":\"x24\",\"domain\":[0.037037037037037035,0.07407407407407407],\"tickfont\":{\"size\":10},\"type\":\"category\"},\"xaxis25\":{\"anchor\":\"y25\",\"domain\":[0.0,1.0],\"tickfont\":{\"size\":10},\"type\":\"category\"},\"yaxis25\":{\"anchor\":\"x25\",\"domain\":[0.0,0.037037037037037035],\"tickfont\":{\"size\":10},\"type\":\"category\"},\"annotations\":[{\"font\":{\"size\":16},\"showarrow\":false,\"text\":\"Periods Since Joining Cohort\",\"x\":0.5,\"xanchor\":\"center\",\"xref\":\"paper\",\"y\":0,\"yanchor\":\"top\",\"yref\":\"paper\",\"yshift\":-30},{\"align\":\"left\",\"font\":{\"size\":12},\"showarrow\":false,\"text\":\"\\n    The <b><span style='color: purple'>May 2021</span></b> cohort has continued to show<br>\\n    strong retention as those customers reach<br>\\n    the 2 year mark.<br>\\n    <br>\\n    Conversely, the <b><span style='color: red'>October 2021</span></b> cohort saw a large reduction in<br>\\n    revenue in month 1. Efforts have been made to upsell remaining<br>\\n    customers but so far only half of initial revenue has been recovered.\\n    \",\"x\":1.05,\"xref\":\"paper\",\"y\":0.1,\"yref\":\"paper\"}],\"uniformtext\":{\"minsize\":6,\"mode\":\"hide\"},\"margin\":{\"pad\":5},\"font\":{\"size\":10},\"title\":{\"font\":{\"size\":20},\"text\":\"Last 25 Periods MRR\",\"x\":0.5},\"plot_bgcolor\":\"white\",\"shapes\":[{\"line\":{\"color\":\"purple\",\"width\":2},\"type\":\"rect\",\"x0\":-0.09,\"x1\":0.96,\"xref\":\"paper\",\"y0\":0.96,\"y1\":0.888,\"yref\":\"paper\"},{\"line\":{\"color\":\"red\",\"width\":2},\"type\":\"rect\",\"x0\":-0.09,\"x1\":0.76,\"xref\":\"paper\",\"y0\":0.74,\"y1\":0.6679999999999999,\"yref\":\"paper\"}]},                        {\"responsive\": true}                    ).then(function(){\n",
       "                            \n",
       "var gd = document.getElementById('ae003f69-2a83-415b-8589-e381823031a9');\n",
       "var x = new MutationObserver(function (mutations, observer) {{\n",
       "        var display = window.getComputedStyle(gd).display;\n",
       "        if (!display || display === 'none') {{\n",
       "            console.log([gd, 'removed!']);\n",
       "            Plotly.purge(gd);\n",
       "            observer.disconnect();\n",
       "        }}\n",
       "}});\n",
       "\n",
       "// Listen for the removal of the full notebook cells\n",
       "var notebookContainer = gd.closest('#notebook-container');\n",
       "if (notebookContainer) {{\n",
       "    x.observe(notebookContainer, {childList: true});\n",
       "}}\n",
       "\n",
       "// Listen for the clearing of the current output cell\n",
       "var outputEl = gd.closest('.output');\n",
       "if (outputEl) {{\n",
       "    x.observe(outputEl, {childList: true});\n",
       "}}\n",
       "\n",
       "                        })                };                });            </script>        </div>"
      ]
     },
     "metadata": {},
     "output_type": "display_data"
    }
   ],
   "source": [
    "annotation_dict = {\n",
    "    \"2021-05-31\": {\"color\": \"purple\", \"adj_y_start\": 0, \"adj_y_end\": 1.8},\n",
    "    \"2021-10-31\": {\"color\": \"red\", \"adj_y_start\": 0.5, \"adj_y_end\": 2.3}\n",
    "}\n",
    "\n",
    "z_mrr = cohort_pivot_mrr.tail(date_periods).loc[:, x].values\n",
    "\n",
    "fig = make_subplots(\n",
    "    rows=len(y), cols=1,\n",
    "    row_heights=[\n",
    "        2 if el in annotation_dict.keys() else 1 for el in y\n",
    "    ],\n",
    "    vertical_spacing=0,\n",
    "    shared_xaxes=True,\n",
    "    shared_yaxes=True,\n",
    "    column_titles=x.tolist(),\n",
    "    x_title=\"Periods Since Joining Cohort\"\n",
    ")\n",
    "\n",
    "for i, cohort in enumerate(y):\n",
    "    fig.add_trace(\n",
    "        go.Heatmap(\n",
    "            x=x,\n",
    "            y=[y[i]]*len(x),\n",
    "            z=z_mrr[i]/z_mrr[i][0],\n",
    "            hoverongaps=False,\n",
    "            texttemplate=\"%{z:.0%}\",\n",
    "            hovertemplate=\"Cohort End Date: <b>%{y}</b> <br>\"\n",
    "            \"Months Since Joining Cohort: <b>%{x}</b> <br>\"\n",
    "            \"Retained MRR: <b>%{z:.2%}</b> <br>\"\n",
    "            \"<extra></extra>\",\n",
    "            colorscale=\"greens\",\n",
    "            zmin=0.5,\n",
    "            zmid=1,\n",
    "            zmax=1.5,\n",
    "            showscale=False,\n",
    "            showlegend=False,\n",
    "        ),\n",
    "        row=i+1,\n",
    "        col=1\n",
    "    )\n",
    "\n",
    "fig.update_yaxes(\n",
    "    type=\"category\",\n",
    "    tickfont={\"size\": 10},\n",
    ")\n",
    "fig.update_xaxes(\n",
    "    type=\"category\",\n",
    "    tickfont={\"size\": 10}\n",
    ")\n",
    "\n",
    "fig.update_layout(\n",
    "    plot_bgcolor=\"white\",\n",
    "    uniformtext_minsize=6,\n",
    "    uniformtext_mode='hide',\n",
    "    margin_pad=5,\n",
    "    font={\n",
    "        \"size\": 10\n",
    "    },\n",
    "    title={\n",
    "        \"text\": \"Last 25 Periods MRR\",\n",
    "        \"font\": {\"size\": 20},\n",
    "        \"x\": 0.5\n",
    "    }\n",
    ")\n",
    "\n",
    "for k, v in annotation_dict.items():\n",
    "    x_start = -0.09\n",
    "    x_end = len(x) - np.where(y == k)[0][0]\n",
    "    y_start = len(x) - np.where(y == k)[0][0] - \\\n",
    "        annotation_dict.get(k).get(\"adj_y_start\")\n",
    "    y_end = len(x) - np.where(y == k)[0][0] - \\\n",
    "        annotation_dict.get(k).get(\"adj_y_end\")\n",
    "\n",
    "    fig.add_shape(\n",
    "        type=\"rect\",\n",
    "        xref=\"paper\",\n",
    "        yref=\"paper\",\n",
    "        x0=x_start,\n",
    "        x1=x_end / len(x),\n",
    "        y0=y_start / len(x),\n",
    "        y1=y_end / len(x),\n",
    "        line=dict(\n",
    "            color=annotation_dict.get(k).get(\"color\"),\n",
    "            width=2,\n",
    "        ),\n",
    "    )\n",
    "\n",
    "fig.add_annotation(\n",
    "    text=\"\"\"\n",
    "    The <b><span style='color: purple'>May 2021</span></b> cohort has continued to show<br>\n",
    "    strong retention as those customers reach<br>\n",
    "    the 2 year mark.<br>\n",
    "    <br>\n",
    "    Conversely, the <b><span style='color: red'>October 2021</span></b> cohort saw a large reduction in<br>\n",
    "    revenue in month 1. Efforts have been made to upsell remaining<br>\n",
    "    customers but so far only half of initial revenue has been recovered.\n",
    "    \"\"\",\n",
    "    xref=\"paper\", yref=\"paper\",\n",
    "    x=1.05, y=0.1,\n",
    "    font_size=12,\n",
    "    align=\"left\",\n",
    "    showarrow=False\n",
    ")\n",
    "\n",
    "fig.show()"
   ]
  },
  {
   "cell_type": "markdown",
   "id": "d33eb58c",
   "metadata": {},
   "source": [
    "## Write to an HTML file if you want"
   ]
  },
  {
   "cell_type": "code",
   "execution_count": 42,
   "id": "c0d21245",
   "metadata": {
    "ExecuteTime": {
     "end_time": "2023-05-25T20:37:42.635436Z",
     "start_time": "2023-05-25T20:37:42.630474Z"
    }
   },
   "outputs": [],
   "source": [
    "fig.write_html(\n",
    "    \"cohort_chart_output.html\",\n",
    "    full_html=False,\n",
    "    include_plotlyjs='cdn'\n",
    ")"
   ]
  },
  {
   "cell_type": "code",
   "execution_count": null,
   "id": "e9110509",
   "metadata": {},
   "outputs": [],
   "source": []
  }
 ],
 "metadata": {
  "kernelspec": {
   "display_name": "sfdc",
   "language": "python",
   "name": "sfdc"
  },
  "language_info": {
   "codemirror_mode": {
    "name": "ipython",
    "version": 3
   },
   "file_extension": ".py",
   "mimetype": "text/x-python",
   "name": "python",
   "nbconvert_exporter": "python",
   "pygments_lexer": "ipython3",
   "version": "3.10.5"
  },
  "toc": {
   "base_numbering": 1,
   "nav_menu": {},
   "number_sections": true,
   "sideBar": true,
   "skip_h1_title": false,
   "title_cell": "Table of Contents",
   "title_sidebar": "Contents",
   "toc_cell": false,
   "toc_position": {},
   "toc_section_display": true,
   "toc_window_display": true
  },
  "varInspector": {
   "cols": {
    "lenName": 16,
    "lenType": 16,
    "lenVar": 40
   },
   "kernels_config": {
    "python": {
     "delete_cmd_postfix": "",
     "delete_cmd_prefix": "del ",
     "library": "var_list.py",
     "varRefreshCmd": "print(var_dic_list())"
    },
    "r": {
     "delete_cmd_postfix": ") ",
     "delete_cmd_prefix": "rm(",
     "library": "var_list.r",
     "varRefreshCmd": "cat(var_dic_list()) "
    }
   },
   "types_to_exclude": [
    "module",
    "function",
    "builtin_function_or_method",
    "instance",
    "_Feature"
   ],
   "window_display": false
  }
 },
 "nbformat": 4,
 "nbformat_minor": 5
}
